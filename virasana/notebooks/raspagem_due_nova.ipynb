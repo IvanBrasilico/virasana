{
 "cells": [
  {
   "cell_type": "code",
   "execution_count": 1,
   "metadata": {
    "ExecuteTime": {
     "end_time": "2019-09-10T13:24:22.734834Z",
     "start_time": "2019-09-10T13:24:13.849619Z"
    }
   },
   "outputs": [
    {
     "name": "stderr",
     "output_type": "stream",
     "text": [
      "C:\\Users\\25052288840\\Anaconda3\\lib\\site-packages\\requests\\__init__.py:89: RequestsDependencyWarning: urllib3 (1.26.12) or chardet (3.0.4) doesn't match a supported version!\n",
      "  warnings.warn(\"urllib3 ({}) or chardet ({}) doesn't match a supported \"\n",
      "2022-11-03 10:46:05,514 ajna         INFO     Configuração de log efetuada\n"
     ]
    },
    {
     "name": "stdout",
     "output_type": "stream",
     "text": [
      "Fazendo log de erros e alertas no arquivo  ../../../ajna_docs/commons\\ajna_commons\\flask\\error.log\n",
      "Fazendo log de atividade no arquivo  ../../../ajna_docs/commons\\ajna_commons\\flask\\access.log\n"
     ]
    }
   ],
   "source": [
    "import json\n",
    "import requests\n",
    "import sys\n",
    "import warnings\n",
    "from datetime import datetime, time, timedelta\n",
    "from html import escape\n",
    "from selenium import webdriver\n",
    "from selenium.webdriver.common.by import By\n",
    "#from seleniumwire import webdriver\n",
    "\n",
    "GECKO_PATH = 'C:\\\\Users\\\\25052288840\\\\Downloads\\\\chromedriver.exe'\n",
    "sys.path.insert(0, '../../../ajna_docs/commons/')\n",
    "sys.path.insert(0, '../../../commons/')\n",
    "sys.path.insert(0, '../../../virasana/')\n",
    "from virasana.integracao.due import raspa_due\n",
    "\n",
    "warnings.simplefilter(\"ignore\")\n",
    "\n",
    "VIRASANA_URL = \"https://ajna1.rfoc.srf/virasana/\""
   ]
  },
  {
   "cell_type": "code",
   "execution_count": 2,
   "metadata": {},
   "outputs": [
    {
     "name": "stdout",
     "output_type": "stream",
     "text": [
      "2022-11-02  00:00:00 2022-11-02 23:59:59\n"
     ]
    }
   ],
   "source": [
    "ontem = datetime.today() - timedelta(days=1)\n",
    "datainicial = datetime.strftime(datetime.combine(ontem, time.min), '%Y-%m-%d  %H:%M:%S')\n",
    "datafinal = datetime.strftime(datetime.combine(ontem, time.max), '%Y-%m-%d %H:%M:%S')\n",
    "print(datainicial, datafinal)"
   ]
  },
  {
   "cell_type": "code",
   "execution_count": 3,
   "metadata": {},
   "outputs": [],
   "source": [
    "def login():\n",
    "    driver.get('https://portalunico.siscomex.gov.br/')\n",
    "    id_governo = driver.find_element(By.XPATH, '/html/body/div/div[1]/div[2]/div[1]/div[5]/div[1]')\n",
    "    id_governo.click()\n",
    "    span_rfb = driver.find_element(By.XPATH, '/html/body/div/div[1]/div[2]/div[1]/div[5]/div[2]/ul/li[1]')\n",
    "    span_rfb.click()\n",
    "    id_login = driver.find_element(By.XPATH, '/html/body/div/div[1]/div[4]/div[2]')\n",
    "    id_login.click()"
   ]
  },
  {
   "cell_type": "code",
   "execution_count": 4,
   "metadata": {},
   "outputs": [],
   "source": [
    "def get_due_posacd(numero_container: str)-> str:\n",
    "    driver.get('https://portalunico.siscomex.gov.br/cct/#/consulta-estoque-pos-acd')\n",
    "    driver.refresh();\n",
    "    option_container=driver.find_element(By.XPATH,\n",
    "     '/html/body/plt-layout/div[1]/div[5]/div/div/pucx-tela-consulta/div/div[2]/div/form/div[1]/div/div/span/div/span[4]/label')\n",
    "    option_container.click()\n",
    "    txt_container = driver.find_element(By.XPATH,\n",
    "     '/html/body/plt-layout/div[1]/div[5]/div/div/pucx-tela-consulta/div/div[2]/div/form/div[2]/div/div/div/div/span/pucx-container/input')\n",
    "    txt_container.send_keys(numero_container)\n",
    "    btn_consulta = driver.find_element(By.XPATH, \n",
    "     '/html/body/plt-layout/div[1]/div[5]/div/div/pucx-tela-consulta/div/div[2]/div/form/div[3]/button[1]')\n",
    "    btn_consulta.click()\n",
    "    div_feedback = driver.find_element(By.XPATH, '/html/body/plt-layout/div[1]/div[3]/div/div')\n",
    "    # print(div_feedback.text)\n",
    "    div_due = driver.find_element(By.XPATH, \n",
    "     '/html/body/plt-layout/div[1]/div[5]/div/div/div/div[2]/pucx-grid/div/div/div/div[1]/div[1]/div[2]/div/div/div[1]/div[3]/div')\n",
    "    return div_due.text"
   ]
  },
  {
   "cell_type": "code",
   "execution_count": 5,
   "metadata": {},
   "outputs": [
    {
     "name": "stdout",
     "output_type": "stream",
     "text": [
      "Conectando virasana\n",
      "0 Contêineres recuperados.\n",
      "Conectando virasana\n",
      "1 Contêineres recuperados.\n",
      "Conectando virasana\n",
      "1035 Contêineres recuperados.\n"
     ]
    }
   ],
   "source": [
    "conteineres_vazios_ids = raspa_due.raspa_containers_vazios_sem_due(datainicial, datafinal, virasana_url=VIRASANA_URL)\n",
    "conteineres_lce_ids = raspa_due.raspa_containers_sem_due(datainicial, datafinal, 'lce', virasana_url=VIRASANA_URL)\n",
    "conteineres_semnada_ids = raspa_due.raspa_containers_sem_due(datainicial, datafinal, '', virasana_url=VIRASANA_URL)\n"
   ]
  },
  {
   "cell_type": "code",
   "execution_count": 10,
   "metadata": {},
   "outputs": [],
   "source": [
    "driver = webdriver.Chrome(GECKO_PATH)\n",
    "driver.implicitly_wait(10)\n",
    "login()\n",
    "driver.implicitly_wait(3)"
   ]
  },
  {
   "cell_type": "code",
   "execution_count": 11,
   "metadata": {
    "scrolled": true
   },
   "outputs": [
    {
     "name": "stdout",
     "output_type": "stream",
     "text": [
      "CMAU0805735 22BR0018752061\n",
      "201\n",
      "{\"status\":\"DUEs inseridas/atualizadas\"}\n",
      "\n"
     ]
    }
   ],
   "source": [
    "from selenium.common.exceptions import NoSuchElementException\n",
    "def salva_due_conteineres(conteineres_ids):\n",
    "    for container, _id in conteineres_ids.items():\n",
    "        try:\n",
    "            due = get_due_posacd(container)\n",
    "            print(container, due)\n",
    "            pacote_carregamento = {_id: [{'numero': due}] }\n",
    "            r = requests.post(VIRASANA_URL + \"dues/update\", json=pacote_carregamento, verify=False)\n",
    "            print(r.status_code)\n",
    "            print(r.text)\n",
    "        except NoSuchElementException:\n",
    "            print(f'Contêiner {container} não localizado')\n",
    "\n",
    "salva_due_conteineres(conteineres_lce_ids)"
   ]
  },
  {
   "cell_type": "code",
   "execution_count": 8,
   "metadata": {},
   "outputs": [],
   "source": [
    "salva_due_conteineres(conteineres_vazios_ids)"
   ]
  },
  {
   "cell_type": "code",
   "execution_count": 9,
   "metadata": {},
   "outputs": [
    {
     "name": "stdout",
     "output_type": "stream",
     "text": [
      "Contêiner ZIMU1393827 não localizado\n",
      "Contêiner ERRO não localizado\n"
     ]
    },
    {
     "ename": "AttributeError",
     "evalue": "'NoneType' object has no attribute 'click'",
     "output_type": "error",
     "traceback": [
      "\u001b[1;31m---------------------------------------------------------------------------\u001b[0m",
      "\u001b[1;31mAttributeError\u001b[0m                            Traceback (most recent call last)",
      "\u001b[1;32m<ipython-input-9-fc53740a3532>\u001b[0m in \u001b[0;36m<module>\u001b[1;34m\u001b[0m\n\u001b[1;32m----> 1\u001b[1;33m \u001b[0msalva_due_conteineres\u001b[0m\u001b[1;33m(\u001b[0m\u001b[0mconteineres_semnada_ids\u001b[0m\u001b[1;33m)\u001b[0m\u001b[1;33m\u001b[0m\u001b[1;33m\u001b[0m\u001b[0m\n\u001b[0m",
      "\u001b[1;32m<ipython-input-7-18927e5ec1c2>\u001b[0m in \u001b[0;36msalva_due_conteineres\u001b[1;34m(conteineres_ids)\u001b[0m\n\u001b[0;32m      3\u001b[0m     \u001b[1;32mfor\u001b[0m \u001b[0mcontainer\u001b[0m\u001b[1;33m,\u001b[0m \u001b[0m_id\u001b[0m \u001b[1;32min\u001b[0m \u001b[0mconteineres_ids\u001b[0m\u001b[1;33m.\u001b[0m\u001b[0mitems\u001b[0m\u001b[1;33m(\u001b[0m\u001b[1;33m)\u001b[0m\u001b[1;33m:\u001b[0m\u001b[1;33m\u001b[0m\u001b[1;33m\u001b[0m\u001b[0m\n\u001b[0;32m      4\u001b[0m         \u001b[1;32mtry\u001b[0m\u001b[1;33m:\u001b[0m\u001b[1;33m\u001b[0m\u001b[1;33m\u001b[0m\u001b[0m\n\u001b[1;32m----> 5\u001b[1;33m             \u001b[0mdue\u001b[0m \u001b[1;33m=\u001b[0m \u001b[0mget_due_posacd\u001b[0m\u001b[1;33m(\u001b[0m\u001b[0mcontainer\u001b[0m\u001b[1;33m)\u001b[0m\u001b[1;33m\u001b[0m\u001b[1;33m\u001b[0m\u001b[0m\n\u001b[0m\u001b[0;32m      6\u001b[0m             \u001b[0mprint\u001b[0m\u001b[1;33m(\u001b[0m\u001b[0mcontainer\u001b[0m\u001b[1;33m,\u001b[0m \u001b[0mdue\u001b[0m\u001b[1;33m)\u001b[0m\u001b[1;33m\u001b[0m\u001b[1;33m\u001b[0m\u001b[0m\n\u001b[0;32m      7\u001b[0m             \u001b[0mpacote_carregamento\u001b[0m \u001b[1;33m=\u001b[0m \u001b[1;33m{\u001b[0m\u001b[0m_id\u001b[0m\u001b[1;33m:\u001b[0m \u001b[1;33m[\u001b[0m\u001b[1;33m{\u001b[0m\u001b[1;34m'numero'\u001b[0m\u001b[1;33m:\u001b[0m \u001b[0mdue\u001b[0m\u001b[1;33m}\u001b[0m\u001b[1;33m]\u001b[0m \u001b[1;33m}\u001b[0m\u001b[1;33m\u001b[0m\u001b[1;33m\u001b[0m\u001b[0m\n",
      "\u001b[1;32m<ipython-input-4-0059cf9f302a>\u001b[0m in \u001b[0;36mget_due_posacd\u001b[1;34m(numero_container)\u001b[0m\n\u001b[0;32m      4\u001b[0m     option_container=driver.find_element(By.XPATH,\n\u001b[0;32m      5\u001b[0m      '/html/body/plt-layout/div[1]/div[5]/div/div/pucx-tela-consulta/div/div[2]/div/form/div[1]/div/div/span/div/span[4]/label')\n\u001b[1;32m----> 6\u001b[1;33m     \u001b[0moption_container\u001b[0m\u001b[1;33m.\u001b[0m\u001b[0mclick\u001b[0m\u001b[1;33m(\u001b[0m\u001b[1;33m)\u001b[0m\u001b[1;33m\u001b[0m\u001b[1;33m\u001b[0m\u001b[0m\n\u001b[0m\u001b[0;32m      7\u001b[0m     txt_container = driver.find_element(By.XPATH,\n\u001b[0;32m      8\u001b[0m      '/html/body/plt-layout/div[1]/div[5]/div/div/pucx-tela-consulta/div/div[2]/div/form/div[2]/div/div/div/div/span/pucx-container/input')\n",
      "\u001b[1;31mAttributeError\u001b[0m: 'NoneType' object has no attribute 'click'"
     ]
    }
   ],
   "source": [
    "salva_due_conteineres(conteineres_semnada_ids)"
   ]
  },
  {
   "cell_type": "code",
   "execution_count": null,
   "metadata": {},
   "outputs": [],
   "source": []
  }
 ],
 "metadata": {
  "kernelspec": {
   "display_name": "Python 3",
   "language": "python",
   "name": "python3"
  },
  "language_info": {
   "codemirror_mode": {
    "name": "ipython",
    "version": 3
   },
   "file_extension": ".py",
   "mimetype": "text/x-python",
   "name": "python",
   "nbconvert_exporter": "python",
   "pygments_lexer": "ipython3",
   "version": "3.8.5"
  }
 },
 "nbformat": 4,
 "nbformat_minor": 2
}
