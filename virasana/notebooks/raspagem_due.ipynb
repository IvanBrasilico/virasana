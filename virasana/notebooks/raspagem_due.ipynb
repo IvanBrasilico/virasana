{
 "cells": [
  {
   "cell_type": "code",
   "execution_count": 1,
   "metadata": {
    "ExecuteTime": {
     "end_time": "2019-09-10T13:24:22.734834Z",
     "start_time": "2019-09-10T13:24:13.849619Z"
    }
   },
   "outputs": [
    {
     "ename": "ModuleNotFoundError",
     "evalue": "No module named 'ajna_commons'",
     "output_type": "error",
     "traceback": [
      "\u001b[1;31m---------------------------------------------------------------------------\u001b[0m",
      "\u001b[1;31mModuleNotFoundError\u001b[0m                       Traceback (most recent call last)",
      "\u001b[1;32m<ipython-input-1-55b59b5182aa>\u001b[0m in \u001b[0;36m<module>\u001b[1;34m\u001b[0m\n\u001b[0;32m      8\u001b[0m \u001b[1;33m\u001b[0m\u001b[0m\n\u001b[0;32m      9\u001b[0m \u001b[1;33m\u001b[0m\u001b[0m\n\u001b[1;32m---> 10\u001b[1;33m \u001b[1;32mfrom\u001b[0m \u001b[0mvirasana\u001b[0m\u001b[1;33m.\u001b[0m\u001b[0mintegracao\u001b[0m\u001b[1;33m.\u001b[0m\u001b[0mdue\u001b[0m \u001b[1;32mimport\u001b[0m \u001b[0mraspa_due\u001b[0m\u001b[1;33m\u001b[0m\u001b[1;33m\u001b[0m\u001b[0m\n\u001b[0m\u001b[0;32m     11\u001b[0m \u001b[1;33m\u001b[0m\u001b[0m\n\u001b[0;32m     12\u001b[0m \u001b[0mVIRASANA_URL\u001b[0m \u001b[1;33m=\u001b[0m \u001b[1;34m\"http://localhost/virasana/\"\u001b[0m\u001b[1;33m\u001b[0m\u001b[1;33m\u001b[0m\u001b[0m\n",
      "\u001b[1;32m~\\PycharmProjects\\virasana\\virasana\\integracao\\__init__.py\u001b[0m in \u001b[0;36m<module>\u001b[1;34m\u001b[0m\n\u001b[0;32m     26\u001b[0m \u001b[1;32mfrom\u001b[0m \u001b[0mpymongo\u001b[0m\u001b[1;33m.\u001b[0m\u001b[0merrors\u001b[0m \u001b[1;32mimport\u001b[0m \u001b[0mOperationFailure\u001b[0m\u001b[1;33m\u001b[0m\u001b[1;33m\u001b[0m\u001b[0m\n\u001b[0;32m     27\u001b[0m \u001b[1;33m\u001b[0m\u001b[0m\n\u001b[1;32m---> 28\u001b[1;33m \u001b[1;32mfrom\u001b[0m \u001b[0majna_commons\u001b[0m\u001b[1;33m.\u001b[0m\u001b[0mflask\u001b[0m\u001b[1;33m.\u001b[0m\u001b[0mconf\u001b[0m \u001b[1;32mimport\u001b[0m \u001b[0mDATABASE\u001b[0m\u001b[1;33m,\u001b[0m \u001b[0mMONGODB_URI\u001b[0m\u001b[1;33m\u001b[0m\u001b[1;33m\u001b[0m\u001b[0m\n\u001b[0m\u001b[0;32m     29\u001b[0m \u001b[1;32mfrom\u001b[0m \u001b[0majna_commons\u001b[0m\u001b[1;33m.\u001b[0m\u001b[0mflask\u001b[0m\u001b[1;33m.\u001b[0m\u001b[0mlog\u001b[0m \u001b[1;32mimport\u001b[0m \u001b[0mlogger\u001b[0m\u001b[1;33m\u001b[0m\u001b[1;33m\u001b[0m\u001b[0m\n\u001b[0;32m     30\u001b[0m \u001b[1;32mfrom\u001b[0m \u001b[0majna_commons\u001b[0m\u001b[1;33m.\u001b[0m\u001b[0mflask\u001b[0m\u001b[1;33m.\u001b[0m\u001b[0muser\u001b[0m \u001b[1;32mimport\u001b[0m \u001b[0mDBUser\u001b[0m\u001b[1;33m\u001b[0m\u001b[1;33m\u001b[0m\u001b[0m\n",
      "\u001b[1;31mModuleNotFoundError\u001b[0m: No module named 'ajna_commons'"
     ]
    }
   ],
   "source": [
    "import json\n",
    "import requests\n",
    "import sys\n",
    "from datetime import datetime, time\n",
    "\n",
    "sys.path.insert(0, '../../../commons/')\n",
    "sys.path.insert(0, '../../../virasana/')\n",
    "\n",
    "\n",
    "from virasana.integracao.due import raspa_due\n",
    "\n",
    "VIRASANA_URL = \"http://localhost/virasana/\"\n",
    "VIRASANA_URL = \"https://10.68.64.12/virasana/\""
   ]
  },
  {
   "cell_type": "markdown",
   "metadata": {},
   "source": [
    "## Realizando consulta no MongoDB Gridfs do AJNA via API virasana"
   ]
  },
  {
   "cell_type": "code",
   "execution_count": null,
   "metadata": {
    "ExecuteTime": {
     "end_time": "2019-09-05T14:14:05.752925Z",
     "start_time": "2019-09-05T14:14:05.745268Z"
    }
   },
   "outputs": [],
   "source": [
    "diaapesquisar = datetime.today()\n",
    "diaapesquisar = datetime(2019, 11, 6)"
   ]
  },
  {
   "cell_type": "code",
   "execution_count": null,
   "metadata": {
    "ExecuteTime": {
     "end_time": "2019-09-05T14:25:14.408564Z",
     "start_time": "2019-09-05T14:25:14.392791Z"
    }
   },
   "outputs": [],
   "source": [
    "datainicial = datetime.strftime(datetime.combine(diaapesquisar, time.min), '%Y-%m-%d  %H:%M:%S')\n",
    "datafinal = datetime.strftime(datetime.combine(diaapesquisar, time.max), '%Y-%m-%d %H:%M:%S')\n",
    "print(datainicial, datafinal)"
   ]
  },
  {
   "cell_type": "code",
   "execution_count": 60,
   "metadata": {
    "ExecuteTime": {
     "end_time": "2019-09-05T14:38:57.106590Z",
     "start_time": "2019-09-05T14:38:56.903899Z"
    }
   },
   "outputs": [
    {
     "name": "stderr",
     "output_type": "stream",
     "text": [
      "c:\\users\\25052288840\\pycharmprojects\\ajna_docs\\virasana\\venv\\lib\\site-packages\\urllib3\\connectionpool.py:851: InsecureRequestWarning:\n",
      "\n",
      "Unverified HTTPS request is being made. Adding certificate verification is strongly advised. See: https://urllib3.readthedocs.io/en/latest/advanced-usage.html#ssl-warnings\n",
      "\n",
      "c:\\users\\25052288840\\pycharmprojects\\ajna_docs\\virasana\\venv\\lib\\site-packages\\urllib3\\connectionpool.py:851: InsecureRequestWarning:\n",
      "\n",
      "Unverified HTTPS request is being made. Adding certificate verification is strongly advised. See: https://urllib3.readthedocs.io/en/latest/advanced-usage.html#ssl-warnings\n",
      "\n"
     ]
    },
    {
     "name": "stdout",
     "output_type": "stream",
     "text": [
      "12\n",
      "1794\n"
     ]
    }
   ],
   "source": [
    "params = {'query': \n",
    "          { 'metadata.dataescaneamento': {'$gte': datainicial, '$lte': datafinal},\n",
    "            'metadata.contentType': 'image/jpeg',\n",
    "            'metadata.carga.manifesto.tipomanifesto': 'lce'\n",
    "          },\n",
    "          'projection': \n",
    "          {'metadata.numeroinformado': 1,\n",
    "           'metadata.dataescaneamento': 1}\n",
    "         }\n",
    "\n",
    "r = requests.post(VIRASANA_URL + \"grid_data\", json=params, verify=False)\n",
    "lista_lce = list(r.json())\n",
    "print(len(lista_lce))\n",
    "\n",
    "params['query']['metadata.carga.manifesto.tipomanifesto'] = None\n",
    "r = requests.post(VIRASANA_URL + \"grid_data\", json=params, verify=False)\n",
    "lista_null = list(r.json())\n",
    "print(len(lista_null))\n",
    "\n",
    "# print(r.url)\n",
    "# print(r.text)"
   ]
  },
  {
   "cell_type": "code",
   "execution_count": 61,
   "metadata": {},
   "outputs": [
    {
     "data": {
      "text/plain": [
       "[{'_id': '5dc31beacdd9fc3e8b8828a0',\n",
       "  'metadata': {'dataescaneamento': '2019-11-06 03:39:39',\n",
       "   'numeroinformado': 'MNBU3980129'}},\n",
       " {'_id': '5dc31bebcdd9fc3e8b8829ad',\n",
       "  'metadata': {'dataescaneamento': '2019-11-06 04:11:27',\n",
       "   'numeroinformado': 'MRKU9909998'}},\n",
       " {'_id': '5dc31bf5cdd9fc3e8b882c1c',\n",
       "  'metadata': {'dataescaneamento': '2019-11-06 04:42:16',\n",
       "   'numeroinformado': 'TCLU2385790'}},\n",
       " {'_id': '5dc31c0dcdd9fc3e8b88330f',\n",
       "  'metadata': {'dataescaneamento': '2019-11-06 07:03:30',\n",
       "   'numeroinformado': 'MSKU2319040'}},\n",
       " {'_id': '5dc31c0dcdd9fc3e8b883373',\n",
       "  'metadata': {'dataescaneamento': '2019-11-06 07:12:57',\n",
       "   'numeroinformado': 'MNBU3841632'}},\n",
       " {'_id': '5dc31c0dcdd9fc3e8b88336f',\n",
       "  'metadata': {'dataescaneamento': '2019-11-06 07:16:57',\n",
       "   'numeroinformado': 'MNBU0401157'}},\n",
       " {'_id': '5dc31c2ecdd9fc3e8b883b55',\n",
       "  'metadata': {'dataescaneamento': '2019-11-06 07:19:42',\n",
       "   'numeroinformado': 'CMAU1246605'}},\n",
       " {'_id': '5dc31c17cdd9fc3e8b883593',\n",
       "  'metadata': {'dataescaneamento': '2019-11-06 07:28:33',\n",
       "   'numeroinformado': 'SUDU6106982'}},\n",
       " {'_id': '5dc31c23cdd9fc3e8b8838f5',\n",
       "  'metadata': {'dataescaneamento': '2019-11-06 08:41:48',\n",
       "   'numeroinformado': 'MNBU0215996'}},\n",
       " {'_id': '5dc31c2dcdd9fc3e8b883ae9',\n",
       "  'metadata': {'dataescaneamento': '2019-11-06 09:01:41',\n",
       "   'numeroinformado': 'MNBU9051316'}},\n",
       " {'_id': '5dc31c2dcdd9fc3e8b883ae5',\n",
       "  'metadata': {'dataescaneamento': '2019-11-06 09:08:49',\n",
       "   'numeroinformado': 'MNBU3957900'}},\n",
       " {'_id': '5dc31c2dcdd9fc3e8b883a71',\n",
       "  'metadata': {'dataescaneamento': '2019-11-06 09:11:54',\n",
       "   'numeroinformado': 'PONU0079802'}}]"
      ]
     },
     "execution_count": 61,
     "metadata": {},
     "output_type": "execute_result"
    }
   ],
   "source": [
    "lista_lce"
   ]
  },
  {
   "cell_type": "code",
   "execution_count": 62,
   "metadata": {
    "ExecuteTime": {
     "end_time": "2019-09-05T14:39:27.594794Z",
     "start_time": "2019-09-05T14:39:27.588961Z"
    }
   },
   "outputs": [
    {
     "name": "stdout",
     "output_type": "stream",
     "text": [
      "{'MNBU3980129': '5dc31beacdd9fc3e8b8828a0', 'MRKU9909998': '5dc31bebcdd9fc3e8b8829ad', 'TCLU2385790': '5dc31bf5cdd9fc3e8b882c1c', 'MSKU2319040': '5dc31c0dcdd9fc3e8b88330f', 'MNBU3841632': '5dc31c0dcdd9fc3e8b883373', 'MNBU0401157': '5dc31c0dcdd9fc3e8b88336f', 'CMAU1246605': '5dc31c2ecdd9fc3e8b883b55', 'SUDU6106982': '5dc31c17cdd9fc3e8b883593', 'MNBU0215996': '5dc31c23cdd9fc3e8b8838f5', 'MNBU9051316': '5dc31c2dcdd9fc3e8b883ae9', 'MNBU3957900': '5dc31c2dcdd9fc3e8b883ae5', 'PONU0079802': '5dc31c2dcdd9fc3e8b883a71', 'TEMU3170006': '5dc31bc9cdd9fc3e8b881fd5', 'TGCU0230609': '5dc31bcacdd9fc3e8b8820ab', 'MRKU4476621': '5dc31bc8cdd9fc3e8b881f89', 'CCLU3502299': '5dc31bc7cdd9fc3e8b881e9d', 'TLLU4250703': '5dc31be9cdd9fc3e8b882794', 'VTGU1262054': '5dc31be9cdd9fc3e8b8827a0', 'DFSU7584893': '5dc31bcacdd9fc3e8b882077', 'FCIU2270601': '5dc31bcacdd9fc3e8b88207b', 'MSKU8466583': '5dc31bcacdd9fc3e8b882113', 'CAXU9276502': '5dc31bcacdd9fc3e8b88206b', 'SUDU8530259': '5dc31bcacdd9fc3e8b88212f', 'MSCU9290020': '5dc31bcacdd9fc3e8b88208f', 'CRLU3174516': '5dc31bcbcdd9fc3e8b882141', 'TCLU1520237': '5dc31bcacdd9fc3e8b8820df', 'GESU9334981': '5dc31bcacdd9fc3e8b88207f', 'TCNU3183019': '5dc31bcacdd9fc3e8b882063', 'MRKU2475375': '5dc31bcacdd9fc3e8b8820f7', 'CLHU8505304': '5dc31bcacdd9fc3e8b88206f', 'MSDU7225230': '5dc31bc9cdd9fc3e8b88203f', 'BMOU6544106': '5dc31be0cdd9fc3e8b8826cd', 'TLLU5165972': '5dc31bcacdd9fc3e8b8820af', 'MSKU8534116': '5dc31bcacdd9fc3e8b882117', 'TCNU1615849': '5dc31bcacdd9fc3e8b88209f', 'HASU5153246': '5dc31bcacdd9fc3e8b8820ef', 'MAXU6216834': '5dc31bc9cdd9fc3e8b88201b', 'MRKU2477110': '5dc31bcacdd9fc3e8b8820fb', 'INKU6520871': '5dc31bcacdd9fc3e8b882083', 'BMOU6124799': '5dc31bc9cdd9fc3e8b881ffb', 'UACU8587674': '5dc31bcacdd9fc3e8b8820b7', 'MEDU7942511': '5dc31bcacdd9fc3e8b882087', 'GLDU7084766': '5dc31bc9cdd9fc3e8b88200f', 'MVIU0000855': '5dc31bcacdd9fc3e8b88211b', 'TCKU9592447': '5dc31bc9cdd9fc3e8b882053', 'TCLU5902618': '5dc31bcacdd9fc3e8b88205b', 'MSCU5326737': '5dc31be0cdd9fc3e8b8826c5', 'UACU8589168': '5dc31bcacdd9fc3e8b8820bb', 'CGMU5158373': '5dc31bcacdd9fc3e8b8820e7', 'MSDU7601868': '5dc31bc9cdd9fc3e8b88204b', 'MRSU3822872': '5dc31bcacdd9fc3e8b88210b', 'UACU8240366': '5dc31bcacdd9fc3e8b8820b3', 'GLDU7415437': '5dc31bc9cdd9fc3e8b882013', 'CPSU5144913': '5dc31bd2cdd9fc3e8b882146', 'CRSU9118916': '5dc31bcacdd9fc3e8b8820eb', 'CRSU9234726': '5dc31bcacdd9fc3e8b882073', 'BMOU6584536': '5dc31bc9cdd9fc3e8b881fff', 'MSKU1741960': '5dc31bcacdd9fc3e8b88210f', 'ACLU9737873': '5dc31bcacdd9fc3e8b8820d7', 'FSCU6914342': '5dc31bc9cdd9fc3e8b88200b', 'MSCU5460258': '5dc31bc9cdd9fc3e8b882033', 'HLBU1433062': '5dc31be0cdd9fc3e8b8826c9', 'CAIU2857308': '5dc31bcacdd9fc3e8b882067', 'MRKU5854095': '5dc31bcacdd9fc3e8b882103', 'TLLU5269576': '5dc31be9cdd9fc3e8b882798', 'MEDU4656854': '5dc31bc9cdd9fc3e8b88201f', 'CMAU7893810': '5dc31c22cdd9fc3e8b8837d9', 'TEMU3635295': '5dc31bcacdd9fc3e8b8820a7', 'MRSU3074301': '5dc31bcacdd9fc3e8b882107', 'EURU1122997': '5dc31bd2cdd9fc3e8b88214a', 'MSDU7305470': '5dc31bc9cdd9fc3e8b882047', 'APRU5817480': '5dc31bcacdd9fc3e8b8820e3', 'DRYU9235821': '5dc31bc9cdd9fc3e8b882003', 'ACLU9685297': '5dc31bcacdd9fc3e8b8820d3', 'MRKU2887794': '5dc31bcacdd9fc3e8b88208b', 'MSCU8382101': '5dc31bc9cdd9fc3e8b88203b', 'HMCU9171832': '5dc31be9cdd9fc3e8b882788', 'MEDU7943713': '5dc31bc9cdd9fc3e8b882023', 'MRKU5485973': '5dc31bcacdd9fc3e8b8820ff', 'UACU8574240': '5dc31bd4cdd9fc3e8b8822ca', 'MSCU5458250': '5dc31bc9cdd9fc3e8b88202f', 'TEMU8206436': '5dc31bcbcdd9fc3e8b882135', 'MSDU7247841': '5dc31bc9cdd9fc3e8b882043', 'SUDU7579260': '5dc31bcacdd9fc3e8b88209b', 'FCIU3926850': '5dc31bc9cdd9fc3e8b882007', 'PONU8201563': '5dc31bcacdd9fc3e8b88211f', 'MSCU5495790': '5dc31bc9cdd9fc3e8b882037', 'GCNU4719818': '5dc31bcacdd9fc3e8b8820db', 'MSKU1260116': '5dc31bcacdd9fc3e8b882093', 'TCLU5713419': '5dc31bc9cdd9fc3e8b882057', 'HLXU3403315': '5dc31bc9cdd9fc3e8b882017', 'MSKU9751311': '5dc31bcacdd9fc3e8b882097', 'TLLU2235607': '5dc31bc9cdd9fc3e8b88204f', 'HLBU9183606': '5dc31bd4cdd9fc3e8b88227a', 'MSCU9430225': '5dc31bd2cdd9fc3e8b88218a', 'DFSU7127520': '5dc31bd2cdd9fc3e8b882162', 'TCNU7250199': '5dc31bcacdd9fc3e8b8820a3', 'TGHU8352710': '5dc31bd3cdd9fc3e8b8821be', 'MEDU7059908': '5dc31bd3cdd9fc3e8b8821d6', 'NYKU9760209': '5dc31bd3cdd9fc3e8b88219e', 'MRKU8754588': '5dc31bd3cdd9fc3e8b8821e2', 'MRKU2900366': '5dc31bd3cdd9fc3e8b88221e', 'HLBU9238294': '5dc31bd4cdd9fc3e8b88227e', 'MEDU7218039': '5dc31bd2cdd9fc3e8b882172', 'HLBU2254328': '5dc31bebcdd9fc3e8b882975', 'TCNU5012972': '5dc31bd3cdd9fc3e8b88224e', 'EISU9343464': '5dc31be0cdd9fc3e8b882779', 'MRKU8730760': '5dc31bd2cdd9fc3e8b882182', 'TLLU5797681': '5dc31bd3cdd9fc3e8b88225e', 'ACLU9718786': '5dc31bd3cdd9fc3e8b8821ea', 'MSCU9069977': '5dc31bd2cdd9fc3e8b882186', 'DAYU6107870': '5dc31bd3cdd9fc3e8b882202', 'MEDU8662876': '5dc31bd2cdd9fc3e8b882176', 'TCLU9309827': '5dc31bd3cdd9fc3e8b882246', 'TCLU9991634': '5dc31bd3cdd9fc3e8b8821aa', 'UACU3616229': '5dc31be9cdd9fc3e8b88279c', 'UACU5216540': '5dc31be9cdd9fc3e8b882848', 'NPCU1140210': '5dc31bd3cdd9fc3e8b88223a', 'HASU4376559': '5dc31bd2cdd9fc3e8b88216a', 'MRKU6259266': '5dc31bd3cdd9fc3e8b88222a', 'CAIU4608963': '5dc31bd2cdd9fc3e8b88215a', 'MEDU7823533': '5dc31bd3cdd9fc3e8b8821da', 'TCNU9933050': '5dc31bd3cdd9fc3e8b8821ae', 'UACU3923631': '5dc31bd3cdd9fc3e8b8821fe', 'MRKU5509714': '5dc31bd2cdd9fc3e8b88217e', 'HAMU1085671': '5dc31be9cdd9fc3e8b88284c', 'FSCU9888680': '5dc31bd4cdd9fc3e8b882272', 'TGHU6488369': '5dc31be9cdd9fc3e8b882790', 'HASU4081136': '5dc31bd3cdd9fc3e8b88220a', 'HLBU2171579': '5dc31bd4cdd9fc3e8b882276', 'TCKU6421559': '5dc31bd3cdd9fc3e8b8821a6', 'TGHU9625300': '5dc31bd3cdd9fc3e8b8821fa', 'MSKU8389532': '5dc31bd3cdd9fc3e8b882232', 'UACU3803976': '5dc31bd3cdd9fc3e8b8821c2', 'MRKU5330971': '5dc31bd3cdd9fc3e8b882222', 'MEDU2832851': '5dc31bd2cdd9fc3e8b88216e', 'HLXU8167315': '5dc31bd3cdd9fc3e8b8821f6', 'MNBU3850526': '5dc31bd3cdd9fc3e8b882216', 'DRYU2169733': '5dc31bebcdd9fc3e8b882971', 'MSKU9374711': '5dc31bd3cdd9fc3e8b882236', 'MRSU3613039': '5dc31bd3cdd9fc3e8b88222e', 'BEAU4256981': '5dc31bd2cdd9fc3e8b882156', 'MEDU5720958': '5dc31bd3cdd9fc3e8b8821d2', 'MSKU8912216': '5dc31bd2cdd9fc3e8b882196', 'MEDU9460925': '5dc31bd3cdd9fc3e8b8821de', 'HASU4252516': '5dc31bd2cdd9fc3e8b882166', 'TCNU1712237': '5dc31be9cdd9fc3e8b88278c', 'HLBU1306601': '5dc31bd3cdd9fc3e8b8821ce', 'MRKU2792106': '5dc31bd2cdd9fc3e8b88217a', 'CAIU8519838': '5dc31bd3cdd9fc3e8b8821f2', 'BMOU2097479': '5dc31bd3cdd9fc3e8b8821ca', 'MSKU8908725': '5dc31bd2cdd9fc3e8b882192', 'TEMU8109842': '5dc31bd3cdd9fc3e8b8821b2', 'RGTU1001529': '5dc31bd4cdd9fc3e8b8822de', 'MSDU7584354': '5dc31bd2cdd9fc3e8b88218e', 'BEAU4190610': '5dc31bd3cdd9fc3e8b8821ee', 'TGBU5327049': '5dc31bd3cdd9fc3e8b882256', 'MRKU5542878': '5dc31bd3cdd9fc3e8b882226', 'TCNU8364724': '5dc31bd3cdd9fc3e8b882252', 'CRSU9223866': '5dc31bd2cdd9fc3e8b88215e', 'HASU5143696': '5dc31bd3cdd9fc3e8b88220e', 'SUDU8733770': '5dc31bd3cdd9fc3e8b882242', 'SEGU4770631': '5dc31bd3cdd9fc3e8b8821a2', 'MNBU4065277': '5dc31bd3cdd9fc3e8b88221a', 'TGBU5964469': '5dc31bd3cdd9fc3e8b8821b6', 'TLLU5223404': '5dc31bd3cdd9fc3e8b88225a', 'BSIU2147831': '5dc31bebcdd9fc3e8b88296d', 'TRLU7292318': '5dc31bd3cdd9fc3e8b8821c6', 'TRLU8149641': '5dc31bd3cdd9fc3e8b8821e6', 'EGHU3737930': '5dc31beacdd9fc3e8b8828fd', 'SUDU1124387': '5dc31bd2cdd9fc3e8b88219a', 'TGHU8129007': '5dc31bd3cdd9fc3e8b8821ba', 'TCLU3410645': '5dc31bd5cdd9fc3e8b8823a2', 'TCNU6479730': '5dc31bd5cdd9fc3e8b88237e', 'TCNU1622977': '5dc31bd4cdd9fc3e8b882332', 'HLXU5327404': '5dc31bebcdd9fc3e8b882979', 'CAXU9335457': '5dc31bd4cdd9fc3e8b8822e6', 'MSCU7078352': '5dc31bd5cdd9fc3e8b882372', 'MEDU7510457': '5dc31bd4cdd9fc3e8b88230e', 'GCNU4712963': '5dc31bd5cdd9fc3e8b88239e', 'HLXU8262251': '5dc31bd5cdd9fc3e8b882406', 'MEDU7055646': '5dc31bd4cdd9fc3e8b882306', 'TCNU2912862': '5dc31bd5cdd9fc3e8b88237a', 'MSCU9395171': '5dc31bd4cdd9fc3e8b88231e', 'OOCU7944220': '5dc31bd5cdd9fc3e8b8823d6', 'TCNU2920019': '5dc31bd4cdd9fc3e8b882336', 'MSCU5067338': '5dc31bdecdd9fc3e8b882567', 'TCLU8303700': '5dc31bd4cdd9fc3e8b88232a', 'FDCU0295067': '5dc31bd5cdd9fc3e8b882362', 'GCNU1245612': '5dc31bd5cdd9fc3e8b88239a', 'HASU4435651': '5dc31bd5cdd9fc3e8b8823ae', 'MSDU7084507': '5dc31bd5cdd9fc3e8b882376', 'MSCU5277503': '5dc31bd5cdd9fc3e8b88236e', 'MEDU8354750': '5dc31bd4cdd9fc3e8b882312', 'TCKU6768379': '5dc31bd5cdd9fc3e8b8823e2', 'CAIU7812538': '5dc31bd5cdd9fc3e8b882356', 'TCNU1937640': '5dc31beacdd9fc3e8b882905', 'HLXU5296387': '5dc31bd6cdd9fc3e8b88240e', 'MEDU7165113': '5dc31bd4cdd9fc3e8b88230a', 'MAGU5542605': '5dc31beacdd9fc3e8b882901', 'TCNU6724441': '5dc31bd5cdd9fc3e8b882382', 'MSCU5227478': '5dc31bd4cdd9fc3e8b88231a', 'FDCU0589185': '5dc31bd4cdd9fc3e8b8822f2', 'SUDU6231747': '5dc31bd5cdd9fc3e8b8823de', 'BMOU5756667': '5dc31beacdd9fc3e8b8828f4', 'HLBU2717340': '5dc31bd5cdd9fc3e8b882366', 'TRLU8206947': '5dc31bd5cdd9fc3e8b88234a', 'GESU6685956': '5dc31bd5cdd9fc3e8b8823aa', 'CMAU8221450': '5dc31beacdd9fc3e8b8828f9', 'TCLU9461399': '5dc31bd4cdd9fc3e8b88232e', 'FBLU0103228': '5dc31bd5cdd9fc3e8b882396', 'TGBU6183413': '5dc31bd5cdd9fc3e8b882346', 'MRKU5191942': '5dc31bdecdd9fc3e8b882563', 'TCNU3682888': '5dc31bd5cdd9fc3e8b8823ea', 'TCNU6196895': '5dc31bd5cdd9fc3e8b88233a', 'TCNU2811656': '5dc31bd5cdd9fc3e8b8823e6', 'MSCU9883176': '5dc31bd4cdd9fc3e8b882322', 'MNBU0516310': '5dc31bd5cdd9fc3e8b8823ba', 'FCIU2243442': '5dc31bd6cdd9fc3e8b88241a', 'DFSU6436470': '5dc31bd5cdd9fc3e8b8823a6', 'SEGU5178078': '5dc31bd5cdd9fc3e8b8823da', 'BMOU4309237': '5dc31bd5cdd9fc3e8b882352', 'MSKU1859505': '5dc31bd5cdd9fc3e8b8823d2', 'MEDU8362586': '5dc31bd5cdd9fc3e8b88236a', 'MRKU3029974': '5dc31bd5cdd9fc3e8b8823be', 'FCIU8864920': '5dc31bd5cdd9fc3e8b88235e', 'HLBU2488877': '5dc31bd4cdd9fc3e8b8822fa', 'TCLU5257556': '5dc31bd4cdd9fc3e8b882326', 'MRKU4891509': '5dc31bd5cdd9fc3e8b8823ca', 'TCNU8739944': '5dc31bd5cdd9fc3e8b88233e', 'DFSU7794020': '5dc31bd5cdd9fc3e8b88235a', 'HASU4532950': '5dc31bd5cdd9fc3e8b8823b2', 'TGBU5850677': '5dc31bd5cdd9fc3e8b882342', 'UESU4716007': '5dc31bd5cdd9fc3e8b8823f2', 'UACU5109183': '5dc31bd5cdd9fc3e8b882386', 'MEDU4357107': '5dc31bd4cdd9fc3e8b882302', 'CXDU2092619': '5dc31bd4cdd9fc3e8b8822ea', 'MSKU0438456': '5dc31bd5cdd9fc3e8b8823ce', 'INKU6566804': '5dc31bd4cdd9fc3e8b8822fe', 'CMAU0146896': '5dc31beccdd9fc3e8b882a79', 'SEGU8060242': '5dc31bd6cdd9fc3e8b88241e', 'TCNU8425060': '5dc31bd5cdd9fc3e8b8823ee', 'EGHU3715335': '5dc31bebcdd9fc3e8b8829f1', 'UETU5283076': '5dc31bd5cdd9fc3e8b88234e', 'GESU6075980': '5dc31bd4cdd9fc3e8b8822f6', 'GLDU9419621': '5dc31beccdd9fc3e8b8829fd', 'MRKU3248170': '5dc31bd5cdd9fc3e8b8823c2', 'MRKU9701469': '5dc31bdecdd9fc3e8b88253b', 'MRKU3818838': '5dc31bd5cdd9fc3e8b8823c6', 'MRSU3977133': '5dc31bdecdd9fc3e8b88253f', 'DFSU7796932': '5dc31bd4cdd9fc3e8b8822ee', 'MRKU8432811': '5dc31bdecdd9fc3e8b882537', 'TGCU0109259': '5dc31bddcdd9fc3e8b8824bf', 'EGSU3040770': '5dc31bebcdd9fc3e8b8829f5', 'MSCU5289382': '5dc31bddcdd9fc3e8b8824db', 'GLDU0737956': '5dc31bd6cdd9fc3e8b88242e', 'CXRU1551507': '5dc31bdecdd9fc3e8b88255f', 'TCNU2778603': '5dc31bddcdd9fc3e8b8824af', 'MSKU0766542': '5dc31bdecdd9fc3e8b882547', 'TCKU6460961': '5dc31bddcdd9fc3e8b88249b', 'GESU6437482': '5dc31bdecdd9fc3e8b882513', 'TCLU9169303': '5dc31bddcdd9fc3e8b8824a7', 'TCKU2244394': '5dc31bdecdd9fc3e8b8824ff', 'MNBU0349742': '5dc31bdecdd9fc3e8b88251b', 'TCLU6270341': '5dc31bddcdd9fc3e8b8824df', 'TGHU8275608': '5dc31bddcdd9fc3e8b8824c7', 'MRKU2639400': '5dc31bdecdd9fc3e8b88251f', 'MEDU1635924': '5dc31bd6cdd9fc3e8b88243e', 'MSCU5089321': '5dc31bddcdd9fc3e8b882473', 'TLLU5122630': '5dc31bdecdd9fc3e8b88254f', 'HLBU1660066': '5dc31bd6cdd9fc3e8b88243a', 'ERRO': '5dc31bf5cdd9fc3e8b882c62', 'TCNU1586226': '5dc31bddcdd9fc3e8b8824e3', 'MRKU4127527': '5dc31bdecdd9fc3e8b882527', 'MNBU0600396': '5dc31bd6cdd9fc3e8b88244a', 'HLBU2444375': '5dc31bddcdd9fc3e8b8824d3', 'MRKU5473340': '5dc31bdecdd9fc3e8b88252b', 'MSCU7222217': '5dc31bddcdd9fc3e8b882477', 'FCIU8456553': '5dc31bddcdd9fc3e8b8824cf', 'MRKU5888520': '5dc31bdecdd9fc3e8b88252f', 'MRKU4123178': '5dc31bdecdd9fc3e8b882523', 'MEDU7803861': '5dc31bddcdd9fc3e8b8824d7', 'MSKU1168334': '5dc31bdecdd9fc3e8b88254b', 'CAIU7649631': '5dc31bd6cdd9fc3e8b882422', 'EISU2174188': '5dc31bebcdd9fc3e8b8829f9', 'TTNU8723616': '5dc31bdecdd9fc3e8b882573', 'IRNU2515992': '5dc31bdecdd9fc3e8b8824fb', 'MRSU4021327': '5dc31bdecdd9fc3e8b882543', 'MEDU6633884': '5dc31bd6cdd9fc3e8b882442', 'MRKU5957724': '5dc31bdecdd9fc3e8b882533', 'MEDU8298194': '5dc31bdecdd9fc3e8b882577', 'TCLU5722107': '5dc31bddcdd9fc3e8b88249f', 'SZLU9616073': '5dc31bddcdd9fc3e8b882497', 'MEDU7939380': '5dc31bdfcdd9fc3e8b88262d', 'MEDU8853548': '5dc31bd6cdd9fc3e8b882446', 'GESU1388852': '5dc31bdecdd9fc3e8b88250f', 'FCIU9809510': '5dc31bd6cdd9fc3e8b88242a', 'FSCU8967697': '5dc31bdecdd9fc3e8b8825a7', 'SUDU1978410': '5dc31bdfcdd9fc3e8b882639', 'MEDU3371950': '5dc31bdecdd9fc3e8b88257b', 'AMFU8943241': '5dc31bdfcdd9fc3e8b88260b', 'TEMU2378931': '5dc31beccdd9fc3e8b882a01', 'BGBU5054060': '5dc31bdecdd9fc3e8b882503', 'DRYU9708483': '5dc31bdecdd9fc3e8b88259f', 'MEDU2741031': '5dc31bf5cdd9fc3e8b882c58', 'MEDU8726800': '5dc31bdfcdd9fc3e8b882631', 'MSDU1076546': '5dc31bddcdd9fc3e8b88247f', 'HLBU2476557': '5dc31bdfcdd9fc3e8b882629', 'MSKU0120249': '5dc31bddcdd9fc3e8b882483', 'TLLU5492234': '5dc31c2fcdd9fc3e8b883bdf', 'UNIU2062570': '5dc31beccdd9fc3e8b882a05', 'UTTU2533695': '5dc31bdecdd9fc3e8b88255b', 'TEMU8360797': '5dc31bddcdd9fc3e8b8824bb', 'HLXU5239392': '5dc31bdecdd9fc3e8b882517', 'TCNU6456380': '5dc31bddcdd9fc3e8b8824b7', 'TCLU8854811': '5dc31bddcdd9fc3e8b8824a3', 'GCNU1283464': '5dc31bdfcdd9fc3e8b88261d', 'BGBU5058718': '5dc31bdecdd9fc3e8b882507', 'CARU9776729': '5dc31bd6cdd9fc3e8b882426', 'FCIU8459948': '5dc31bdfcdd9fc3e8b882619', 'UTCU4653117': '5dc31bdecdd9fc3e8b882553', 'DFSU2293278': '5dc31bdecdd9fc3e8b882593', 'MSKU1958895': '5dc31bdfcdd9fc3e8b8825df', 'TGHU6071668': '5dc31bddcdd9fc3e8b8824c3', 'APZU3926756': '5dc31bf4cdd9fc3e8b882b04', 'BMOU5897048': '5dc31bdecdd9fc3e8b882587', 'MSCU9193669': '5dc31bdfcdd9fc3e8b8825db', 'EXFU5563711': '5dc31bdecdd9fc3e8b88250b', 'TLLU2193950': '5dc31bdfcdd9fc3e8b882603', 'MEDU4488724': '5dc31bdecdd9fc3e8b8825bf', 'UTCU4656570': '5dc31bdecdd9fc3e8b882557', 'CAXU6122587': '5dc31bdecdd9fc3e8b88257f', 'FCIU3534139': '5dc31bdecdd9fc3e8b882597', 'MSCU3408348': '5dc31bdfcdd9fc3e8b8825d7', 'TCNU2768159': '5dc31bdfcdd9fc3e8b8825fb', 'MSCU6591099': '5dc31bf5cdd9fc3e8b882c54', 'TLLU5186487': '5dc31bdfcdd9fc3e8b882607', 'MRKU2264480': '5dc31bdecdd9fc3e8b8825cb', 'TCKU2345785': '5dc31bdecdd9fc3e8b88258f', 'GESU6653239': '5dc31bf4cdd9fc3e8b882b2f', 'APZU4363106': '5dc31bf4cdd9fc3e8b882b08', 'CAIU3737457': '5dc31bdfcdd9fc3e8b882613', 'DFSU2058160': '5dc31bf4cdd9fc3e8b882b1a', 'EISU2186980': '5dc31bf4cdd9fc3e8b882b1e', 'MEDU9414278': '5dc31bdfcdd9fc3e8b882635', 'HLBU9356234': '5dc31bdecdd9fc3e8b8825b3', 'TCKU4653154': '5dc31bf4cdd9fc3e8b882b33', 'FSCU9850323': '5dc31bf4cdd9fc3e8b882b2b', 'UESU2418744': '5dc31bdecdd9fc3e8b8825c3', 'BMOU2005370': '5dc31bdfcdd9fc3e8b88260f', 'CMAU8235686': '5dc31bf4cdd9fc3e8b882b15', 'FSCU7291150': '5dc31bdecdd9fc3e8b8825a3', 'GCNU1314288': '5dc31bdfcdd9fc3e8b882621', 'SEGU4519020': '5dc31bdfcdd9fc3e8b8825ef', 'CAAU5197397': '5dc31bf4cdd9fc3e8b882b0c', 'TEMU7870965': '5dc31bdfcdd9fc3e8b8825ff', 'GCNU1330421': '5dc31bdfcdd9fc3e8b882625', 'TGHU4963990': '5dc31bf4cdd9fc3e8b882b3b', 'HLXU8771367': '5dc31bdecdd9fc3e8b8825b7', 'EISU9215083': '5dc31bf4cdd9fc3e8b882b22', 'DRYU2501597': '5dc31bdecdd9fc3e8b88259b', 'TEMU0803179': '5dc31bf4cdd9fc3e8b882b37', 'GATU1241974': '5dc31bdecdd9fc3e8b8825ab', 'APZU3637497': '5dc31bf4cdd9fc3e8b882b00', 'GCXU2280789': '5dc31bdecdd9fc3e8b8825af', 'EITU1087040': '5dc31bf4cdd9fc3e8b882b27', 'MNBU0410668': '5dc31bdecdd9fc3e8b8825c7', 'CAIU3308792': '5dc31bdecdd9fc3e8b88258b', 'APZU3853536': '5dc31c00cdd9fc3e8b882ec1', 'CMAU0611257': '5dc31bf4cdd9fc3e8b882b10', 'SUDU6292721': '5dc31bdfcdd9fc3e8b8825f3', 'INKU2317629': '5dc31bdecdd9fc3e8b8825bb', 'SUDU8052925': '5dc31bdfcdd9fc3e8b8825f7', 'TTNU1830551': '5dc31bdfcdd9fc3e8b8825eb', 'UACU4080336': '5dc31be0cdd9fc3e8b882701', 'FSCU8967980': '5dc31bdfcdd9fc3e8b88269d', 'GCNU1244220': '5dc31be0cdd9fc3e8b8826dd', 'CAIU2593144': '5dc31bdfcdd9fc3e8b882695', 'CLHU4697683': '5dc31be0cdd9fc3e8b8826d9', 'MEDU6900810': '5dc31bdfcdd9fc3e8b8826a1', 'TEMU0482905': '5dc31bf6cdd9fc3e8b882d0e', 'TCLU3418353': '5dc31be0cdd9fc3e8b8826f1', 'TRHU1604663': '5dc31be0cdd9fc3e8b8826fd', 'CAIU7162432': '5dc31bdfcdd9fc3e8b882699', 'TCLU4878836': '5dc31be0cdd9fc3e8b8826b5', 'TCLU5276469': '5dc31be0cdd9fc3e8b8826b9', 'MEDU1240668': '5dc31be0cdd9fc3e8b882769', 'HAMU1118899': '5dc31bdfcdd9fc3e8b882651', 'MSKU9610102': '5dc31be0cdd9fc3e8b882741', 'XINU8079450': '5dc31bdfcdd9fc3e8b882691', 'SUDU7673569': '5dc31be0cdd9fc3e8b882755', 'APZU3917121': '5dc31bf6cdd9fc3e8b882d06', 'TGHU8714969': '5dc31bdfcdd9fc3e8b88268d', 'TCLU3412463': '5dc31be0cdd9fc3e8b8826ed', 'UTCU4653539': '5dc31be0cdd9fc3e8b882761', 'TCLU3087759': '5dc31bdfcdd9fc3e8b882641', 'MSKU8118206': '5dc31be0cdd9fc3e8b882739', 'MSKU0515681': '5dc31be0cdd9fc3e8b882731', 'HASU1537583': '5dc31be0cdd9fc3e8b882711', 'TEMU9073810': '5dc31be0cdd9fc3e8b8826f9', 'HLBU2188490': '5dc31be0cdd9fc3e8b882771', 'MSKU1138772': '5dc31be0cdd9fc3e8b882735', 'HLXU1178220': '5dc31bdfcdd9fc3e8b88263d', 'HLBU9093884': '5dc31bdfcdd9fc3e8b88265d', 'GCNU1283612': '5dc31be0cdd9fc3e8b8826e5', 'HLXU1264669': '5dc31be0cdd9fc3e8b88271d', 'MEDU8475664': '5dc31bdfcdd9fc3e8b882671', 'MWCU5254195': '5dc31be0cdd9fc3e8b882749', 'TCKU1079660': '5dc31bf6cdd9fc3e8b882d0a', 'FCIU8207519': '5dc31bdfcdd9fc3e8b882649', 'EXFU5594348': '5dc31be0cdd9fc3e8b882709', 'MSCU5863150': '5dc31be0cdd9fc3e8b8826e9', 'TCLU5192429': '5dc31bdfcdd9fc3e8b882681', 'MRKU6055468': '5dc31be0cdd9fc3e8b882729', 'HLBU1866205': '5dc31bdfcdd9fc3e8b882659', 'TGBU5605622': '5dc31be0cdd9fc3e8b8826c1', 'UACU5171404': '5dc31be0cdd9fc3e8b882775', 'MRKU2544429': '5dc31be0cdd9fc3e8b882721', 'DFSU3147745': '5dc31c01cdd9fc3e8b882fa1', 'ACLU9723714': '5dc31be0cdd9fc3e8b8826d5', 'HASU1530207': '5dc31be0cdd9fc3e8b88270d', 'TCLU5322749': '5dc31be0cdd9fc3e8b8826bd', 'HLBU1815213': '5dc31be0cdd9fc3e8b882719', 'TEMU5326361': '5dc31be0cdd9fc3e8b8826f5', 'MRKU9961928': '5dc31be0cdd9fc3e8b88272d', 'ONEU0309526': '5dc31bdfcdd9fc3e8b88267d', 'MSKU9331495': '5dc31be0cdd9fc3e8b88273d', 'GCNU1282684': '5dc31be0cdd9fc3e8b8826e1', 'PONU8229534': '5dc31be0cdd9fc3e8b88274d', 'TCNU3313365': '5dc31be0cdd9fc3e8b882759', 'MEDU5183524': '5dc31bdfcdd9fc3e8b882669', 'UACU4784778': '5dc31c00cdd9fc3e8b882ef1', 'TCNU8311940': '5dc31be0cdd9fc3e8b88275d', 'CMAU0808760': '5dc31be0cdd9fc3e8b882705', 'TGBU5906930': '5dc31bdfcdd9fc3e8b882689', 'CMAU1403197': '5dc31c00cdd9fc3e8b882ecc', 'HASU4327549': '5dc31be0cdd9fc3e8b882715', 'FCIU7407467': '5dc31bdfcdd9fc3e8b882645', 'TCLU6180844': '5dc31bdfcdd9fc3e8b882685', 'MRKU3823665': '5dc31be0cdd9fc3e8b882725', 'HLXU8346497': '5dc31bdfcdd9fc3e8b882665', 'GCNU1320763': '5dc31beacdd9fc3e8b882860', 'CRSU9139441': '5dc31beacdd9fc3e8b882880', 'MSCU7991398': '5dc31bdfcdd9fc3e8b882675', 'HASU4370015': '5dc31beacdd9fc3e8b882898', 'FSCU7164047': '5dc31bdfcdd9fc3e8b88264d', 'MEDU7068622': '5dc31beacdd9fc3e8b882868', 'PONU0061681': '5dc31bebcdd9fc3e8b8829d9', 'MSCU7944400': '5dc31bdfcdd9fc3e8b8826a9', 'PONU7785077': '5dc31beacdd9fc3e8b8828d0', 'MEDU7650232': '5dc31bdfcdd9fc3e8b88266d', 'EITU0024156': '5dc31c00cdd9fc3e8b882ed8', 'PONU8245200': '5dc31be0cdd9fc3e8b882751', 'HLXU3063175': '5dc31bdfcdd9fc3e8b882661', 'CAIU4821433': '5dc31be9cdd9fc3e8b882820', 'MSKU9996470': '5dc31be0cdd9fc3e8b882745', 'TGBU5724806': '5dc31be9cdd9fc3e8b882840', 'KKFU7920734': '5dc31be9cdd9fc3e8b8827d8', 'CMAU1092541': '5dc31c00cdd9fc3e8b882ec3', 'MRKU4387967': '5dc31beacdd9fc3e8b8828b0', 'CAIU9479848': '5dc31be9cdd9fc3e8b8827b4', 'GCNU1318410': '5dc31beacdd9fc3e8b88285c', 'CMAU7974758': '5dc31be9cdd9fc3e8b882824', 'EXFU5573411': '5dc31beacdd9fc3e8b882888', 'BMOU6896154': '5dc31be9cdd9fc3e8b8827a4', 'EXFU5565015': '5dc31beacdd9fc3e8b882884', 'GESU6269882': '5dc31beacdd9fc3e8b88288c', 'GCNU1250455': '5dc31beacdd9fc3e8b882858', 'HLXU6420698': '5dc31be9cdd9fc3e8b8827d4', 'TCNU1612367': '5dc31be9cdd9fc3e8b882800', 'TEMU6196468': '5dc31beacdd9fc3e8b8828dc', 'MSCU7236078': '5dc31be9cdd9fc3e8b8827f4', 'MEDU6297732': '5dc31beacdd9fc3e8b8828e8', 'EITU0071121': '5dc31c00cdd9fc3e8b882edc', 'MSKU0596174': '5dc31beacdd9fc3e8b8828c8', 'MEDU4812068': '5dc31be9cdd9fc3e8b8827dc', 'FCIU6554078': '5dc31be9cdd9fc3e8b882854', 'MRSU3730797': '5dc31beacdd9fc3e8b8828c0', 'HLBU9268133': '5dc31c0bcdd9fc3e8b88319f', 'TCNU4413158': '5dc31be9cdd9fc3e8b882804', 'MSKU9984925': '5dc31beacdd9fc3e8b8828cc', 'MEDU5597632': '5dc31beacdd9fc3e8b8828ec', 'UETU5043075': '5dc31beacdd9fc3e8b8828e0', 'HLXU6257976': '5dc31be9cdd9fc3e8b8827d0', 'SEGU6238649': '5dc31be9cdd9fc3e8b8827f8', 'MRKU4501410': '5dc31beacdd9fc3e8b8828b4', 'CAIU8695924': '5dc31be9cdd9fc3e8b8827ac', 'MRKU5594758': '5dc31beacdd9fc3e8b8828b8', 'TGBU5534806': '5dc31be9cdd9fc3e8b882814', 'UACU8274010': '5dc31c0bcdd9fc3e8b88318f', 'CMAU0562656': '5dc31beacdd9fc3e8b88287c', 'UACU3477102': '5dc31c0bcdd9fc3e8b8831a7', 'MRKU2073530': '5dc31beacdd9fc3e8b8828a4', 'TCLU5912344': '5dc31be9cdd9fc3e8b8827fc', 'HLBU2042967': '5dc31c0bcdd9fc3e8b883193', 'CAIU8731750': '5dc31be9cdd9fc3e8b8827b0', 'TRHU1335522': '5dc31c00cdd9fc3e8b882eed', 'MEDU6373637': '5dc31beacdd9fc3e8b882864', 'TCNU2947278': '5dc31beacdd9fc3e8b8828bc', 'TGBU5473260': '5dc31be9cdd9fc3e8b882810', 'TCNU4622902': '5dc31be9cdd9fc3e8b88283c', 'HLXU3555750': '5dc31be9cdd9fc3e8b8827cc', 'TCKU4353389': '5dc31beacdd9fc3e8b8828d4', 'MEDU5630371': '5dc31be9cdd9fc3e8b882830', 'GLDU7306185': '5dc31be9cdd9fc3e8b8827c4', 'DFSU7634042': '5dc31be9cdd9fc3e8b88282c', 'EITU0117691': '5dc31c00cdd9fc3e8b882ee0', 'MSDU7050220': '5dc31beacdd9fc3e8b88286c', 'SEGU2682742': '5dc31beacdd9fc3e8b8828f0', 'HASU5060462': '5dc31be9cdd9fc3e8b8827c8', 'SEGU6106730': '5dc31beacdd9fc3e8b882870', 'TGHU8946434': '5dc31be9cdd9fc3e8b882844', 'CAIU9514105': '5dc31be9cdd9fc3e8b8827b8', 'ECMU9869374': '5dc31be9cdd9fc3e8b882850', 'EGHU3746450': '5dc31c00cdd9fc3e8b882ed3', 'MNBU3745069': '5dc31beacdd9fc3e8b88289c', 'MRKU4376366': '5dc31beacdd9fc3e8b8828ac', 'HASU4130919': '5dc31beacdd9fc3e8b882894', 'GLDU9481649': '5dc31be9cdd9fc3e8b8827c0', 'MSKU0037807': '5dc31beacdd9fc3e8b8828c4', 'TLLU2353385': '5dc31c00cdd9fc3e8b882ee8', 'MRKU3831418': '5dc31beacdd9fc3e8b8828a8', 'TLLU1623064': '5dc31be9cdd9fc3e8b882818', 'DFSU6541259': '5dc31be9cdd9fc3e8b882828', 'UETU5485842': '5dc31beacdd9fc3e8b8828e4', 'MEDU8794975': '5dc31be9cdd9fc3e8b8827e0', 'CAIU3838663': '5dc31beacdd9fc3e8b882874', 'MSCU5488424': '5dc31be9cdd9fc3e8b882834', 'HASU1321146': '5dc31beacdd9fc3e8b882890', 'TCKU6893642': '5dc31beacdd9fc3e8b8828d8', 'CAIU9239615': '5dc31beacdd9fc3e8b882878', 'NYKU3808840': '5dc31be9cdd9fc3e8b8827bc', 'MRKU7303384': '5dc31bebcdd9fc3e8b8829a1', 'FCIU5425728': '5dc31c00cdd9fc3e8b882ee4', 'MSCU6680323': '5dc31be9cdd9fc3e8b882838', 'MRKU8087079': '5dc31bebcdd9fc3e8b8829a9', 'MRKU8023217': '5dc31bebcdd9fc3e8b8829a5', 'TGHU6188280': '5dc31bebcdd9fc3e8b882969', 'MSWU9079126': '5dc31bebcdd9fc3e8b882961', 'FCIU5977202': '5dc31beacdd9fc3e8b88290d', 'BMOU6115170': '5dc31bebcdd9fc3e8b882959', 'FCIU6065863': '5dc31beacdd9fc3e8b882911', 'APZU3394740': '5dc31bebcdd9fc3e8b8829d1', 'MRKU2673679': '5dc31bebcdd9fc3e8b882925', 'DHDU1478760': '5dc31bebcdd9fc3e8b882991', 'IPXU3017244': '5dc31c02cdd9fc3e8b883075', 'TCNU8814694': '5dc31bebcdd9fc3e8b882941', 'MEDU5422172': '5dc31bebcdd9fc3e8b88295d', 'TCLU7340119': '5dc31c02cdd9fc3e8b883079', 'SEGU3341479': '5dc31bebcdd9fc3e8b8829c5', 'TCLU3732699': '5dc31bebcdd9fc3e8b882965', 'MEDU5185620': '5dc31c0bcdd9fc3e8b883197', 'MSKU5173426': '5dc31bebcdd9fc3e8b8829bd', 'CMAU0120546': '5dc31c02cdd9fc3e8b883061', 'TRHU1248304': '5dc31bf5cdd9fc3e8b882c44', 'MRKU4910321': '5dc31bebcdd9fc3e8b88299d', 'HASU4096917': '5dc31bebcdd9fc3e8b882995', 'MEDU3476502': '5dc31bf5cdd9fc3e8b882be4', 'UESU2377162': '5dc31c02cdd9fc3e8b883081', 'MRSU0315494': '5dc31bebcdd9fc3e8b8829b1', 'EGHU3746296': '5dc31c02cdd9fc3e8b883071', 'TEMU2652488': '5dc31c02cdd9fc3e8b88307d', 'PONU7815628': '5dc31bebcdd9fc3e8b8829c1', 'UACU3863980': '5dc31bf4cdd9fc3e8b882bb4', 'HLXU6309658': '5dc31bffcdd9fc3e8b882dd5', 'CMAU3162123': '5dc31c02cdd9fc3e8b88306d', 'MEDU2042116': '5dc31bebcdd9fc3e8b8829e5', 'FSCU6818190': '5dc31bf5cdd9fc3e8b882bc8', 'CAIU4082631': '5dc31bebcdd9fc3e8b8829e9', 'CMAU1876754': '5dc31c02cdd9fc3e8b883065', 'MEDU5193991': '5dc31beacdd9fc3e8b88291d', 'CMAU4327980': '5dc31bebcdd9fc3e8b882985', 'TCNU5058720': '5dc31bf5cdd9fc3e8b882c24', 'TRLU7004957': '5dc31bf5cdd9fc3e8b882c48', 'MEDU8036419': '5dc31c0dcdd9fc3e8b88332b', 'CSNU7127722': '5dc31bebcdd9fc3e8b88298d', 'CRSU9119682': '5dc31bf4cdd9fc3e8b882bb8', 'FCIU6469438': '5dc31bf5cdd9fc3e8b882bc4', 'CAIU3731839': '5dc31bebcdd9fc3e8b882981', 'TGBU5716204': '5dc31bf5cdd9fc3e8b882c34', 'MRKU4875848': '5dc31bebcdd9fc3e8b882999', 'MSCU5310767': '5dc31bf5cdd9fc3e8b882bf8', 'MSKU2754155': '5dc31bebcdd9fc3e8b8829b9', 'MSDU7036448': '5dc31bf5cdd9fc3e8b882c00', 'CMAU7923473': '5dc31bebcdd9fc3e8b882989', 'ONEU0248056': '5dc31bebcdd9fc3e8b88292d', 'MSKU1059842': '5dc31bebcdd9fc3e8b8829b5', 'CXDU2012608': '5dc31bf4cdd9fc3e8b882bbc', 'TEMU8477926': '5dc31bebcdd9fc3e8b882945', 'CRSU9199121': '5dc31bebcdd9fc3e8b88297d', 'BMOU6687724': '5dc31bf4cdd9fc3e8b882bac', 'UACU8213798': '5dc31bebcdd9fc3e8b882951', 'TCNU1823760': '5dc31bebcdd9fc3e8b8829c9', 'SUDU7982505': '5dc31bf5cdd9fc3e8b882c14', 'CAIU3051148': '5dc31bebcdd9fc3e8b8829ed', 'CPSU1798773': '5dc31beacdd9fc3e8b882909', 'TEMU6428542': '5dc31bebcdd9fc3e8b8829cd', 'CTXU9048157': '5dc31beccdd9fc3e8b882a9f', 'DHDU1276862': '5dc31bf3cdd9fc3e8b882aa4', 'UESU4549086': '5dc31bf4cdd9fc3e8b882af8', 'NYKU4753660': '5dc31beccdd9fc3e8b882a8b', 'TGHU1241170': '5dc31bf5cdd9fc3e8b882c38', 'APZU3818303': '5dc31c02cdd9fc3e8b88305d', 'TGHU9834146': '5dc31bebcdd9fc3e8b882949', 'CAIU3019172': '5dc31c16cdd9fc3e8b8834e3', 'TCKU1150942': '5dc31bf3cdd9fc3e8b882ad8', 'UACU3613786': '5dc31c0dcdd9fc3e8b88332f', 'MEDU8251387': '5dc31beccdd9fc3e8b882a45', 'SUDU6988324': '5dc31bf3cdd9fc3e8b882ad4', 'MSCU5646670': '5dc31beccdd9fc3e8b882a59', 'SEGU3261054': '5dc31beccdd9fc3e8b882a8f', 'HAMU1330465': '5dc31beccdd9fc3e8b882a25', 'TGHU3482069': '5dc31bf5cdd9fc3e8b882c3c', 'EGSU3066543': '5dc31c0ccdd9fc3e8b88325b', 'HLXU5267959': '5dc31beccdd9fc3e8b882a2d', 'MEDU6197116': '5dc31bf5cdd9fc3e8b882bec', 'EGHU3737761': '5dc31c0ccdd9fc3e8b883257', 'SGCU2205950': '5dc31bf3cdd9fc3e8b882ad0', 'FSCU3976757': '5dc31beccdd9fc3e8b882a11', 'TRLU7170006': '5dc31c0dcdd9fc3e8b883333', 'SEGU1803011': '5dc31bf5cdd9fc3e8b882c10', 'FSCU7159441': '5dc31beccdd9fc3e8b882a19', 'PONU8133480': '5dc31bf3cdd9fc3e8b882acc', 'MSWU0056768': '5dc31bf3cdd9fc3e8b882ac8', 'UACU8600797': '5dc31beccdd9fc3e8b882a75', 'MSKU1547683': '5dc31bf3cdd9fc3e8b882ac4', 'TLLU4492287': '5dc31bf3cdd9fc3e8b882ae8', 'MEDU5639810': '5dc31bf5cdd9fc3e8b882be8', 'TGBU5247616': '5dc31bf3cdd9fc3e8b882ae0', 'TCNU3598139': '5dc31beccdd9fc3e8b882a6d', 'SEGU3268510': '5dc31beccdd9fc3e8b882a93', 'CPSU6450306': '5dc31c16cdd9fc3e8b8834eb', 'TCLU4138871': '5dc31beccdd9fc3e8b882a69', 'CLHU8667500': '5dc31beccdd9fc3e8b882a15', 'CSNU6447969': '5dc31beccdd9fc3e8b882a9b', 'GCNU1266322': '5dc31beccdd9fc3e8b882a87', 'CAAU5029794': '5dc31beccdd9fc3e8b882a09', 'TGBU2395918': '5dc31bf5cdd9fc3e8b882c30', 'CARU9781350': '5dc31beccdd9fc3e8b882a0d', 'SEGU5687389': '5dc31bf6cdd9fc3e8b882cd2', 'TEMU5382004': '5dc31bf5cdd9fc3e8b882c2c', 'GATU8638480': '5dc31beccdd9fc3e8b882a21', 'TCLU2816558': '5dc31beccdd9fc3e8b882a31', 'MRKU2874539': '5dc31bf3cdd9fc3e8b882aac', 'TCKU3905708': '5dc31beccdd9fc3e8b882a35', 'MRKU5516400': '5dc31bf3cdd9fc3e8b882ac0', 'MSCU8609263': '5dc31c16cdd9fc3e8b8834f3', 'TTNU1005200': '5dc31bf5cdd9fc3e8b882c50', 'CMAU0479027': '5dc31beccdd9fc3e8b882a97', 'MEDU4386445': '5dc31beccdd9fc3e8b882a3d', 'TCKU6435845': '5dc31bf3cdd9fc3e8b882adc', 'SEGU2240524': '5dc31beccdd9fc3e8b882a29', 'MRKU4118295': '5dc31bf3cdd9fc3e8b882ab0', 'MRKU4139050': '5dc31bf3cdd9fc3e8b882ab4', 'MRKU4165846': '5dc31bf3cdd9fc3e8b882ab8', 'MRKU4359693': '5dc31bf3cdd9fc3e8b882abc', 'TRLU8195797': '5dc31bf5cdd9fc3e8b882c4c', 'GCNU1238573': '5dc31beccdd9fc3e8b882a83', 'FSCU8127243': '5dc31beccdd9fc3e8b882a1d', 'HLBU2316728': '5dc31bf3cdd9fc3e8b882aa8', 'MRKU3031502': '5dc31beccdd9fc3e8b882a51', 'TRLU6600144': '5dc31bf4cdd9fc3e8b882af0', 'TCLU2988027': '5dc31bf5cdd9fc3e8b882c20', 'TRHU2207172': '5dc31beccdd9fc3e8b882a39', 'TGBU5286079': '5dc31bf3cdd9fc3e8b882ae4', 'PONU0666348': '5dc31bf5cdd9fc3e8b882c0c', 'MOAU1461319': '5dc31beccdd9fc3e8b882a4d', 'TLLU5959416': '5dc31bf3cdd9fc3e8b882aec', 'TTNU5321450': '5dc31bf4cdd9fc3e8b882af4', 'MSDU7060660': '5dc31bf5cdd9fc3e8b882c04', 'TCLU9799175': '5dc31c19cdd9fc3e8b8836f4', 'MEDU4856003': '5dc31beccdd9fc3e8b882a41', 'CLHU8835754': '5dc31c16cdd9fc3e8b8834df', 'MSCU7483273': '5dc31bf5cdd9fc3e8b882bfc', 'TGHU4936926': '5dc31bf6cdd9fc3e8b882cc2', 'KKFU1821462': '5dc31bf5cdd9fc3e8b882bd8', 'INKU6541067': '5dc31bf4cdd9fc3e8b882b66', 'MSKU9013719': '5dc31bf6cdd9fc3e8b882cb6', 'CAIU4635784': '5dc31bf4cdd9fc3e8b882bb0', 'TGHU6709069': '5dc31bf6cdd9fc3e8b882cc6', 'FBLU0073421': '5dc31bf4cdd9fc3e8b882b50', 'SZLU9073989': '5dc31bf5cdd9fc3e8b882c18', 'MRKU2980649': '5dc31bf5cdd9fc3e8b882c8c', 'MEDU3376210': '5dc31bffcdd9fc3e8b882de5', 'MSKU1195094': '5dc31bf6cdd9fc3e8b882cb0', 'MEDU1619923': '5dc31bf5cdd9fc3e8b882bdc', 'MEDU3742433': '5dc31bf4cdd9fc3e8b882b68', 'SUDU6708254': '5dc31bf6cdd9fc3e8b882cbe', 'GLDU3559760': '5dc31bf5cdd9fc3e8b882bcc', 'TGHU7893453': '5dc31bf4cdd9fc3e8b882ba0', 'MRKU6370500': '5dc31bf6cdd9fc3e8b882c9c', 'HAMU1077779': '5dc31bf4cdd9fc3e8b882b58', 'MEDU5423728': '5dc31bf6cdd9fc3e8b882cf2', 'BMOU2411466': '5dc31bf4cdd9fc3e8b882ba8', 'MEDU6231550': '5dc31bf5cdd9fc3e8b882bf0', 'TGHU8302154': '5dc31bf6cdd9fc3e8b882cca', 'ECMU2141279': '5dc31c15cdd9fc3e8b883410', 'GLDU3161186': '5dc31bf5cdd9fc3e8b882bc0', 'FSCU4765810': '5dc31bf5cdd9fc3e8b882c7c', 'MSKU0265094': '5dc31bf6cdd9fc3e8b882ca8', 'MRSU0299623': '5dc31bf6cdd9fc3e8b882ca4', 'TRHU1078276': '5dc31bf5cdd9fc3e8b882c40', 'MRKU5505323': '5dc31bf5cdd9fc3e8b882c90', 'GLDU9809825': '5dc31bf5cdd9fc3e8b882bd0', 'MRKU5868885': '5dc31bf5cdd9fc3e8b882c98', 'BEAU5001049': '5dc31bf4cdd9fc3e8b882ba4', 'HASU1433568': '5dc31bf4cdd9fc3e8b882b5c', 'FSCU9281166': '5dc31c19cdd9fc3e8b8836e4', 'CAIU9028891': '5dc31bf4cdd9fc3e8b882b40', 'MSCU7252572': '5dc31c02cdd9fc3e8b883051', 'TCKU1598243': '5dc31bf4cdd9fc3e8b882b94', 'MRKU5840980': '5dc31bf5cdd9fc3e8b882c94', 'CMAU0383497': '5dc31c15cdd9fc3e8b883408', 'TLLU2012183': '5dc31bf6cdd9fc3e8b882cce', 'TCNU8113499': '5dc31bf4cdd9fc3e8b882b98', 'TGHU6133456': '5dc31bf5cdd9fc3e8b882c6c', 'TCNU8829591': '5dc31bf5cdd9fc3e8b882c28', 'MSCU8443531': '5dc31bf4cdd9fc3e8b882b88', 'BAFU8615871': '5dc31bf6cdd9fc3e8b882cf6', 'BMOU4517170': '5dc31c02cdd9fc3e8b883049', 'HLXU1035467': '5dc31bf4cdd9fc3e8b882b4c', 'UETU2598439': '5dc31bffcdd9fc3e8b882e39', 'UACU3879117': '5dc31bf5cdd9fc3e8b882c70', 'CLHU2814190': '5dc31bf4cdd9fc3e8b882b44', 'CAIU4638280': '5dc31bf6cdd9fc3e8b882cfa', 'MEDU5347818': '5dc31bffcdd9fc3e8b882dc7', 'MEDU2833288': '5dc31bf5cdd9fc3e8b882c68', 'FSCU7184906': '5dc31c02cdd9fc3e8b88304d', 'MEDU8556827': '5dc31bffcdd9fc3e8b882deb', 'MEDU2169348': '5dc31bf4cdd9fc3e8b882b54', 'UACU5779077': '5dc31bffcdd9fc3e8b882e59', 'HASU4721423': '5dc31bf5cdd9fc3e8b882c84', 'HLBU2522441': '5dc31bf5cdd9fc3e8b882c64', 'CMAU2011945': '5dc31bf7cdd9fc3e8b882d9e', 'MEDU8695904': '5dc31bf4cdd9fc3e8b882b70', 'TCLU7300733': '5dc31bf6cdd9fc3e8b882cfe', 'MEDU3365397': '5dc31bffcdd9fc3e8b882de1', 'HASU4440160': '5dc31bf5cdd9fc3e8b882c80', 'GESU3300881': '5dc31c15cdd9fc3e8b883415', 'CXDU2058260': '5dc31bf5cdd9fc3e8b882c5c', 'MRKU2892804': '5dc31bf5cdd9fc3e8b882c88', 'TGHU3749767': '5dc31bf4cdd9fc3e8b882b9c', 'BEAU4238519': '5dc31bf7cdd9fc3e8b882d8e', 'MSKU9106555': '5dc31bf6cdd9fc3e8b882cba', 'TCLU6989361': '5dc31bf4cdd9fc3e8b882b8c', 'MSCU6143345': '5dc31bffcdd9fc3e8b882de7', 'MRKU6863044': '5dc31bf6cdd9fc3e8b882ca0', 'MEDU7264374': '5dc31bf4cdd9fc3e8b882b6c', 'HLBU1708160': '5dc31c19cdd9fc3e8b8836e8', 'GLDU7154462': '5dc31bffcdd9fc3e8b882dcb', 'TCLU2540140': '5dc31bf4cdd9fc3e8b882b48', 'SEGU4728190': '5dc31bffcdd9fc3e8b882e2d', 'MOAU6770579': '5dc31bf4cdd9fc3e8b882b78', 'TCLU8342585': '5dc31c19cdd9fc3e8b8836ec', 'MRKU9668102': '5dc31bffcdd9fc3e8b882df7', 'TCLU3716960': '5dc31bffcdd9fc3e8b882e3d', 'CMAU1826780': '5dc31c15cdd9fc3e8b88340c', 'MSKU4384532': '5dc31bf6cdd9fc3e8b882cb2', 'MSCU6987290': '5dc31bffcdd9fc3e8b882e69', 'CPSU5142762': '5dc31bf5cdd9fc3e8b882c78', 'HLBU9040570': '5dc31bffcdd9fc3e8b882dd1', 'MRKU4460203': '5dc31bf4cdd9fc3e8b882b7c', 'TLLU5674769': '5dc31bffcdd9fc3e8b882e51', 'MEDU4196023': '5dc31bffcdd9fc3e8b882e65', 'ONEU0250114': '5dc31bf4cdd9fc3e8b882b90', 'MSCU9170745': '5dc31bffcdd9fc3e8b882e0b', 'GESU5562392': '5dc31bffcdd9fc3e8b882dc3', 'MSCU5026853': '5dc31bf4cdd9fc3e8b882b84', 'SEGU1516135': '5dc31bffcdd9fc3e8b882e6d', 'FCIU6371858': '5dc31bf7cdd9fc3e8b882db6', 'TGBU5675105': '5dc31bf7cdd9fc3e8b882d72', 'TCNU6715120': '5dc31bffcdd9fc3e8b882e45', 'MEDU4096127': '5dc31bf6cdd9fc3e8b882d36', 'MOAU0794280': '5dc31bf6cdd9fc3e8b882d32', 'TCKU1039841': '5dc31bffcdd9fc3e8b882e35', 'UACU5815528': '5dc31bf7cdd9fc3e8b882d8a', 'TRHU3190351': '5dc31c00cdd9fc3e8b882eb5', 'TRLU4819010': '5dc31bf7cdd9fc3e8b882d7e', 'ACNU1091001': '5dc31c00cdd9fc3e8b882eb9', 'BEAU2152484': '5dc31c18cdd9fc3e8b8835ef', 'TLLU2569604': '5dc31bf6cdd9fc3e8b882d22', 'FCIU8423755': '5dc31bf7cdd9fc3e8b882dba', 'MRKU5015630': '5dc31c00cdd9fc3e8b882e91', 'MEDU6286553': '5dc31bf7cdd9fc3e8b882d9a', 'TRLU8200487': '5dc31bf7cdd9fc3e8b882d82', 'MRKU3043740': '5dc31bffcdd9fc3e8b882e89', 'TRHU3779439': '5dc31bf6cdd9fc3e8b882d5a', 'BSIU9694635': '5dc31bf6cdd9fc3e8b882d12', 'FCIU4273087': '5dc31bffcdd9fc3e8b882e75', 'TCNU2211076': '5dc31bf7cdd9fc3e8b882d6a', 'KKFU7722282': '5dc31bf6cdd9fc3e8b882d2e', 'MSKU6714464': '5dc31bffcdd9fc3e8b882e1d', 'TCLU5054266': '5dc31c19cdd9fc3e8b8836f0', 'MEDU7124937': '5dc31bf6cdd9fc3e8b882d46', 'CAIU3175679': '5dc31bf7cdd9fc3e8b882d92', 'TCNU6057478': '5dc31bf7cdd9fc3e8b882d6e', 'TCNU1422937': '5dc31bf7cdd9fc3e8b882d66', 'CAIU8507565': '5dc31bffcdd9fc3e8b882e71', 'TGHU9010563': '5dc31bf7cdd9fc3e8b882d76', 'HASU1358572': '5dc31bffcdd9fc3e8b882e79', 'FSCU8229224': '5dc31bf6cdd9fc3e8b882d2a', 'MEDU3294149': '5dc31bffcdd9fc3e8b882e61', 'BMOU1085350': '5dc31c18cdd9fc3e8b8835f3', 'TCLU5171128': '5dc31c00cdd9fc3e8b882ea9', 'TTNU1082090': '5dc31bf6cdd9fc3e8b882d56', 'MEDU3959970': '5dc31bf7cdd9fc3e8b882daa', 'DFSU1475787': '5dc31bf7cdd9fc3e8b882da6', 'TGHU9759490': '5dc31bf7cdd9fc3e8b882d7a', 'HASU5155505': '5dc31bffcdd9fc3e8b882e7d', 'TCLU9549345': '5dc31bf6cdd9fc3e8b882d62', 'FSCU8243984': '5dc31c00cdd9fc3e8b882ebd', 'MEDU2270559': '5dc31bffcdd9fc3e8b882dd9', 'MEDU8508217': '5dc31bf6cdd9fc3e8b882d52', 'MSCU6449818': '5dc31bffcdd9fc3e8b882ddd', 'MRKU4153362': '5dc31c00cdd9fc3e8b882e8d', 'CAIU9006260': '5dc31bf6cdd9fc3e8b882d16', 'MRSU3961712': '5dc31c00cdd9fc3e8b882e9d', 'CMAU3166710': '5dc31bf7cdd9fc3e8b882da2', 'MEDU7830609': '5dc31bf6cdd9fc3e8b882d4e', 'MRKU9711256': '5dc31c00cdd9fc3e8b882e95', 'TEMU2518000': '5dc31c18cdd9fc3e8b8835fb', 'FCIU9314194': '5dc31bf6cdd9fc3e8b882d26', 'GESU3947570': '5dc31bffcdd9fc3e8b882e5d', 'MRKU2067748': '5dc31bffcdd9fc3e8b882e81', 'FCIU3982880': '5dc31bf7cdd9fc3e8b882db2', 'CARU9650941': '5dc31bf6cdd9fc3e8b882d1a', 'MEDU6759430': '5dc31bffcdd9fc3e8b882dbf', 'MEDU7127068': '5dc31bf6cdd9fc3e8b882d4a', 'PONU7182089': '5dc31c00cdd9fc3e8b882ea5', 'TCLU3791937': '5dc31bf6cdd9fc3e8b882d5e', 'MSCU6756460': '5dc31bffcdd9fc3e8b882e07', 'DFSU7428139': '5dc31bf6cdd9fc3e8b882d1e', 'MSKU0485669': '5dc31bffcdd9fc3e8b882e0f', 'MSKU0930126': '5dc31c00cdd9fc3e8b882ea1', 'FBIU0391264': '5dc31bf7cdd9fc3e8b882dae', 'TGBU6680810': '5dc31c00cdd9fc3e8b882eb1', 'XINU1536576': '5dc31c18cdd9fc3e8b8835ff', 'ACLU9745483': '5dc31c01cdd9fc3e8b882fa5', 'UACU5168289': '5dc31bf7cdd9fc3e8b882d86', 'MSKU3440170': '5dc31bffcdd9fc3e8b882e19', 'MRSU3514885': '5dc31c00cdd9fc3e8b882e99', 'TEMU7373043': '5dc31c00cdd9fc3e8b882ead', 'MEDU4620424': '5dc31bf6cdd9fc3e8b882d3e', 'TCNU2919996': '5dc31bffcdd9fc3e8b882e41', 'MSKU9511434': '5dc31c01cdd9fc3e8b88300d', 'MRKU2605993': '5dc31bffcdd9fc3e8b882e85', 'MEDU4278230': '5dc31bf6cdd9fc3e8b882d3a', 'CAIU4540009': '5dc31bf7cdd9fc3e8b882d96', 'MEDU4960527': '5dc31bf6cdd9fc3e8b882d42', 'TGHU8840870': '5dc31bffcdd9fc3e8b882e4d', 'CMAU0704940': '5dc31c01cdd9fc3e8b882fbd', 'ACLU9768283': '5dc31c01cdd9fc3e8b882fa9', 'DFSU2708287': '5dc31c01cdd9fc3e8b882f75', 'UETU2754526': '5dc31c01cdd9fc3e8b882f55', 'TRIU8724089': '5dc31c22cdd9fc3e8b8837e2', 'TEMU7571178': '5dc31c02cdd9fc3e8b883039', 'BSIU9425066': '5dc31c0dcdd9fc3e8b88334f', 'GLDU7667300': '5dc31c01cdd9fc3e8b882f79', 'UETU2707484': '5dc31c01cdd9fc3e8b882fb1', 'TGHU9039314': '5dc31c01cdd9fc3e8b882f99', 'MSKU1041530': '5dc31c01cdd9fc3e8b882ff9', 'MNBU4048428': '5dc31c01cdd9fc3e8b882f7d', 'TEMU8299589': '5dc31c01cdd9fc3e8b882f59', 'BMOU2980225': '5dc31c01cdd9fc3e8b882fad', 'MRKU2282036': '5dc31c01cdd9fc3e8b882fd9', 'TGHU8757390': '5dc31c01cdd9fc3e8b882f95', 'TEMU8562231': '5dc31c01cdd9fc3e8b882f91', 'MSCU9872248': '5dc31c00cdd9fc3e8b882f3d', 'CAIU2667062': '5dc31c23cdd9fc3e8b8838d1', 'GLDU7512592': '5dc31c00cdd9fc3e8b882f05', 'TGHU9424368': '5dc31c01cdd9fc3e8b882f61', 'PONU1668601': '5dc31c01cdd9fc3e8b883015', 'MOTU0721465': '5dc31c00cdd9fc3e8b882f31', 'HLBU1605011': '5dc31c00cdd9fc3e8b882f09', 'TRLU7054536': '5dc31c01cdd9fc3e8b882f9d', 'HLXU1340706': '5dc31c00cdd9fc3e8b882f15', 'HASU4995548': '5dc31c01cdd9fc3e8b882fd5', 'HLBU2332499': '5dc31c01cdd9fc3e8b882fcd', 'MSKU1747892': '5dc31c01cdd9fc3e8b883005', 'TCNU5133001': '5dc31c00cdd9fc3e8b882f51', 'MSKU5219390': '5dc31c01cdd9fc3e8b882fd1', 'TGHU7856336': '5dc31c02cdd9fc3e8b88303d', 'HLXU6408835': '5dc31c00cdd9fc3e8b882f19', 'HLXU8450351': '5dc31c00cdd9fc3e8b882f21', 'BEAU5024506': '5dc31c01cdd9fc3e8b882fb9', 'MRKU2462700': '5dc31c01cdd9fc3e8b882fdd', 'HLXU8083765': '5dc31c00cdd9fc3e8b882f1d', 'TCLU5243608': '5dc31c01cdd9fc3e8b883025', 'MRKU4753460': '5dc31c01cdd9fc3e8b882fe5', 'PONU7286735': '5dc31c01cdd9fc3e8b883019', 'UACU3530892': '5dc31c01cdd9fc3e8b882f69', 'TCLU2401844': '5dc31c01cdd9fc3e8b883021', 'BMOU1283967': '5dc31c22cdd9fc3e8b8837cd', 'MEDU7168940': '5dc31c00cdd9fc3e8b882f29', 'FCIU2991280': '5dc31c2dcdd9fc3e8b883a99', 'FSCU7778066': '5dc31c00cdd9fc3e8b882f01', 'MSKU1456304': '5dc31c01cdd9fc3e8b882ffd', 'HLBU2443701': '5dc31c00cdd9fc3e8b882f11', 'TCLU5946133': '5dc31c01cdd9fc3e8b883029', 'FBLU0094532': '5dc31c00cdd9fc3e8b882efd', 'TCNU8498600': '5dc31c02cdd9fc3e8b883035', 'TGHU1311827': '5dc31c22cdd9fc3e8b8837de', 'HLBU2442027': '5dc31c00cdd9fc3e8b882f0d', 'MSKU7108570': '5dc31c01cdd9fc3e8b883009', 'MRKU5344548': '5dc31c01cdd9fc3e8b882fe9', 'TGHU6776344': '5dc31c01cdd9fc3e8b882f5d', 'MRKU9919996': '5dc31c01cdd9fc3e8b882ff5', 'CAIU2649834': '5dc31c00cdd9fc3e8b882ef5', 'PONU0527574': '5dc31c01cdd9fc3e8b883011', 'TCNU2106830': '5dc31c00cdd9fc3e8b882f4d', 'CSNU1463720': '5dc31c01cdd9fc3e8b882fc1', 'SEGU5841719': '5dc31c01cdd9fc3e8b88301d', 'MEDU8162124': '5dc31c00cdd9fc3e8b882f2d', 'CMAU0580773': '5dc31c22cdd9fc3e8b8837d5', 'TLLU5349199': '5dc31c02cdd9fc3e8b883045', 'TCNU5478066': '5dc31c02cdd9fc3e8b883031', 'MSCU8456689': '5dc31c00cdd9fc3e8b882f39', 'TGHU8072067': '5dc31c02cdd9fc3e8b883041', 'ONEU0034774': '5dc31c00cdd9fc3e8b882f45', 'CXDU2044230': '5dc31c01cdd9fc3e8b882fc5', 'CAIU2210522': '5dc31c22cdd9fc3e8b8837d1', 'MRKU6203740': '5dc31c01cdd9fc3e8b882fed', 'TCLU8654095': '5dc31c02cdd9fc3e8b88302d', 'CAIU7568144': '5dc31c01cdd9fc3e8b882f6d', 'MSKU1528322': '5dc31c01cdd9fc3e8b883001', 'MSCU5137939': '5dc31c00cdd9fc3e8b882f35', 'MRKU6326723': '5dc31c01cdd9fc3e8b882ff1', 'HLXU8140232': '5dc31c2fcdd9fc3e8b883bff', 'DFSU7317325': '5dc31c01cdd9fc3e8b882fc9', 'MRKU3160855': '5dc31c01cdd9fc3e8b882fe1', 'CAIU4979711': '5dc31c0bcdd9fc3e8b8831af', 'MSCU3490778': '5dc31c01cdd9fc3e8b882f81', 'MRSU4023166': '5dc31c0ccdd9fc3e8b8831fb', 'KKFU7797018': '5dc31c00cdd9fc3e8b882f25', 'FBLU0088843': '5dc31c00cdd9fc3e8b882ef9', 'MSKU0345250': '5dc31c0ccdd9fc3e8b8831ff', 'DFSU1242595': '5dc31c01cdd9fc3e8b882f71', 'SUDU7750367': '5dc31c0ccdd9fc3e8b883217', 'MRKU2064517': '5dc31c0bcdd9fc3e8b8831db', 'TLLU5553772': '5dc31c01cdd9fc3e8b882f65', 'MSCU3706867': '5dc31c0bcdd9fc3e8b88312f', 'CLHU9045097': '5dc31c2dcdd9fc3e8b883a85', 'DRYU9907079': '5dc31c24cdd9fc3e8b883974', 'TCKU6893832': '5dc31c0ccdd9fc3e8b883223', 'CMAU8349170': '5dc31c24cdd9fc3e8b883968', 'CMAU0711765': '5dc31c0acdd9fc3e8b883127', 'SEGU2694276': '5dc31c2fcdd9fc3e8b883c03', 'TCNU3072910': '5dc31c0acdd9fc3e8b8830f3', 'TCLU4916957': '5dc31c2dcdd9fc3e8b883a89', 'TCNU9638157': '5dc31c0ccdd9fc3e8b883233', 'HASU4511345': '5dc31c0bcdd9fc3e8b8831d7', 'TCLU5469745': '5dc31c0acdd9fc3e8b8830eb', 'TCKU2164452': '5dc31c0bcdd9fc3e8b88313f', 'APHU6518014': '5dc31c24cdd9fc3e8b88393d', 'HAMU1302859': '5dc31c0bcdd9fc3e8b8831c7', 'HLXU8633603': '5dc31c02cdd9fc3e8b8830ae', 'FPTU5011603': '5dc31c0bcdd9fc3e8b8831bf', 'XINU8069724': '5dc31c0acdd9fc3e8b88310f', 'APZU4646847': '5dc31c24cdd9fc3e8b883945', 'FSCU7940428': '5dc31c0bcdd9fc3e8b883133', 'FCIU6066279': '5dc31c02cdd9fc3e8b88308a', 'CMAU8319663': '5dc31c24cdd9fc3e8b883964', 'HAMU1291800': '5dc31c2fcdd9fc3e8b883bfb', 'GATU8712910': '5dc31c0bcdd9fc3e8b883137', 'UACU5908493': '5dc31c2dcdd9fc3e8b883a8d', 'UACU4796491': '5dc31c0ccdd9fc3e8b88323b', 'SUDU6879703': '5dc31c0bcdd9fc3e8b883173', 'CAXU9212597': '5dc31c0bcdd9fc3e8b8831b3', 'TEMU7472621': '5dc31c0acdd9fc3e8b8830fb', 'MRKU5250156': '5dc31c0ccdd9fc3e8b8831e7', 'CAIU7571050': '5dc31c0acdd9fc3e8b883123', 'TCLU2844396': '5dc31c0ccdd9fc3e8b88322b', 'MEDU8247263': '5dc31c02cdd9fc3e8b8830c2', 'MSKU1629987': '5dc31c0ccdd9fc3e8b883203', 'GESU5822627': '5dc31c02cdd9fc3e8b883092', 'TCNU4335100': '5dc31c0ccdd9fc3e8b88322f', 'HLBU2404006': '5dc31c02cdd9fc3e8b8830a2', 'MRSU0245838': '5dc31c0ccdd9fc3e8b8831f7', 'SLSU8027966': '5dc31c2dcdd9fc3e8b883a91', 'HLBU2065453': '5dc31c02cdd9fc3e8b88309a', 'APZU4668682': '5dc31c24cdd9fc3e8b88394d', 'SUDU8823215': '5dc31c0bcdd9fc3e8b883177', 'MRKU6448505': '5dc31c0ccdd9fc3e8b8831eb', 'TCLU2768906': '5dc31c02cdd9fc3e8b883096', 'SUDU8845277': '5dc31c0ccdd9fc3e8b88321b', 'TCKU6324728': '5dc31c0ccdd9fc3e8b88321f', 'TGBU2183225': '5dc31c0acdd9fc3e8b8830ff', 'MSDU7668959': '5dc31c0bcdd9fc3e8b88315f', 'HASU4304121': '5dc31c0bcdd9fc3e8b8831d3', 'TCLU2401145': '5dc31c0ccdd9fc3e8b883227', 'MEDU8872173': '5dc31c02cdd9fc3e8b8830c6', 'TEMU1627074': '5dc31c0bcdd9fc3e8b8831cf', 'MSCU8130326': '5dc31c02cdd9fc3e8b8830d2', 'SEGU6228790': '5dc31c2fcdd9fc3e8b883be3', 'MRKU2645810': '5dc31c0bcdd9fc3e8b8831df', 'MSKU1714667': '5dc31c0ccdd9fc3e8b883207', 'MSCU7989111': '5dc31c0bcdd9fc3e8b88315b', 'HLBU2230970': '5dc31c02cdd9fc3e8b88309e', 'CMAU8081615': '5dc31c24cdd9fc3e8b88395c', 'MSCU3475095': '5dc31c0bcdd9fc3e8b883157', 'FDCU0616819': '5dc31c02cdd9fc3e8b88308e', 'UACU5189044': '5dc31c0ccdd9fc3e8b88323f', 'TGHU1347732': '5dc31c24cdd9fc3e8b883984', 'HLXU3335313': '5dc31c2fcdd9fc3e8b883be7', 'TCLU1204120': '5dc31c0acdd9fc3e8b8830e3', 'TCLU4451145': '5dc31c24cdd9fc3e8b883980', 'MRKU5098871': '5dc31c0ccdd9fc3e8b8831e3', 'HLXU8470018': '5dc31c02cdd9fc3e8b8830aa', 'MEDU5627608': '5dc31c0bcdd9fc3e8b88312b', 'APZU4655860': '5dc31c24cdd9fc3e8b883949', 'MSKU8473448': '5dc31c0ccdd9fc3e8b88320f', 'UACU5329547': '5dc31c0acdd9fc3e8b883107', 'TRIU8163943': '5dc31c0bcdd9fc3e8b883187', 'MSKU7199517': '5dc31c0ccdd9fc3e8b88320b', 'APZU4670186': '5dc31c24cdd9fc3e8b883952', 'MRKU7886384': '5dc31c0ccdd9fc3e8b8831ef', 'UTCU4650205': '5dc31c0bcdd9fc3e8b88318b', 'TTNU9586143': '5dc31c0acdd9fc3e8b883103', 'UACU6016280': '5dc31c0ccdd9fc3e8b883243', 'TRLU3890055': '5dc31c24cdd9fc3e8b88398c', 'SUDU6971614': '5dc31c0ccdd9fc3e8b883213', 'UACU5802304': '5dc31c0acdd9fc3e8b88310b', 'CAIU2076516': '5dc31c0bcdd9fc3e8b8831ab', 'TCLU2163690': '5dc31c0acdd9fc3e8b8830e7', 'APZU3969125': '5dc31c24cdd9fc3e8b883941', 'BMOU4286403': '5dc31c0acdd9fc3e8b88311b', 'TEMU7812275': '5dc31c0ccdd9fc3e8b883237', 'UTCU4903366': '5dc31c0ccdd9fc3e8b883247', 'MEDU4864307': '5dc31c02cdd9fc3e8b8830ba', 'NYKU5251184': '5dc31c0acdd9fc3e8b8830df', 'MRSU0226210': '5dc31c0ccdd9fc3e8b8831f3', 'MEDU7268894': '5dc31c02cdd9fc3e8b8830be', 'AMFU8733820': '5dc31c0acdd9fc3e8b883113', 'NYKU4846017': '5dc31c0acdd9fc3e8b8830db', 'BMOU2817291': '5dc31c2fcdd9fc3e8b883beb', 'MEDU7918813': '5dc31c0bcdd9fc3e8b883143', 'GESU5684934': '5dc31c0bcdd9fc3e8b8831c3', 'UACU3550651': '5dc31c02cdd9fc3e8b883086', 'ECMU2162158': '5dc31c24cdd9fc3e8b883978', 'MRKU2740041': '5dc31c0ecdd9fc3e8b883387', 'TCNU6455208': '5dc31c0bcdd9fc3e8b88317b', 'TEMU7248381': '5dc31c0acdd9fc3e8b8830f7', 'TCLU5425900': '5dc31c0ecdd9fc3e8b8833cb', 'MEDU4472158': '5dc31c0bcdd9fc3e8b88313b', 'CXRU1495764': '5dc31c24cdd9fc3e8b883970', 'SUDU1474791': '5dc31c0bcdd9fc3e8b8831cb', 'UACU3921177': '5dc31c2fcdd9fc3e8b883bef', 'MRKU4886544': '5dc31c0bcdd9fc3e8b883147', 'TCLU6658152': '5dc31c0acdd9fc3e8b8830ef', 'KKFU7934363': '5dc31c02cdd9fc3e8b8830b2', 'EITU0245820': '5dc31c24cdd9fc3e8b88397c', 'CMAU5224862': '5dc31c0bcdd9fc3e8b8831b7', 'CMAU2017310': '5dc31c24cdd9fc3e8b883956', 'SUDU6824038': '5dc31c0bcdd9fc3e8b88316f', 'MRKU2518501': '5dc31c0ecdd9fc3e8b883383', 'HLXU8137835': '5dc31c02cdd9fc3e8b8830a6', 'TCLU1410461': '5dc31c0dcdd9fc3e8b88335b', 'BMOU6956715': '5dc31c0acdd9fc3e8b88311f', 'FCIU8208259': '5dc31c22cdd9fc3e8b883799', 'HLBU2602948': '5dc31c0dcdd9fc3e8b883367', 'AMFU8873020': '5dc31c0acdd9fc3e8b883117', 'MRKU0958646': '5dc31c0dcdd9fc3e8b883377', 'CAXU8077044': '5dc31c0dcdd9fc3e8b883353', 'MRKU3691403': '5dc31c0dcdd9fc3e8b8832ff', 'CMAU8178647': '5dc31c24cdd9fc3e8b883960', 'FCIU7006844': '5dc31c0dcdd9fc3e8b8832eb', 'TGHU5109408': '5dc31c24cdd9fc3e8b883988', 'MEDU7070152': '5dc31c0dcdd9fc3e8b8832f3', 'MSKU0891821': '5dc31c0ecdd9fc3e8b8833a7', 'TRHU3698316': '5dc31c0dcdd9fc3e8b8832bf', 'CMAU9038212': '5dc31c24cdd9fc3e8b88396c', 'PONU2010019': '5dc31c0dcdd9fc3e8b883317', 'BMOU5458174': '5dc31c2ecdd9fc3e8b883b4d', 'DFSU1474055': '5dc31c0ccdd9fc3e8b883277', 'MEDU8466127': '5dc31c0dcdd9fc3e8b8832f7', 'HASU4030777': '5dc31c0dcdd9fc3e8b883363', 'TCNU1129868': '5dc31c0ecdd9fc3e8b8833cf', 'TCLU2130233': '5dc31c0ccdd9fc3e8b8832a3', 'MSCU6472335': '5dc31c0dcdd9fc3e8b8832df', 'CMAU1539218': '5dc31c2ecdd9fc3e8b883b59', 'TCLU3107367': '5dc31c0dcdd9fc3e8b883347', 'TEMU5153749': '5dc31c0ccdd9fc3e8b88328f', 'HLXU1094834': '5dc31c0ecdd9fc3e8b8833e3', 'PONU8157516': '5dc31c0ecdd9fc3e8b8833bb', 'CMAU2147340': '5dc31c2ecdd9fc3e8b883b61', 'MOAU5817368': '5dc31c0ccdd9fc3e8b883263', 'CXRU1537427': '5dc31c0dcdd9fc3e8b8832e3', 'TCNU1619989': '5dc31c0ecdd9fc3e8b8833e7', 'CAIU3019697': '5dc31c0dcdd9fc3e8b88333f', 'TCLU9794445': '5dc31c0dcdd9fc3e8b88331f', 'CAIU8363318': '5dc31c0ccdd9fc3e8b88326f', 'SUDU7973083': '5dc31c0ecdd9fc3e8b8833c7', 'MEDU4483316': '5dc31c0ecdd9fc3e8b8833eb', 'HLXU3292628': '5dc31c0dcdd9fc3e8b88336b', 'TGBU6770149': '5dc31c2ecdd9fc3e8b883b6b', 'MEDU5165731': '5dc31c0dcdd9fc3e8b8832af', 'SEGU8020933': '5dc31c0ecdd9fc3e8b8833ef', 'UETU2644200': '5dc31c0dcdd9fc3e8b88334b', 'TRHU1114476': '5dc31c0dcdd9fc3e8b883323', 'FCIU6392017': '5dc31c0ccdd9fc3e8b88327f', 'MSKU1846621': '5dc31c0ecdd9fc3e8b8833af', 'FCIU8457930': '5dc31c2fcdd9fc3e8b883bf3', 'SIMU2434878': '5dc31c0ecdd9fc3e8b8833f3', 'CMAU2084535': '5dc31c2ecdd9fc3e8b883b5d', 'HLXU8167742': '5dc31c0dcdd9fc3e8b883343', 'AXIU2187807': '5dc31c0ccdd9fc3e8b88325f', 'SUDU7346756': '5dc31c0ecdd9fc3e8b8833c3', 'FDCU0507459': '5dc31c0ccdd9fc3e8b883287', 'TRLU3896460': '5dc31c0ecdd9fc3e8b8833db', 'MSKU1447811': '5dc31c0ecdd9fc3e8b8833ab', 'MEDU5305200': '5dc31c0dcdd9fc3e8b8832ef', 'MEDU3868139': '5dc31c0ccdd9fc3e8b8832a7', 'FDCU0132603': '5dc31c2fcdd9fc3e8b883bf7', 'MRKU8908512': '5dc31c0ecdd9fc3e8b883397', 'TGBU5335548': '5dc31c0ecdd9fc3e8b8833d7', 'CAIU2856868': '5dc31c0ccdd9fc3e8b883267', 'MSCU5215060': '5dc31c0ecdd9fc3e8b8833f7', 'GESU6012929': '5dc31c0dcdd9fc3e8b883357', 'MRKU4321810': '5dc31c0ecdd9fc3e8b88338b', 'KKFU7815549': '5dc31c0ccdd9fc3e8b88329f', 'SUDU8012645': '5dc31c0dcdd9fc3e8b88331b', 'TCLU4485546': '5dc31c38cdd9fc3e8b883d5c', 'SUDU1103620': '5dc31c24cdd9fc3e8b883909', 'HASU4026669': '5dc31c0ccdd9fc3e8b883297', 'MRSU3495580': '5dc31c0ecdd9fc3e8b8833a3', 'GLDU3915624': '5dc31c0ccdd9fc3e8b883293', 'MEDU1121118': '5dc31c15cdd9fc3e8b8833fc', 'HLBU1008947': '5dc31c30cdd9fc3e8b883d4f', 'MSCU6148162': '5dc31c0dcdd9fc3e8b883303', 'CMAU0230733': '5dc31c2ecdd9fc3e8b883b50', 'MRKU8701593': '5dc31c0ecdd9fc3e8b883393', 'MEDU2392114': '5dc31c16cdd9fc3e8b8834a9', 'MEDU8860866': '5dc31c0dcdd9fc3e8b8832b3', 'TCKU3008691': '5dc31c2ecdd9fc3e8b883b67', 'UETU2603469': '5dc31c0dcdd9fc3e8b883327', 'DRYU6025668': '5dc31c0ccdd9fc3e8b88327b', 'MSKU3744399': '5dc31c0ecdd9fc3e8b8833b3', 'MEDU4449477': '5dc31c0dcdd9fc3e8b8832ab', 'MRSU3324822': '5dc31c0ecdd9fc3e8b88339f', 'GCXU2236282': '5dc31c0ccdd9fc3e8b88328b', 'MRKU8431121': '5dc31c0ecdd9fc3e8b88338f', 'CARU4278092': '5dc31c30cdd9fc3e8b883d53', 'TGBU5178243': '5dc31c0dcdd9fc3e8b8832c7', 'MRSU0109554': '5dc31c0ecdd9fc3e8b88339b', 'TCNU6428898': '5dc31c0dcdd9fc3e8b8832c3', 'MRKU2063207': '5dc31c0dcdd9fc3e8b88337b', 'CAIU6804749': '5dc31c0ccdd9fc3e8b88326b', 'TEMU2033035': '5dc31c0ecdd9fc3e8b8833d3', 'DFSU6309789': '5dc31c22cdd9fc3e8b883795', 'MEDU2239574': '5dc31c15cdd9fc3e8b883404', 'SLSU8067104': '5dc31c0ecdd9fc3e8b8833bf', 'UACU8215403': '5dc31c0ecdd9fc3e8b8833df', 'TGHU6008921': '5dc31c0dcdd9fc3e8b8832cf', 'TLLU5456140': '5dc31c0dcdd9fc3e8b8832d3', 'MRKU2133900': '5dc31c0dcdd9fc3e8b88337f', 'BEAU2156387': '5dc31c2fcdd9fc3e8b883c5b', 'MSCU5208903': '5dc31c16cdd9fc3e8b8834fb', 'HAMU1074342': '5dc31c0dcdd9fc3e8b88335f', 'FDCU0460270': '5dc31c0ccdd9fc3e8b883283', 'DFSU6512585': '5dc31c0dcdd9fc3e8b8832e7', 'MSKU1155907': '5dc31c17cdd9fc3e8b883567', 'NYKU5952749': '5dc31c0dcdd9fc3e8b8832bb', 'BEAU2825158': '5dc31c16cdd9fc3e8b88347d', 'MSKU1217110': '5dc31c17cdd9fc3e8b88356b', 'CAIU8455559': '5dc31c15cdd9fc3e8b883425', 'HASU4190369': '5dc31c17cdd9fc3e8b88351f', 'SWTU2252630': '5dc31c16cdd9fc3e8b8834cf', 'MRKU2032340': '5dc31c17cdd9fc3e8b883533', 'MSKU4426469': '5dc31c17cdd9fc3e8b88357b', 'MEDU6820632': '5dc31c16cdd9fc3e8b88344d', 'TTNU8183307': '5dc31c38cdd9fc3e8b883d58', 'HASU4257312': '5dc31c17cdd9fc3e8b883523', 'GESU6338453': '5dc31c38cdd9fc3e8b883dd0', 'MSKU0712891': '5dc31c17cdd9fc3e8b88355f', 'HLBU2459143': '5dc31c16cdd9fc3e8b883445', 'CAXU9282758': '5dc31c16cdd9fc3e8b883507', 'UACU5141061': '5dc31c22cdd9fc3e8b883791', 'TCLU5116368': '5dc31c17cdd9fc3e8b8835a7', 'MEDU5047976': '5dc31c16cdd9fc3e8b8834ab', 'MSKU2738811': '5dc31c17cdd9fc3e8b88354b', 'TRLU8972351': '5dc31c2fcdd9fc3e8b883c77', 'CMAU0690359': '5dc31c2fcdd9fc3e8b883c5f', 'UACU5314341': '5dc31c16cdd9fc3e8b883479', 'TGHU1690649': '5dc31c17cdd9fc3e8b883573', 'MRKU7114396': '5dc31c17cdd9fc3e8b883547', 'HASU5196422': '5dc31c17cdd9fc3e8b88352b', 'DRYU9361394': '5dc31c15cdd9fc3e8b883431', 'BMOU4658814': '5dc31c16cdd9fc3e8b88348d', 'TTNU1018609': '5dc31c17cdd9fc3e8b8835b3', 'MRKU3977130': '5dc31c17cdd9fc3e8b88353b', 'BMOU4913479': '5dc31c15cdd9fc3e8b883419', 'TEMU7462644': '5dc31c16cdd9fc3e8b883475', 'SEGU1426073': '5dc31c17cdd9fc3e8b88358f', 'MSKU9128908': '5dc31c17cdd9fc3e8b883583', 'TCKU3708036': '5dc31c16cdd9fc3e8b8834c3', 'TEMU6573807': '5dc31c16cdd9fc3e8b883471', 'HASU4525462': '5dc31c17cdd9fc3e8b883527', 'MSKU2940904': '5dc31c17cdd9fc3e8b88351b', 'MEDU5616218': '5dc31c16cdd9fc3e8b883485', 'MRKU6270990': '5dc31c17cdd9fc3e8b883543', 'TGHU1797046': '5dc31c17cdd9fc3e8b8835af', 'MEDU3787891': '5dc31c16cdd9fc3e8b883451', 'CAIU8672791': '5dc31c16cdd9fc3e8b883491', 'TGHU1507569': '5dc31c2fcdd9fc3e8b883c73', 'GLDU3698703': '5dc31c15cdd9fc3e8b88341d', 'MRKU4059145': '5dc31c17cdd9fc3e8b88353f', 'UACU8068468': '5dc31c18cdd9fc3e8b8835e3', 'FCIU4330968': '5dc31c16cdd9fc3e8b883435', 'MEDU3632164': '5dc31c16cdd9fc3e8b8834f7', 'MSKU0477299': '5dc31c17cdd9fc3e8b883557', 'TCKU6404839': '5dc31c16cdd9fc3e8b8834d3', 'MSKU0426711': '5dc31c17cdd9fc3e8b883553', 'PONU0636404': '5dc31c17cdd9fc3e8b883587', 'CXDU2012568': '5dc31c15cdd9fc3e8b88342d', 'TGBU5399877': '5dc31c17cdd9fc3e8b8835ab', 'SUDU7414995': '5dc31c17cdd9fc3e8b88359b', 'MEDU5410931': '5dc31c16cdd9fc3e8b883455', 'BMOU2830837': '5dc31c39cdd9fc3e8b883ec6', 'MEDU1064698': '5dc31c16cdd9fc3e8b883499', 'MRKU8005759': '5dc31c17cdd9fc3e8b88354f', 'GCNU1168590': '5dc31c15cdd9fc3e8b883421', 'TEMU2294506': '5dc31c2fcdd9fc3e8b883c6f', 'HASU4033483': '5dc31c16cdd9fc3e8b8834a5', 'TCKU6462579': '5dc31c16cdd9fc3e8b88346d', 'BMOU2445661': '5dc31c16cdd9fc3e8b883503', 'MEDU2380577': '5dc31c16cdd9fc3e8b8834a1', 'CMAU1098724': '5dc31c2fcdd9fc3e8b883c67', 'HLBU1872070': '5dc31c17cdd9fc3e8b88352f', 'MSDU1089456': '5dc31c16cdd9fc3e8b8834c7', 'MSKU1397053': '5dc31c17cdd9fc3e8b88356f', 'TEMU5459533': '5dc31c16cdd9fc3e8b883465', 'MRKU4508101': '5dc31c16cdd9fc3e8b8834b7', 'MSKU1085707': '5dc31c17cdd9fc3e8b883563', 'HLXU6470425': '5dc31c18cdd9fc3e8b8835e7', 'CMAU0761534': '5dc31c2fcdd9fc3e8b883c63', 'CSNU6053348': '5dc31c17cdd9fc3e8b883513', 'TCNU2539698': '5dc31c16cdd9fc3e8b8834d7', 'MSKU4400905': '5dc31c17cdd9fc3e8b883577', 'MRKU2466007': '5dc31c16cdd9fc3e8b883459', 'CMAU0243751': '5dc31c17cdd9fc3e8b88350f', 'UETU5045057': '5dc31c17cdd9fc3e8b8835bf', 'GLDU5515150': '5dc31c16cdd9fc3e8b88349d', 'MRKU3086022': '5dc31c17cdd9fc3e8b883537', 'TTNU1140345': '5dc31c17cdd9fc3e8b8835b7', 'TEMU1738340': '5dc31c16cdd9fc3e8b8834db', 'HLBU1772430': '5dc31c16cdd9fc3e8b883441', 'SUDU6977818': '5dc31c17cdd9fc3e8b883597', 'UACU5792016': '5dc31c17cdd9fc3e8b8835bb', 'BMOU2709759': '5dc31c16cdd9fc3e8b883489', 'MSKU0655641': '5dc31c17cdd9fc3e8b88355b', 'MSKU7330817': '5dc31c17cdd9fc3e8b88357f', 'MRKU5235927': '5dc31c21cdd9fc3e8b883755', 'KKFU7079350': '5dc31c16cdd9fc3e8b883449', 'MRKU4078715': '5dc31c18cdd9fc3e8b8835eb', 'MEDU6267830': '5dc31c16cdd9fc3e8b8834b3', 'PONU8030500': '5dc31c17cdd9fc3e8b88358b', 'NYKU3092186': '5dc31c16cdd9fc3e8b88343d', 'APZU3504690': '5dc31c2fcdd9fc3e8b883c57', 'BMOU2076650': '5dc31c16cdd9fc3e8b883481', 'TCKU1231453': '5dc31c17cdd9fc3e8b88359f', 'AXIU1481611': '5dc31c16cdd9fc3e8b8834ff', 'MEDU5645751': '5dc31c16cdd9fc3e8b8834af', 'UACU4115860': '5dc31c16cdd9fc3e8b883469', 'GATU8386500': '5dc31c17cdd9fc3e8b883517', 'CCLU8601632': '5dc31c17cdd9fc3e8b88350b', 'MSKU0950035': '5dc31c16cdd9fc3e8b8834cb', 'MEDU5496874': '5dc31c16cdd9fc3e8b883495', 'CXDU1663565': '5dc31c15cdd9fc3e8b883429', 'MRKU9131197': '5dc31c22cdd9fc3e8b883765', 'MRKU0246560': '5dc31c21cdd9fc3e8b88373d', 'MRKU3162400': '5dc31c21cdd9fc3e8b883749', 'MSCU6439933': '5dc31c16cdd9fc3e8b883461', 'MEDU5469288': '5dc31c19cdd9fc3e8b8836a8', 'HLBU2188782': '5dc31c18cdd9fc3e8b883638', 'SUDU7474839': '5dc31c19cdd9fc3e8b883714', 'MRSU3551019': '5dc31c19cdd9fc3e8b8836b8', 'KKTU8213350': '5dc31c18cdd9fc3e8b883640', 'MEDU5768885': '5dc31c18cdd9fc3e8b883684', 'HASU4286985': '5dc31c21cdd9fc3e8b883719', 'MSKU9631548': '5dc31c22cdd9fc3e8b883779', 'NYKU3932640': '5dc31c18cdd9fc3e8b88363c', 'MNBU3160829': '5dc31c21cdd9fc3e8b883735', 'HLXU8336170': '5dc31c21cdd9fc3e8b883731', 'MSKU8913660': '5dc31c22cdd9fc3e8b883771', 'MRSU4030761': '5dc31c22cdd9fc3e8b883769', 'NYKU4724282': '5dc31c18cdd9fc3e8b883654', 'MSKU0824206': '5dc31c19cdd9fc3e8b8836c0', 'MSKU4120355': '5dc31c22cdd9fc3e8b88376d', 'TGCU2088221': '5dc31c22cdd9fc3e8b88378d', 'TCLU7861544': '5dc31c19cdd9fc3e8b8836dc', 'HLBU2029501': '5dc31c21cdd9fc3e8b883729', 'CAXU2583256': '5dc31c18cdd9fc3e8b883610', 'PONU8179460': '5dc31c19cdd9fc3e8b8836d8', 'MRKU2253486': '5dc31c21cdd9fc3e8b883741', 'CAIU4660642': '5dc31c18cdd9fc3e8b88360c', 'GLDU2897260': '5dc31c18cdd9fc3e8b883680', 'HASU4436745': '5dc31c21cdd9fc3e8b883721', 'HASU4625841': '5dc31c18cdd9fc3e8b883690', 'MEDU3761520': '5dc31c18cdd9fc3e8b883644', 'MEDU5941590': '5dc31c18cdd9fc3e8b883688', 'CLHU4796264': '5dc31c19cdd9fc3e8b883710', 'CARU2728225': '5dc31c18cdd9fc3e8b883604', 'ONEU0301778': '5dc31c18cdd9fc3e8b883658', 'SUDU5832234': '5dc31c22cdd9fc3e8b883789', 'PONU7957258': '5dc31c19cdd9fc3e8b8836d4', 'MSKU9092575': '5dc31c22cdd9fc3e8b883775', 'MRKU7977490': '5dc31c22cdd9fc3e8b883761', 'TGHU1059910': '5dc31c18cdd9fc3e8b88361c', 'TRLU7630740': '5dc31c19cdd9fc3e8b8836e0', 'MRKU5198931': '5dc31c21cdd9fc3e8b883751', 'TLLU5271505': '5dc31c18cdd9fc3e8b883668', 'CXDU1588646': '5dc31c18cdd9fc3e8b883678', 'SUDU5711567': '5dc31c22cdd9fc3e8b883781', 'MEDU2290616': '5dc31c18cdd9fc3e8b8836a0', 'HLBU1684160': '5dc31c21cdd9fc3e8b883725', 'SEGU1417512': '5dc31c19cdd9fc3e8b883708', 'TCLU9337752': '5dc31c18cdd9fc3e8b88365c', 'SUDU5795594': '5dc31c22cdd9fc3e8b883785', 'UACU8609454': '5dc31c19cdd9fc3e8b88370c', 'MEDU2375420': '5dc31c18cdd9fc3e8b8836a4', 'UASU1061817': '5dc31c18cdd9fc3e8b883670', 'MRKU3506640': '5dc31c21cdd9fc3e8b88374d', 'MSKU1101182': '5dc31c19cdd9fc3e8b8836c4', 'AMFU3170030': '5dc31c19cdd9fc3e8b8836f8', 'MEDU1678464': '5dc31c18cdd9fc3e8b883624', 'MRKU2691121': '5dc31c21cdd9fc3e8b883745', 'HASU4110810': '5dc31c18cdd9fc3e8b88368c', 'MSCU9066690': '5dc31c18cdd9fc3e8b883650', 'UACU3814646': '5dc31c3bcdd9fc3e8b884060', 'MRKU6120202': '5dc31c22cdd9fc3e8b88375d', 'TCNU7782247': '5dc31c18cdd9fc3e8b883660', 'MORU1118715': '5dc31c19cdd9fc3e8b883704', 'TRHU2063115': '5dc31c18cdd9fc3e8b883664', 'TRHU1886968': '5dc31c18cdd9fc3e8b883608', 'CMAU0846349': '5dc31c18cdd9fc3e8b883674', 'CAXU6804458': '5dc31c18cdd9fc3e8b883614', 'HASU4307270': '5dc31c21cdd9fc3e8b88371d', 'MSKU9345689': '5dc31c19cdd9fc3e8b8836d0', 'MEDU3732878': '5dc31c3bcdd9fc3e8b884064', 'MEDU2437667': '5dc31c19cdd9fc3e8b883700', 'FCIU3976043': '5dc31c18cdd9fc3e8b88367c', 'MRKU6079367': '5dc31c22cdd9fc3e8b883759', 'MSKU1995693': '5dc31c19cdd9fc3e8b8836cc', 'CAIU6679138': '5dc31c19cdd9fc3e8b8836fc', 'HLXU5100621': '5dc31c21cdd9fc3e8b88372d', 'LNXU8455304': '5dc31c18cdd9fc3e8b883698', 'MEDU2087131': '5dc31c18cdd9fc3e8b88369c', 'FCIU4207193': '5dc31c18cdd9fc3e8b883618', 'MEDU2960868': '5dc31c3bcdd9fc3e8b884068', 'MNBU3669267': '5dc31c21cdd9fc3e8b883739', 'MSKU1189759': '5dc31c19cdd9fc3e8b8836c8', 'TRLU5712875': '5dc31c18cdd9fc3e8b88366c', 'MWCU5309934': '5dc31c22cdd9fc3e8b88377d', 'MRKU3957094': '5dc31c19cdd9fc3e8b8836ac', 'FCIU5375139': '5dc31c18cdd9fc3e8b883620', 'FCIU4517645': '5dc31c38cdd9fc3e8b883dcc', 'MSKU0419965': '5dc31c19cdd9fc3e8b8836bc', 'GLDU7320265': '5dc31c18cdd9fc3e8b883630', 'MSCU7308178': '5dc31c3bcdd9fc3e8b884070', 'MEDU2701810': '5dc31c23cdd9fc3e8b88385f', 'TCLU2078182': '5dc31c18cdd9fc3e8b883634', 'FSCU8550260': '5dc31c18cdd9fc3e8b883628', 'MRKU6246850': '5dc31c19cdd9fc3e8b8836b4', 'MSCU3507171': '5dc31c18cdd9fc3e8b88364c', 'MRKU4466958': '5dc31c19cdd9fc3e8b8836b0', 'MAGU2175131': '5dc31c38cdd9fc3e8b883dd2', 'TTNU1207156': '5dc31c18cdd9fc3e8b883648', 'CXDU1522675': '5dc31c23cdd9fc3e8b883853', 'CAIU8180209': '5dc31c23cdd9fc3e8b8838e1', 'MEDU4526803': '5dc31c22cdd9fc3e8b8837c9', 'MNBU3828543': '5dc31c22cdd9fc3e8b883823', 'TCKU6852807': '5dc31c23cdd9fc3e8b8838b1', 'CAIU4506832': '5dc31c23cdd9fc3e8b8838dd', 'TGHU0015076': '5dc31c23cdd9fc3e8b88384b', 'SUDU8771868': '5dc31c23cdd9fc3e8b8838ad', 'SIMU2596420': '5dc31c3bcdd9fc3e8b884074', 'CAIU8055790': '5dc31c22cdd9fc3e8b8837f3', 'MRKU2626574': '5dc31c23cdd9fc3e8b883879', 'TCNU8668774': '5dc31c23cdd9fc3e8b8838b9', 'MSCU1729760': '5dc31c23cdd9fc3e8b88382b', 'MSKU9029839': '5dc31c23cdd9fc3e8b8838fd', 'MSCU7724339': '5dc31c23cdd9fc3e8b883833', 'GCNU1269091': '5dc31c23cdd9fc3e8b8838d5', 'MRKU3684169': '5dc31c23cdd9fc3e8b88387d', 'CXRU1630416': '5dc31c23cdd9fc3e8b8838e9', 'SEGU9478514': '5dc31c23cdd9fc3e8b883905', 'MSKU0707621': '5dc31c23cdd9fc3e8b88389d', 'MSKU0605872': '5dc31c23cdd9fc3e8b883899', 'MSCU6658696': '5dc31c23cdd9fc3e8b88382f', 'MSKU9189333': '5dc31c23cdd9fc3e8b883901', 'TGHU7850277': '5dc31c23cdd9fc3e8b8838c5', 'SZLU9366288': '5dc31c24cdd9fc3e8b883915', 'MSKU8322800': '5dc31c23cdd9fc3e8b8838a1', 'MEDU7015900': '5dc31c22cdd9fc3e8b88381f', 'CAIU4893855': '5dc31c24cdd9fc3e8b883919', 'TEMU6184960': '5dc31c23cdd9fc3e8b8838bd', 'MEDU2373114': '5dc31c22cdd9fc3e8b8837fb', 'CAIU6756640': '5dc31c23cdd9fc3e8b88384f', 'MIEU0008746': '5dc31c23cdd9fc3e8b883871', 'SUDU5291891': '5dc31c24cdd9fc3e8b88390d', 'BMOU1526096': '5dc31c22cdd9fc3e8b8837e7', 'UACU3771225': '5dc31c3bcdd9fc3e8b883fa8', 'MEDU6630381': '5dc31c23cdd9fc3e8b88386d', 'FSCU9852943': '5dc31c22cdd9fc3e8b883807', 'TCKU6045301': '5dc31c3bcdd9fc3e8b88406c', 'MRSU3489988': '5dc31c23cdd9fc3e8b88388d', 'FTAU1188989': '5dc31c23cdd9fc3e8b8838ed', 'UESU4620461': '5dc31c23cdd9fc3e8b8838c9', 'GLDU2981540': '5dc31c22cdd9fc3e8b88380b', 'FCIU2863295': '5dc31c23cdd9fc3e8b883857', 'MSKU9751271': '5dc31c23cdd9fc3e8b8838a5', 'TCLU7377041': '5dc31c23cdd9fc3e8b883837', 'HLXU1381541': '5dc31c3acdd9fc3e8b883f9f', 'SUDU6734438': '5dc31c23cdd9fc3e8b8838a9', 'MRKU5837863': '5dc31c22cdd9fc3e8b883827', 'MEDU5279544': '5dc31c23cdd9fc3e8b883869', 'CCLU8594132': '5dc31c23cdd9fc3e8b8838e5', 'FCIU2142046': '5dc31c22cdd9fc3e8b8837ff', 'MRKU3741320': '5dc31c23cdd9fc3e8b883881', 'TEMU5278685': '5dc31c23cdd9fc3e8b883847', 'GVCU5087757': '5dc31c23cdd9fc3e8b8838f1', 'MSCU3574605': '5dc31c23cdd9fc3e8b883895', 'TCNU7733509': '5dc31c23cdd9fc3e8b883843', 'HLXU1026510': '5dc31c3acdd9fc3e8b883f9a', 'SUDU6732008': '5dc31c24cdd9fc3e8b883911', 'MSCU3494270': '5dc31c23cdd9fc3e8b883891', 'MRKU5599913': '5dc31c23cdd9fc3e8b883885', 'MEDU3925481': '5dc31c22cdd9fc3e8b883803', 'FSCU7822678': '5dc31c3acdd9fc3e8b883f92', 'MNBU0288586': '5dc31c23cdd9fc3e8b8838f9', 'MEDU2779968': '5dc31c23cdd9fc3e8b8838d9', 'CAIU3007166': '5dc31c22cdd9fc3e8b8837ef', 'MRKU2409413': '5dc31c23cdd9fc3e8b883875', 'LLTU2072311': '5dc31c22cdd9fc3e8b883817', 'GLDU3526392': '5dc31c23cdd9fc3e8b88385b', 'HLXU6280934': '5dc31c22cdd9fc3e8b883813', 'MRKU5971194': '5dc31c23cdd9fc3e8b883889', 'UACU3882424': '5dc31c3bcdd9fc3e8b883fac', 'TCKU3826131': '5dc31c23cdd9fc3e8b88383f', 'TGHU0487215': '5dc31c23cdd9fc3e8b8838c1', 'MWCU5205565': '5dc31c23cdd9fc3e8b88383b', 'APZU3811844': '5dc31c3acdd9fc3e8b883f8a', 'TGHU3241713': '5dc31c22cdd9fc3e8b88380f', 'MEDU1887675': '5dc31c23cdd9fc3e8b883861', 'BMOU1530814': '5dc31c22cdd9fc3e8b8837eb', 'CAIU4978778': '5dc31c24cdd9fc3e8b88391d', 'TCNU1389356': '5dc31c3acdd9fc3e8b883fa4', 'MEDU5381474': '5dc31c22cdd9fc3e8b88381b', 'HLBU2303340': '5dc31c3acdd9fc3e8b883f96', 'CAXU6804761': '5dc31c22cdd9fc3e8b8837f7', 'FSCU7806954': '5dc31c24cdd9fc3e8b8839bc', 'TCNU2562403': '5dc31c23cdd9fc3e8b8838b5', 'MRSU4092357': '5dc31c2dcdd9fc3e8b883b05', 'MEDU2678303': '5dc31c23cdd9fc3e8b883865', 'EITU0465697': '5dc31c3acdd9fc3e8b883f8e', 'WSCU9585680': '5dc31c2dcdd9fc3e8b883abd', 'MRSU3773572': '5dc31c2dcdd9fc3e8b883b01', 'TCLU4602365': '5dc31c25cdd9fc3e8b8839f0', 'HLXU8734996': '5dc31c39cdd9fc3e8b883ec2', 'TCKU3706136': '5dc31c24cdd9fc3e8b8839b8', 'MEDU2851487': '5dc31c2dcdd9fc3e8b883a41', 'MEDU5149068': '5dc31c25cdd9fc3e8b8839d8', 'BMOU2966741': '5dc31c2dcdd9fc3e8b883ac1', 'MRKU2522456': '5dc31c2dcdd9fc3e8b883a55', 'MEDU8382200': '5dc31c25cdd9fc3e8b8839e0', 'TEMU2579411': '5dc31c2ecdd9fc3e8b883b31', 'SEGU5619759': '5dc31c2ecdd9fc3e8b883b1d', 'GLDU9992356': '5dc31c24cdd9fc3e8b8839cc', 'UETU5491125': '5dc31c2dcdd9fc3e8b883a81', 'MRSU3222440': '5dc31c2dcdd9fc3e8b883afd', 'CRSU9123379': '5dc31c24cdd9fc3e8b8839a8', 'RFCU4084495': '5dc31c2dcdd9fc3e8b883ab5', 'TEMU3809083': '5dc31c2dcdd9fc3e8b883a7d', 'GLDU5058808': '5dc31c24cdd9fc3e8b88399c', 'PONU7872090': '5dc31c2ecdd9fc3e8b883b19', 'MEDU6122816': '5dc31c25cdd9fc3e8b883a20', 'TLLU4833700': '5dc31c25cdd9fc3e8b8839f8', 'SUDU5793837': '5dc31c3acdd9fc3e8b883f66', 'CSNU7435670': '5dc31c2dcdd9fc3e8b883acd', 'GLDU5493430': '5dc31c24cdd9fc3e8b8839c4', 'MEDU3339665': '5dc31c2dcdd9fc3e8b883a45', 'WSCU9442864': '5dc31c2dcdd9fc3e8b883ab9', 'MSKU8370157': '5dc31c2dcdd9fc3e8b883b15', 'FSCU8547903': '5dc31c24cdd9fc3e8b8839c0', 'HLBU2540764': '5dc31c2dcdd9fc3e8b883ae1', 'BMOU1504498': '5dc31c24cdd9fc3e8b883998', 'MSKU0026269': '5dc31c2dcdd9fc3e8b883a69', 'HASU4022909': '5dc31c2dcdd9fc3e8b883ad1', 'TGHU1860025': '5dc31c25cdd9fc3e8b8839d4', 'GLDU9602885': '5dc31c25cdd9fc3e8b883a24', 'GCNU1243878': '5dc31c2dcdd9fc3e8b883aad', 'MSKU6378565': '5dc31c2dcdd9fc3e8b883b11', 'TEMU6573535': '5dc31c3bcdd9fc3e8b884058', 'FCIU9232368': '5dc31c3bcdd9fc3e8b88404c', 'GLDU9588046': '5dc31c24cdd9fc3e8b8839a0', 'MEDU1163730': '5dc31c25cdd9fc3e8b883a34', 'MRKU5737550': '5dc31c2dcdd9fc3e8b883af9', 'HLXU3443529': '5dc31c24cdd9fc3e8b8839ac', 'MEDU5250345': '5dc31c2dcdd9fc3e8b883a49', 'SEGU6102502': '5dc31c25cdd9fc3e8b8839e8', 'CSNU6495864': '5dc31c2dcdd9fc3e8b883ac9', 'CARU9942814': '5dc31c25cdd9fc3e8b883a14', 'TCLU3060608': '5dc31c24cdd9fc3e8b8839d0', 'UACU8279434': '5dc31c2ecdd9fc3e8b883b45', 'TLLU5699793': '5dc31c25cdd9fc3e8b883a00', 'MEDU3253094': '5dc31c25cdd9fc3e8b883a0c', 'MRKU2891963': '5dc31c2dcdd9fc3e8b883af1', 'TGBU6660413': '5dc31c3acdd9fc3e8b883f6e', 'MEDU6390510': '5dc31c2dcdd9fc3e8b883a4d', 'CAXU9887184': '5dc31c24cdd9fc3e8b8839a4', 'MRKU5112706': '5dc31c2dcdd9fc3e8b883af5', 'GESU5285410': '5dc31c2dcdd9fc3e8b883ab1', 'CMAU6226638': '5dc31c25cdd9fc3e8b883a1c', 'MSKU3375599': '5dc31c2dcdd9fc3e8b883b0d', 'CAIU6160749': '5dc31c25cdd9fc3e8b883a10', 'MSKU7672635': '5dc31c2dcdd9fc3e8b883ac5', 'TLLU5185325': '5dc31c25cdd9fc3e8b8839fc', 'HLBU1641976': '5dc31c2dcdd9fc3e8b883ad5', 'MEDU2327309': '5dc31c24cdd9fc3e8b883994', 'TGBU2226564': '5dc31c2ecdd9fc3e8b883b39', 'PONU1856810': '5dc31c25cdd9fc3e8b8839e4', 'TCKU1471393': '5dc31c2dcdd9fc3e8b883a75', 'HLBU2219712': '5dc31c2dcdd9fc3e8b883add', 'TEMU3982756': '5dc31c24cdd9fc3e8b883990', 'UACU5798040': '5dc31c2ecdd9fc3e8b883b41', 'TGHU9578229': '5dc31c2ecdd9fc3e8b883b3d', 'TCNU4578630': '5dc31c2ecdd9fc3e8b883b2d', 'TCLU5977068': '5dc31c2ecdd9fc3e8b883b29', 'SUDU7430609': '5dc31c2ecdd9fc3e8b883b21', 'MEDU3089210': '5dc31c2ccdd9fc3e8b883a39', 'MEDU5198340': '5dc31c24cdd9fc3e8b8839b4', 'MEDU7489093': '5dc31c2dcdd9fc3e8b883a51', 'TCKU1075828': '5dc31c2ecdd9fc3e8b883b25', 'FSCU6922477': '5dc31c2dcdd9fc3e8b883aa9', 'DFSU2166680': '5dc31c24cdd9fc3e8b8839b0', 'TEMU7467780': '5dc31c2ecdd9fc3e8b883b35', 'MRKU2697752': '5dc31c2dcdd9fc3e8b883aed', 'HLBU1835293': '5dc31c2dcdd9fc3e8b883ad9', 'CAXU6467742': '5dc31c25cdd9fc3e8b883a18', 'MSKU1074507': '5dc31c2dcdd9fc3e8b883b09', 'UETU2624820': '5dc31c25cdd9fc3e8b883a08', 'TTNU4898365': '5dc31c2fcdd9fc3e8b883c3f', 'CAIU6690456': '5dc31c3acdd9fc3e8b883f4a', 'TCLU4423272': '5dc31c25cdd9fc3e8b8839ec', 'HASU4960393': '5dc31c2fcdd9fc3e8b883c0f', 'MEDU3742109': '5dc31c2ccdd9fc3e8b883a3d', 'MEDU5312642': '5dc31c25cdd9fc3e8b8839dc', 'MSKU1417165': '5dc31c3bcdd9fc3e8b884054', 'MSKU3638015': '5dc31c2fcdd9fc3e8b883c1f', 'TRLU7453520': '5dc31c25cdd9fc3e8b883a04', 'MSCU7918360': '5dc31c2dcdd9fc3e8b883a65', 'TCNU7474286': '5dc31c25cdd9fc3e8b8839f4', 'MRKU4113518': '5dc31c2fcdd9fc3e8b883c17', 'TLLU2265900': '5dc31c2fcdd9fc3e8b883bdb', 'GLDU9725236': '5dc31c24cdd9fc3e8b8839c8', 'MEDU1371863': '5dc31c2ecdd9fc3e8b883b8b', 'TGCU5135733': '5dc31c2ecdd9fc3e8b883bb7', 'TCNU7975992': '5dc31c2ecdd9fc3e8b883baf', 'BLKU2608054': '5dc31c2fcdd9fc3e8b883c47', 'TGBU5606763': '5dc31c2ecdd9fc3e8b883bb3', 'CLHU4412100': '5dc31c2ecdd9fc3e8b883b6f', 'MRKU2080190': '5dc31c2ecdd9fc3e8b883bcf', 'GLDU2201160': '5dc31c2ecdd9fc3e8b883b77', 'TGHU4989422': '5dc31c2ecdd9fc3e8b883bbb', 'MEDU5217985': '5dc31c2ecdd9fc3e8b883b87', 'HAMU1315178': '5dc31c2fcdd9fc3e8b883c0b', 'HASU5019962': '5dc31c2ecdd9fc3e8b883b7f', 'HLXU5349300': '5dc31c3bcdd9fc3e8b884050', 'UACU8490637': '5dc31c3bcdd9fc3e8b88405c', 'NYKU3839667': '5dc31c2fcdd9fc3e8b883c2b', 'TCKU4512618': '5dc31c2ecdd9fc3e8b883ba7', 'DFSU1365603': '5dc31c2ecdd9fc3e8b883b73', 'IPXU3485570': '5dc31c2fcdd9fc3e8b883c13', 'TCNU1905350': '5dc31c2fcdd9fc3e8b883c33', 'TCNU8807571': '5dc31c2fcdd9fc3e8b883c3b', 'MEDU6735504': '5dc31c2ecdd9fc3e8b883bc7', 'MEDU7053793': '5dc31c2ecdd9fc3e8b883b93', 'MEDU8877811': '5dc31c2ecdd9fc3e8b883bcb', 'NYKU3199451': '5dc31c2ecdd9fc3e8b883ba3', 'MEDU5057362': '5dc31c2ecdd9fc3e8b883b8f', 'TGHU9883011': '5dc31c2ecdd9fc3e8b883bbf', 'MSWU0036566': '5dc31c2fcdd9fc3e8b883c23', 'MEDU8734385': '5dc31c2ecdd9fc3e8b883b9b', 'FCIU6223932': '5dc31c2fcdd9fc3e8b883c07', 'MRSU3895890': '5dc31c2fcdd9fc3e8b883c1b', 'TCNU2918114': '5dc31c2ecdd9fc3e8b883bab', 'GLDU4146313': '5dc31c2ecdd9fc3e8b883b7b', 'HLBU1143700': '5dc31c3acdd9fc3e8b883f56', 'UACU3468862': '5dc31c2fcdd9fc3e8b883c43', 'SZLU9585054': '5dc31c30cdd9fc3e8b883d2b', 'TCNU2732710': '5dc31c2fcdd9fc3e8b883c37', 'FCIU5522306': '5dc31c30cdd9fc3e8b883cef', 'MWCU5330910': '5dc31c2fcdd9fc3e8b883c27', 'HLXU3727818': '5dc31c2fcdd9fc3e8b883c4b', 'SUDU1336112': '5dc31c2fcdd9fc3e8b883c2f', 'medu7377998': '5dc31c2fcdd9fc3e8b883c4f', 'CLHU4623401': '5dc31c30cdd9fc3e8b883ce7', 'HASU1154558': '5dc31c38cdd9fc3e8b883d70', 'MEDU7818579': '5dc31c2ecdd9fc3e8b883b97', 'HLXU3714929': '5dc31c2fcdd9fc3e8b883c53', 'TCKU1145247': '5dc31c38cdd9fc3e8b883da8', 'MSCU5100056': '5dc31c2ecdd9fc3e8b883b9f', 'TCKU1081348': '5dc31c38cdd9fc3e8b883d88', 'MEDU5296222': '5dc31c30cdd9fc3e8b883ce3', 'SUDU7833040': '5dc31c38cdd9fc3e8b883d9c', 'TEMU9305053': '5dc31c30cdd9fc3e8b883d3b', 'MSCU5400412': '5dc31c30cdd9fc3e8b883cc3', 'TRHU3833123': '5dc31c38cdd9fc3e8b883dbc', 'MRKU8582494': '5dc31c38cdd9fc3e8b883d80', 'TCNU8803299': '5dc31c30cdd9fc3e8b883cd7', 'INKU6660678': '5dc31c2fcdd9fc3e8b883c9f', 'CAIU2166800': '5dc31c30cdd9fc3e8b883cdf', 'MSDU1205237': '5dc31c2fcdd9fc3e8b883c83', 'MRSU0044108': '5dc31c38cdd9fc3e8b883d84', 'TCLU2547696': '5dc31c2fcdd9fc3e8b883c93', 'TTNU1048244': '5dc31c30cdd9fc3e8b883cfb', 'SUDU5252149': '5dc31c38cdd9fc3e8b883d98', 'TGHU6888010': '5dc31c38cdd9fc3e8b883db4', 'HLBU1734148': '5dc31c38cdd9fc3e8b883d74', 'TRLU8944051': '5dc31c30cdd9fc3e8b883d43', 'SUDU1357075': '5dc31c38cdd9fc3e8b883d94', 'DFSU2727780': '5dc31c2fcdd9fc3e8b883c7f', 'TCLU3351183': '5dc31c30cdd9fc3e8b883d33', 'HLXU8074974': '5dc31c38cdd9fc3e8b883d78', 'TGBU2252202': '5dc31c38cdd9fc3e8b883d6c', 'TLLU2191915': '5dc31c38cdd9fc3e8b883db8', 'GATU0958019': '5dc31c2fcdd9fc3e8b883c8b', 'SUDU7851568': '5dc31c38cdd9fc3e8b883da0', 'MEDU2917202': '5dc31c30cdd9fc3e8b883cf3', 'MSCU4710795': '5dc31c38cdd9fc3e8b883d64', 'SEGU5626465': '5dc31c38cdd9fc3e8b883d90', 'GLDU3996138': '5dc31c2fcdd9fc3e8b883c8f', 'MSCU6980589': '5dc31c38cdd9fc3e8b883dc0', 'MEDU2203057': '5dc31c2fcdd9fc3e8b883ca3', 'BSIU2135960': '5dc31c2fcdd9fc3e8b883c7b', 'MRKU5467970': '5dc31c38cdd9fc3e8b883d7c', 'MEDU4116012': '5dc31c2fcdd9fc3e8b883cab', 'TCLU5425109': '5dc31c38cdd9fc3e8b883dac', 'CAIU8558310': '5dc31c3acdd9fc3e8b883f4e', 'TCNU6496887': '5dc31c38cdd9fc3e8b883db0', 'CRXU8650124': '5dc31c38cdd9fc3e8b883dc4', 'SUDU8562894': '5dc31c38cdd9fc3e8b883da4', 'MSDU1220885': '5dc31c30cdd9fc3e8b883ccf', 'HLXU6514035': '5dc31c2fcdd9fc3e8b883c9b', 'TCNU7129870': '5dc31c3acdd9fc3e8b883f6a', 'HLBU2400280': '5dc31c38cdd9fc3e8b883d60', 'FCIU3709509': '5dc31c38cdd9fc3e8b883d68', 'MSCU4846101': '5dc31c30cdd9fc3e8b883cbf', 'TCKU2160077': '5dc31c30cdd9fc3e8b883d2f', 'MSKU7823259': '5dc31c38cdd9fc3e8b883d8c', 'MSCU5524291': '5dc31c30cdd9fc3e8b883cc7', 'TCLU7878249': '5dc31c38cdd9fc3e8b883dc8', 'UTCU4656862': '5dc31c30cdd9fc3e8b883d47', 'TGHU4500104': '5dc31c30cdd9fc3e8b883cdb', 'HASU1220140': '5dc31c30cdd9fc3e8b883cf7', 'SEGU2674270': '5dc31c3acdd9fc3e8b883f2e', 'TEMU3424311': '5dc31c2fcdd9fc3e8b883ca7', 'MEDU3753850': '5dc31c30cdd9fc3e8b883cff', 'TEMU1178456': '5dc31c30cdd9fc3e8b883cb3', 'MRKU7476190': '5dc31c3acdd9fc3e8b883f0a', 'CAIU8692870': '5dc31c3acdd9fc3e8b883f52', 'FCIU4357038': '5dc31c2fcdd9fc3e8b883c87', 'MRKU9456335': '5dc31c3acdd9fc3e8b883f12', 'FCIU3784293': '5dc31c30cdd9fc3e8b883ceb', 'NYKU9722940': '5dc31c2fcdd9fc3e8b883c97', 'MSCU9620987': '5dc31c30cdd9fc3e8b883ccb', 'TEMU1371824': '5dc31c2fcdd9fc3e8b883caf', 'MNBU3522234': '5dc31c30cdd9fc3e8b883d03', 'MRKU7470083': '5dc31c3acdd9fc3e8b883f06', 'TCNU1331009': '5dc31c30cdd9fc3e8b883cd3', 'MOAU5828790': '5dc31c30cdd9fc3e8b883cb7', 'MSKU7499181': '5dc31c3acdd9fc3e8b883f2a', 'MSKU4310680': '5dc31c3acdd9fc3e8b883f22', 'TLLU2196542': '5dc31c39cdd9fc3e8b883e26', 'TGHU1672141': '5dc31c39cdd9fc3e8b883ed2', 'MEDU3388783': '5dc31c38cdd9fc3e8b883dde', 'MOAU0671115': '5dc31c39cdd9fc3e8b883e36', 'TCLU2890468': '5dc31c3acdd9fc3e8b883f36', 'UACU8164991': '5dc31c3acdd9fc3e8b883f72', 'MSDU7100146': '5dc31c39cdd9fc3e8b883e4e', 'HLBU2205679': '5dc31c3acdd9fc3e8b883eea', 'MEDU2493608': '5dc31c39cdd9fc3e8b883dfe', 'HLBU1299312': '5dc31c39cdd9fc3e8b883e16', 'SEGU5617967': '5dc31c3acdd9fc3e8b883f32', 'CAXU6606299': '5dc31c38cdd9fc3e8b883dee', 'BMOU9505171': '5dc31c3acdd9fc3e8b883ed6', 'MSDU7008960': '5dc31c39cdd9fc3e8b883e4a', 'MSKU1113389': '5dc31c3acdd9fc3e8b883f16', 'TEMU2546228': '5dc31c3acdd9fc3e8b883f42', 'MEDU6696347': '5dc31c39cdd9fc3e8b883e2e', 'GLDU0496381': '5dc31c39cdd9fc3e8b883e0a', 'MRKU6653156': '5dc31c3acdd9fc3e8b883efe', 'TEMU4337886': '5dc31c39cdd9fc3e8b883e56', 'MSKU3833428': '5dc31c3acdd9fc3e8b883f1e', 'MSDU1207040': '5dc31c39cdd9fc3e8b883e22', 'CAXU3329523': '5dc31c3acdd9fc3e8b883eda', 'FCIU6394431': '5dc31c39cdd9fc3e8b883e6a', 'MSCU5690013': '5dc31c39cdd9fc3e8b883e46', 'MNBU3092405': '5dc31c3acdd9fc3e8b883ef2', 'BMOU6561248': '5dc31c38cdd9fc3e8b883dda', 'HLBU9076110': '5dc31c39cdd9fc3e8b883ece', 'MNBU3985917': '5dc31c3acdd9fc3e8b883ef6', 'MSCU4869508': '5dc31c39cdd9fc3e8b883e42', 'TCNU8636381': '5dc31c3acdd9fc3e8b883f3a', 'UASU1044996': '5dc31c39cdd9fc3e8b883e62', 'MRKU7380499': '5dc31c3acdd9fc3e8b883f02', 'MEDU7698370': '5dc31c39cdd9fc3e8b883e32', 'TGCU2119549': '5dc31c3acdd9fc3e8b883f76', 'TCLU7290384': '5dc31c39cdd9fc3e8b883e52', 'TRLU8164498': '5dc31c39cdd9fc3e8b883ebe', 'DFSU7253004': '5dc31c38cdd9fc3e8b883df2', 'FSCU4752387': '5dc31c39cdd9fc3e8b883eca', 'MEDU1852215': '5dc31c39cdd9fc3e8b883e76', 'GATU0796242': '5dc31c39cdd9fc3e8b883e02', 'CRSU1067983': '5dc31c3acdd9fc3e8b883ee2', 'BMOU1526100': '5dc31c38cdd9fc3e8b883dd6', 'BMOU2238392': '5dc31c39cdd9fc3e8b883e66', 'CLHU3830148': '5dc31c3acdd9fc3e8b883ede', 'MRKU7393135': '5dc31c39cdd9fc3e8b883e3e', 'DRYU2201244': '5dc31c38cdd9fc3e8b883df6', 'TEMU1592975': '5dc31c3acdd9fc3e8b883f3e', 'TRLU1718411': '5dc31c3acdd9fc3e8b883f7a', 'TRIU8914751': '5dc31c39cdd9fc3e8b883eb6', 'SUDU1316230': '5dc31c3acdd9fc3e8b883f1a', 'TCKU3813685': '5dc31c39cdd9fc3e8b883e06', 'BEAU4963238': '5dc31c3acdd9fc3e8b883f7e', 'TEMU3899786': '5dc31c3acdd9fc3e8b883f46', 'MEDU3622736': '5dc31c39cdd9fc3e8b883e82', 'HLBU1228915': '5dc31c39cdd9fc3e8b883e12', 'MEDU6857544': '5dc31c39cdd9fc3e8b883e0e', 'MAEU3427734': '5dc31c3acdd9fc3e8b883eee', 'MEDU5046748': '5dc31c3acdd9fc3e8b883f82', 'UACU3215247': '5dc31c39cdd9fc3e8b883e1a', 'MSKU5729710': '5dc31c3acdd9fc3e8b883f26', 'TRHU3895697': '5dc31c39cdd9fc3e8b883e5a', 'MRKU3032290': '5dc31c3acdd9fc3e8b883efa', 'SEGU9197380': '5dc31c39cdd9fc3e8b883eaa', 'MEDU5220314': '5dc31c39cdd9fc3e8b883e2a', 'FBIU0329838': '5dc31c38cdd9fc3e8b883dfa', 'MSKU7851097': '5dc31c3acdd9fc3e8b883f0e', 'MSCU3670846': '5dc31c38cdd9fc3e8b883dea', 'UACU5627120': '5dc31c39cdd9fc3e8b883e5e', 'HLBU1952480': '5dc31c3acdd9fc3e8b883ee6', 'CAXU3138907': '5dc31c39cdd9fc3e8b883e72', 'CAIU2661001': '5dc31c38cdd9fc3e8b883de2', 'CAIU4778430': '5dc31c38cdd9fc3e8b883de6', 'HLXU3160998': '5dc31c39cdd9fc3e8b883e1e', 'TCLU1183500': '5dc31c3bcdd9fc3e8b884034', 'ACNU1091568': '5dc31c3acdd9fc3e8b883f86', 'MSCU4750720': '5dc31c3bcdd9fc3e8b883fe8', 'GESU6800181': '5dc31c3bcdd9fc3e8b883fc4', 'CAIU3315019': '5dc31c3bcdd9fc3e8b883fb0', 'UETU5653648': '5dc31c3bcdd9fc3e8b884000', 'CAXU6793899': '5dc31c3bcdd9fc3e8b883fb4', 'FSCU8047493': '5dc31c3bcdd9fc3e8b883fc0', 'TCKU1309865': '5dc31c3bcdd9fc3e8b883fd8', 'TCLU7319370': '5dc31c3bcdd9fc3e8b883fec', 'MEDU5664176': '5dc31c3bcdd9fc3e8b883fe4', 'TCNU1248825': '5dc31c3bcdd9fc3e8b883ff0', 'TGHU9976860': '5dc31c3bcdd9fc3e8b884038', 'TRHU1416178': '5dc31c3bcdd9fc3e8b883ffc', 'HLXU3458112': '5dc31c3bcdd9fc3e8b883fbc', 'HLBU1564592': '5dc31c3bcdd9fc3e8b884014', 'MEDU8660600': '5dc31c3bcdd9fc3e8b884020', 'TGCU5019754': '5dc31c3bcdd9fc3e8b883ff4', 'CXRU1553460': '5dc31c3bcdd9fc3e8b884008', 'HASU4998130': '5dc31c3bcdd9fc3e8b884010', 'HASU1327885': '5dc31c3bcdd9fc3e8b883fd0', 'CAIU7630446': '5dc31c3bcdd9fc3e8b884004', 'MEDU8358903': '5dc31c3bcdd9fc3e8b88401c', 'CLHU4513127': '5dc31c3bcdd9fc3e8b883fb8', 'FSCU5658246': '5dc31c3bcdd9fc3e8b88400c', 'TLLU5887770': '5dc31c3bcdd9fc3e8b884040', 'MEDU4164392': '5dc31c3bcdd9fc3e8b883fe0', 'HLXU3412683': '5dc31c3bcdd9fc3e8b883fd4', 'MEDU7430074': '5dc31c3bcdd9fc3e8b884018', 'HAMU1177839': '5dc31c3bcdd9fc3e8b883fcc', 'MEDU3064130': '5dc31c3bcdd9fc3e8b883fdc', 'TEMU1295637': '5dc31c3bcdd9fc3e8b883fc8', 'MSDU1055570': '5dc31c3bcdd9fc3e8b88402c', 'TGHU3917789': '5dc31c3bcdd9fc3e8b883ff8', 'MSCU5378670': '5dc31c3bcdd9fc3e8b884028', 'TRHU1141698': '5dc31c3bcdd9fc3e8b884048'}\n"
     ]
    }
   ],
   "source": [
    "# lista = [['MSCU6656780', '']]\n",
    "lista = [*lista_lce, *lista_null]\n",
    "conteineres_ids = {linha['metadata']['numeroinformado']: linha['_id'] for linha in lista}\n",
    "conteineres = list(conteineres_ids.keys())\n",
    "\n",
    "print(conteineres_ids)\n"
   ]
  },
  {
   "cell_type": "markdown",
   "metadata": {},
   "source": [
    "## Conectar na API do Pucomex/suiterfb para encontrar e baixar DUE "
   ]
  },
  {
   "cell_type": "code",
   "execution_count": 63,
   "metadata": {},
   "outputs": [
    {
     "name": "stdout",
     "output_type": "stream",
     "text": [
      "Wall time: 22min 18s\n",
      "Wall time: 8min 20s\n"
     ]
    }
   ],
   "source": [
    "# %%time\n",
    "from selenium import webdriver\n",
    "\n",
    "GECKO_PATH = 'C:\\\\Users\\\\25052288840\\\\Downloads\\\\chromedriver.exe'\n",
    "driver = webdriver.Chrome(GECKO_PATH)\n",
    "raspa_due.auth_suite_rfb(driver)\n",
    "try:\n",
    "    %time conteineres_listadue = raspa_due.get_dues_pos_acd(driver, conteineres)\n",
    "    # print(conteineres_listadue)\n",
    "    %time due_detalhe = raspa_due.detalha_dues(driver, conteineres_listadue)\n",
    "    # print(conteineres_due)\n",
    "finally:\n",
    "    driver.close()\n",
    "\n",
    "    "
   ]
  },
  {
   "cell_type": "markdown",
   "metadata": {},
   "source": [
    "## Conectar na API do virasana para fazer UPLOAD do arquivo JSON resultante\n",
    "\n",
    "O arquivo seguirá o formato [{_id: {Documento DUE}}]"
   ]
  },
  {
   "cell_type": "code",
   "execution_count": 52,
   "metadata": {},
   "outputs": [
    {
     "name": "stdout",
     "output_type": "stream",
     "text": [
      "2039\n",
      "341\n"
     ]
    }
   ],
   "source": [
    "print(len(conteineres_listadue))\n",
    "print(len(due_detalhe))"
   ]
  },
  {
   "cell_type": "code",
   "execution_count": 53,
   "metadata": {},
   "outputs": [
    {
     "name": "stdout",
     "output_type": "stream",
     "text": [
      "MNBU0098380 ['19BR0014603240']\n",
      "MRKU7981144 ['19BR0014855010']\n",
      "MNBU3245947 ['19BR0014441640']\n",
      "TRLU1713071 ['19BR0014636874']\n",
      "HASU4371557 ['19BR0014861754']\n",
      "MRKU4336738 ['19BR0014861754']\n",
      "CAIU4903402 ['19BR0014861754']\n",
      "MSKU0988909 ['19BR0014861754']\n",
      "MRKU4513031 ['19BR0014861754']\n",
      "MNBU0310458 ['19BR0014531258']\n",
      "HASU5128433 ['19BR0015225185']\n",
      "MSKU1042264 ['19BR0014861754']\n",
      "MRKU4856447 ['19BR0014973412']\n",
      "MSKU0372317 ['19BR0014973412']\n",
      "HLXU3477447 ['19BR0014438665']\n",
      "MSKU1769839 ['19BR0014973412']\n",
      "MRKU4210143 ['19BR0014973412']\n",
      "MSKU9260684 ['19BR0014973412']\n",
      "TTNU8217496 ['19BR0014752904']\n",
      "TRIU8044800 ['19BR0014752912']\n",
      "MNBU9017029 ['19BR0014108703']\n",
      "GESU5840127 ['19BR0015023191']\n",
      "MIEU3061132 ['19BR0015023191']\n",
      "MRSU3601336 ['19BR0014892188']\n",
      "MRKU5633094 ['19BR0015023191']\n",
      "MRKU2397288 ['19BR0015023191']\n",
      "SUDU6218180 ['19BR0015008869']\n",
      "SUDU6083280 ['19BR0014855800']\n",
      "SUDU7501620 ['19BR0015146277']\n",
      "MRKU6749638 ['19BR0015133701']\n",
      "GCNU1335402 ['19BR0015175471']\n",
      "FCIU6088112 ['19BR0015125334']\n",
      "TGHU0325472 ['19BR0015275255']\n",
      "19BR0014603240 {\"canal\": \"VERDE\", \"canalBD\": \n",
      "19BR0014855010 {\"canal\": \"VERDE\", \"canalBD\": \n",
      "19BR0014441640 {\"canal\": \"VERDE\", \"canalBD\": \n",
      "19BR0014636874 {\"canal\": \"VERDE\", \"canalBD\": \n",
      "19BR0014861754 {\"canal\": \"VERDE\", \"canalBD\": \n",
      "19BR0014531258 {\"canal\": \"VERDE\", \"canalBD\": \n",
      "19BR0015225185 {\"canal\": \"VERDE\", \"canalBD\": \n",
      "19BR0014973412 {\"canal\": \"VERDE\", \"canalBD\": \n",
      "19BR0014438665 {\"canal\": \"VERMELHO\", \"canalBD\n",
      "19BR0014752904 {\"canal\": \"LARANJA\", \"canalBD\"\n"
     ]
    }
   ],
   "source": [
    "for conteiner, dues in list(conteineres_listadue.items())[:40]:\n",
    "    if dues is not None and len(dues) > 0:\n",
    "        print(conteiner, dues)\n",
    "        \n",
    "for due, conteudo in list(due_detalhe.items())[:10]:\n",
    "    print(due, json.dumps(conteudo)[:30])"
   ]
  },
  {
   "cell_type": "code",
   "execution_count": 54,
   "metadata": {},
   "outputs": [],
   "source": [
    "with open('dues.txt', 'w') as out:\n",
    "    json.dump(due_detalhe, out)"
   ]
  },
  {
   "cell_type": "code",
   "execution_count": 55,
   "metadata": {},
   "outputs": [],
   "source": [
    "with open('dues.txt', 'r') as due_in:\n",
    "    dues_ = json.load(due_in)"
   ]
  },
  {
   "cell_type": "code",
   "execution_count": 38,
   "metadata": {
    "ExecuteTime": {
     "end_time": "2019-09-10T13:33:19.325404Z",
     "start_time": "2019-09-10T13:33:19.322734Z"
    }
   },
   "outputs": [
    {
     "data": {
      "text/plain": [
       "{'canal': 'VERDE',\n",
       " 'canalBD': 1,\n",
       " 'chaveAcesso': '19SBA025569377',\n",
       " 'dataProcessamentoTa': '2019-11-04T06:44:58.000+0000',\n",
       " 'exportadorEstrangeiro': False,\n",
       " 'declarantePJBD': '01996609000125',\n",
       " 'descricaoResultadoProcessarTA': 'Pendência não impeditiva do embarque',\n",
       " 'despachoEmRecintoAlfandegado': True,\n",
       " 'embarqueEmRecintoAlfandegado': True,\n",
       " 'despachoEmRecintoDomiciliar': False,\n",
       " 'formaExportacao': 'Por conta própria',\n",
       " 'formaExportacaoBD': 1,\n",
       " 'id': 2587996,\n",
       " 'indicadorDAT': False,\n",
       " 'indicadorExigencia': False,\n",
       " 'indicadorImpedeEmbarqueTA': 'N',\n",
       " 'indicadorInspecao': 'N',\n",
       " 'indicadorOEA': False,\n",
       " 'informacoesComplementares': 'JOÃO FLAVIO DE CARVALHO - CPF: 133.732.358-63 - REG: 8D.03.379\\nREGINALDO JOÃO DE CARVALHO - CPF:247.658.238-73\\nFATURA:279/2019',\n",
       " 'usuarioConfaz': False,\n",
       " 'consultaConfaz': False,\n",
       " 'listaExigencias': [],\n",
       " 'listaHistorico': [{'dataHoraEvento': '01/11/2019 - 14:26:04',\n",
       "   'evento': 'Registro',\n",
       "   'responsavel': '13373235863',\n",
       "   'tipoEvento': 'REGISTRADA'},\n",
       "  {'dataHoraEvento': '04/11/2019 - 03:46:26',\n",
       "   'evento': 'Apresentação para despacho',\n",
       "   'responsavel': 'Automático',\n",
       "   'tipoEvento': 'CARGA_APRESENTADA_PARA_DESPACHO'},\n",
       "  {'dataHoraEvento': '04/11/2019 - 03:46:30',\n",
       "   'evento': 'Liberação sem conferência aduaneira',\n",
       "   'informacoesAdicionais': 'Canal Verde',\n",
       "   'responsavel': 'Automático',\n",
       "   'tipoEvento': 'LIBERADA_SEM_CONFERENCIA_ADUANEIRA'},\n",
       "  {'dataHoraEvento': '04/11/2019 - 03:46:30',\n",
       "   'evento': 'Desembaraço',\n",
       "   'responsavel': 'Automático',\n",
       "   'tipoEvento': 'DESEMBARACADA'}],\n",
       " 'listaInfoItemDue': [{'id': 416349254,\n",
       "   'ncm': {'codigo': '8055000'},\n",
       "   'qtdUnidadeEstatistica': 22113,\n",
       "   'identificadorItem': 1,\n",
       "   'itemNotaFiscalExportacao': {'codigoProduto': '3',\n",
       "    'cfop': 7127,\n",
       "    'descricao': 'LIMAO TAHITI IN-NATURA,ACONDICIONADO EM EMBALAGEM GRAFICA PERSONALIZADA(PESO LIQUIDO 4,5KG DE LIMAO TAHITI IN- NATURA)',\n",
       "    'qtEstatistica': 22113,\n",
       "    'unidadeComercial': 'CX',\n",
       "    'numeroItem': 1,\n",
       "    'valorTotalBruto': 43832.88,\n",
       "    'notaFiscal': {'chaveAcesso': '35191101996609000125550010000042771000412288',\n",
       "     'modelo': '55',\n",
       "     'serie': 1,\n",
       "     'numeroDocumento': 4277,\n",
       "     'isNfe': True,\n",
       "     'cnpjEmitente': '01996609000125',\n",
       "     'niEmitente': {'numero': '01996609000125',\n",
       "      'uf': 'SP',\n",
       "      'tipo': 'PESSOA_JURIDICA',\n",
       "      'nome': 'SUPRACITRUS COMERCIAL LTDA.                                                                                                                           ',\n",
       "      'cnpj': True,\n",
       "      'cpf': False,\n",
       "      'niEstrangeiro': False},\n",
       "     'ufEmissor': 'SP',\n",
       "     'finalidade': 'NF-e normal',\n",
       "     'temReferenciadas': False,\n",
       "     'qtdeItems': 2},\n",
       "    'ncm': {'codigo': '08055000',\n",
       "     'descricao': 'FRUTOS CÍTRICOS, FRESCOS OU SECOS.',\n",
       "     'unidadeMedidaEstatistica': 'QUILOGRAMA LIQUIDO',\n",
       "     'siglaDaUnidadeDeMedidaEstatistica': 'KG'},\n",
       "    'listaMotivoRecepcaoItemExportacao': '-Item Recepcionado&lt;br&gt;-Item Recepcionado&lt;br&gt;',\n",
       "    'acdOk': 'S',\n",
       "    'complementaValor': False},\n",
       "   'pesoLiquidoTotal': 22113,\n",
       "   'vmcv': 9828,\n",
       "   'vmle': 9828,\n",
       "   'descricaoMercadoria': 'LIMAO TAHITI IN-NATURA,ACONDICIONADO EM EMBALAGEM GRAFICA PERSONALIZADA(PESO LIQUIDO 4,5KG DE LIMAO TAHITI IN- NATURA)',\n",
       "   'niExportador': {'numero': '01996609000125',\n",
       "    'uf': 'SP',\n",
       "    'tipo': 'PESSOA_JURIDICA',\n",
       "    'nome': 'SUPRACITRUS COMERCIAL LTDA.                                                                                                                           ',\n",
       "    'cnpj': True,\n",
       "    'cpf': False,\n",
       "    'niEstrangeiro': False},\n",
       "   'niExportadorPJBD': '01996609000125',\n",
       "   'unidadeComercializada': 'CX',\n",
       "   'dataConversao': '2019-11-01T10:35:44.000+0000',\n",
       "   'listaTratamentoAdm': [{'codigo': 'E0161',\n",
       "     'codigoLPCO': '',\n",
       "     'numeroItemDue': '001',\n",
       "     'listaOrgao': [{'codigo': 'MAPA', 'tipoOrgao': 1}],\n",
       "     'indicadorImpedeEmbarque': 'N',\n",
       "     'descricao': 'Caso o país de destino exija um certificado fito/zoo/sanitário utilize o enquadramento \"80380\" na DU-E e emita um LPCO compatível com a operação.',\n",
       "     'listaPendencias': []},\n",
       "    {'codigo': 'E0158',\n",
       "     'codigoLPCO': '',\n",
       "     'nomeModeloLPCO': 'Certificação para Produtos de Origem Vegetal',\n",
       "     'numeroItemDue': '001',\n",
       "     'listaOrgao': [{'codigo': 'MAPA', 'tipoOrgao': 1}],\n",
       "     'indicadorImpedeEmbarque': 'N',\n",
       "     'descricao': 'Informar número do LPCO (Certificado Fitossanitário) no item da DU-E.',\n",
       "     'listaPendencias': ['O registro requer um LPCO que não foi informado. Documento pendente: Certificação para Produtos de Origem Vegetal']}],\n",
       "   'atributos': [],\n",
       "   'valorTotal': 43832.88,\n",
       "   'acdOk': 'S',\n",
       "   'listaMotivoRecepcaoItemDue': '-Item Recepcionado&lt;br&gt;',\n",
       "   'exportadorEstrangeiro': False},\n",
       "  {'id': 416349255,\n",
       "   'ncm': {'codigo': '8055000'},\n",
       "   'qtdUnidadeEstatistica': 2268,\n",
       "   'identificadorItem': 2,\n",
       "   'itemNotaFiscalExportacao': {'codigoProduto': '4',\n",
       "    'cfop': 7127,\n",
       "    'descricao': 'LIMAO TAHITI IN-NATURA,ACONDICIONADO EM EMBALAGEM GRAFICA PERSONALIZADA(PESO LIQUIDO 4,5KG DE LIMAO TAHITI IN- NATURA)',\n",
       "    'qtEstatistica': 2268,\n",
       "    'unidadeComercial': 'CX',\n",
       "    'numeroItem': 2,\n",
       "    'valorTotalBruto': 4495.68,\n",
       "    'notaFiscal': {'chaveAcesso': '35191101996609000125550010000042771000412288',\n",
       "     'modelo': '55',\n",
       "     'serie': 1,\n",
       "     'numeroDocumento': 4277,\n",
       "     'isNfe': True,\n",
       "     'cnpjEmitente': '01996609000125',\n",
       "     'niEmitente': {'numero': '01996609000125',\n",
       "      'uf': 'SP',\n",
       "      'tipo': 'PESSOA_JURIDICA',\n",
       "      'nome': 'SUPRACITRUS COMERCIAL LTDA.                                                                                                                           ',\n",
       "      'cnpj': True,\n",
       "      'cpf': False,\n",
       "      'niEstrangeiro': False},\n",
       "     'ufEmissor': 'SP',\n",
       "     'finalidade': 'NF-e normal',\n",
       "     'temReferenciadas': False,\n",
       "     'qtdeItems': 2},\n",
       "    'ncm': {'codigo': '08055000',\n",
       "     'descricao': 'FRUTOS CÍTRICOS, FRESCOS OU SECOS.',\n",
       "     'unidadeMedidaEstatistica': 'QUILOGRAMA LIQUIDO',\n",
       "     'siglaDaUnidadeDeMedidaEstatistica': 'KG'},\n",
       "    'listaMotivoRecepcaoItemExportacao': '-Item Recepcionado&lt;br&gt;-Item Recepcionado&lt;br&gt;',\n",
       "    'acdOk': 'S',\n",
       "    'complementaValor': False},\n",
       "   'pesoLiquidoTotal': 2268,\n",
       "   'vmcv': 1008,\n",
       "   'vmle': 1008,\n",
       "   'descricaoMercadoria': 'LIMAO TAHITI IN-NATURA,ACONDICIONADO EM EMBALAGEM GRAFICA PERSONALIZADA(PESO LIQUIDO 4,5KG DE LIMAO TAHITI IN- NATURA)',\n",
       "   'niExportador': {'numero': '01996609000125',\n",
       "    'uf': 'SP',\n",
       "    'tipo': 'PESSOA_JURIDICA',\n",
       "    'nome': 'SUPRACITRUS COMERCIAL LTDA.                                                                                                                           ',\n",
       "    'cnpj': True,\n",
       "    'cpf': False,\n",
       "    'niEstrangeiro': False},\n",
       "   'niExportadorPJBD': '01996609000125',\n",
       "   'unidadeComercializada': 'CX',\n",
       "   'dataConversao': '2019-11-01T10:35:44.000+0000',\n",
       "   'listaTratamentoAdm': [{'codigo': 'E0161',\n",
       "     'codigoLPCO': '',\n",
       "     'numeroItemDue': '002',\n",
       "     'listaOrgao': [{'codigo': 'MAPA', 'tipoOrgao': 1}],\n",
       "     'indicadorImpedeEmbarque': 'N',\n",
       "     'descricao': 'Caso o país de destino exija um certificado fito/zoo/sanitário utilize o enquadramento \"80380\" na DU-E e emita um LPCO compatível com a operação.',\n",
       "     'listaPendencias': []},\n",
       "    {'codigo': 'E0158',\n",
       "     'codigoLPCO': '',\n",
       "     'nomeModeloLPCO': 'Certificação para Produtos de Origem Vegetal',\n",
       "     'numeroItemDue': '002',\n",
       "     'listaOrgao': [{'codigo': 'MAPA', 'tipoOrgao': 1}],\n",
       "     'indicadorImpedeEmbarque': 'N',\n",
       "     'descricao': 'Informar número do LPCO (Certificado Fitossanitário) no item da DU-E.',\n",
       "     'listaPendencias': ['O registro requer um LPCO que não foi informado. Documento pendente: Certificação para Produtos de Origem Vegetal']}],\n",
       "   'atributos': [],\n",
       "   'valorTotal': 4495.68,\n",
       "   'acdOk': 'S',\n",
       "   'listaMotivoRecepcaoItemDue': '-Item Recepcionado&lt;br&gt;',\n",
       "   'exportadorEstrangeiro': False}],\n",
       " 'listaSituacoesCarga': [{'cpfCnpjResponsavel': '02762121000953',\n",
       "   'urfDespacho': '817800',\n",
       "   'recintoAduaneiro': '8931356',\n",
       "   'longitude': '-46.297071',\n",
       "   'latitude': '-23.962603',\n",
       "   'codigo': 1,\n",
       "   'descricao': 'Estocada',\n",
       "   'cargaOperada': False}],\n",
       " 'listaSolicitacoes': [],\n",
       " 'listaTratamentos': [{'codigo': 'E0161',\n",
       "   'codigoLPCO': '',\n",
       "   'numeroItemDue': '001',\n",
       "   'listaOrgao': [{'codigo': 'MAPA', 'tipoOrgao': 1}],\n",
       "   'indicadorImpedeEmbarque': 'N',\n",
       "   'descricao': 'Caso o país de destino exija um certificado fito/zoo/sanitário utilize o enquadramento \"80380\" na DU-E e emita um LPCO compatível com a operação.',\n",
       "   'listaPendencias': []},\n",
       "  {'codigo': 'E0158',\n",
       "   'codigoLPCO': '',\n",
       "   'nomeModeloLPCO': 'Certificação para Produtos de Origem Vegetal',\n",
       "   'numeroItemDue': '001',\n",
       "   'listaOrgao': [{'codigo': 'MAPA', 'tipoOrgao': 1}],\n",
       "   'indicadorImpedeEmbarque': 'N',\n",
       "   'descricao': 'Informar número do LPCO (Certificado Fitossanitário) no item da DU-E.',\n",
       "   'listaPendencias': ['O registro requer um LPCO que não foi informado. Documento pendente: Certificação para Produtos de Origem Vegetal']},\n",
       "  {'codigo': 'E0161',\n",
       "   'codigoLPCO': '',\n",
       "   'numeroItemDue': '002',\n",
       "   'listaOrgao': [{'codigo': 'MAPA', 'tipoOrgao': 1}],\n",
       "   'indicadorImpedeEmbarque': 'N',\n",
       "   'descricao': 'Caso o país de destino exija um certificado fito/zoo/sanitário utilize o enquadramento \"80380\" na DU-E e emita um LPCO compatível com a operação.',\n",
       "   'listaPendencias': []},\n",
       "  {'codigo': 'E0158',\n",
       "   'codigoLPCO': '',\n",
       "   'nomeModeloLPCO': 'Certificação para Produtos de Origem Vegetal',\n",
       "   'numeroItemDue': '002',\n",
       "   'listaOrgao': [{'codigo': 'MAPA', 'tipoOrgao': 1}],\n",
       "   'indicadorImpedeEmbarque': 'N',\n",
       "   'descricao': 'Informar número do LPCO (Certificado Fitossanitário) no item da DU-E.',\n",
       "   'listaPendencias': ['O registro requer um LPCO que não foi informado. Documento pendente: Certificação para Produtos de Origem Vegetal']}],\n",
       " 'moeda': {'codigo': 978,\n",
       "  'abreviatura': 'EUR',\n",
       "  'descricao': 'EURO/COM.EUROPEIA'},\n",
       " 'niDeclarante': {'numero': '01996609000125',\n",
       "  'uf': 'SP',\n",
       "  'tipo': 'PESSOA_JURIDICA',\n",
       "  'nome': 'SUPRACITRUS COMERCIAL LTDA.                                                                                                                           ',\n",
       "  'cnpj': True,\n",
       "  'cpf': False,\n",
       "  'niEstrangeiro': False},\n",
       " 'numero': '19BR0015082724',\n",
       " 'paisImportador': {'codigo': 573, 'nome': 'PAISES BAIXOS (HOLANDA)'},\n",
       " 'recintoAduaneiroDespacho': {'codigo': '8931356',\n",
       "  'zona': 'PRIMARIA',\n",
       "  'unidadeLocalRFB': {'codigo': '0817800', 'descricao': 'PORTO DE SANTOS'},\n",
       "  'cooordenada': {'latitude': '-23.962603',\n",
       "   'longitude': '-46.297071',\n",
       "   'coordenadaArrayLatitudeLongitude': ['-23.962603', '-46.297071']},\n",
       "  'descricao': 'INST. PORTUARIA PUBLICA - SANTOS BRASIL PARTCIPAÇÕES SA',\n",
       "  'depositario': {'cnpj': '02762121000953',\n",
       "   'nome': 'SANTOS BRASIL PARTICIPACOES S.A.'}},\n",
       " 'recintoAduaneiroEmbarque': {'codigo': '8931356',\n",
       "  'zona': 'PRIMARIA',\n",
       "  'unidadeLocalRFB': {'codigo': '0817800', 'descricao': 'PORTO DE SANTOS'},\n",
       "  'cooordenada': {'latitude': '-23.962603',\n",
       "   'longitude': '-46.297071',\n",
       "   'coordenadaArrayLatitudeLongitude': ['-23.962603', '-46.297071']},\n",
       "  'descricao': 'INST. PORTUARIA PUBLICA - SANTOS BRASIL PARTCIPAÇÕES SA',\n",
       "  'depositario': {'cnpj': '02762121000953',\n",
       "   'nome': 'SANTOS BRASIL PARTICIPACOES S.A.'}},\n",
       " 'retificada': False,\n",
       " 'ruc': {'numero': '9BR019966091SUPRACITRUSFAT2792019',\n",
       "  'dataRegistro': '2019-11-01T17:24:45.000+0000',\n",
       "  'filhas': [],\n",
       "  'rucFilha': False,\n",
       "  'tipoMasterRuc': False},\n",
       " 'situacaoBD': 40,\n",
       " 'situacaoDue': 'Desembaraçada',\n",
       " 'temBloqueio': False,\n",
       " 'tipoItemDue': 1,\n",
       " 'descricaoTipoItemDue': ' Nota Fiscal Eletrônica (NF-e)',\n",
       " 'tratamentoPrioritario': True,\n",
       " 'valorCondicaoVendaTotal': 10836,\n",
       " 'unidadeLocalDespacho': {'codigo': '0817800',\n",
       "  'descricao': 'PORTO DE SANTOS',\n",
       "  'coordenadaGeograficaDTO': {'latitude': '-23.963539',\n",
       "   'longitude': '-46.291054'},\n",
       "  'siglaRegiaoFiscal': 'SP'},\n",
       " 'unidadeLocalEmbarque': {'codigo': '0817800',\n",
       "  'descricao': 'PORTO DE SANTOS',\n",
       "  'coordenadaGeograficaDTO': {'latitude': '-23.963539',\n",
       "   'longitude': '-46.291054'},\n",
       "  'siglaRegiaoFiscal': 'SP'},\n",
       " 'unidadeAnaliseFiscal': {'codigo': '0817800',\n",
       "  'descricao': 'PORTO DE SANTOS',\n",
       "  'coordenadaGeograficaDTO': {'latitude': '-23.963539',\n",
       "   'longitude': '-46.291054'},\n",
       "  'siglaRegiaoFiscal': 'SP'},\n",
       " 'temNotaFiscal': True,\n",
       " 'numeroDossie': '201900056743890',\n",
       " 'listaConteineres': [{'identificacao': 'MNBU9083170',\n",
       "   'tara': '4520',\n",
       "   'lacre': '0059891, MLBR0553005'}],\n",
       " 'listaCargasSoltasGranel': [],\n",
       " 'transitoAduaneiro': {'dat': 'Informação não disponível',\n",
       "  'viaTransporteInternacional': 'Informação não disponível',\n",
       "  'conhecimentoCargaInternacional': 'Informação não disponível',\n",
       "  'documentoTransporteInternacional': []},\n",
       " 'indicadorFalhaCargaTransitoCCT': False,\n",
       " 'visaoMDIC': False}"
      ]
     },
     "execution_count": 38,
     "metadata": {},
     "output_type": "execute_result"
    }
   ],
   "source": [
    "dues_['19BR0015082724']"
   ]
  },
  {
   "cell_type": "code",
   "execution_count": 42,
   "metadata": {
    "ExecuteTime": {
     "end_time": "2019-09-10T14:21:43.756918Z",
     "start_time": "2019-09-10T14:21:43.749917Z"
    }
   },
   "outputs": [],
   "source": [
    "def monta_due_ajna(due):\n",
    "    def get_dados_recinto(recinto_dict):\n",
    "        result = {}\n",
    "        try:\n",
    "            result['codigo'] = recinto_dict.get('codigo')\n",
    "            depositario = recinto_dict.get('depositario')\n",
    "            if depositario:\n",
    "                result['depositario'] = depositario.get('depositario')\n",
    "                result['nome'] = depositario.get('nome')\n",
    "                result['descricao'] = depositario.get('descricao')\n",
    "                unidade = depositario.get('unidadeLocalRFB')\n",
    "                if unidade:\n",
    "                    unidadeLocalRFB = depositario.get('codigo')\n",
    "        except AttributeError:\n",
    "            return None\n",
    "\n",
    "        return result \n",
    "    \n",
    "    keys = ['canal', 'chaveAcesso', 'dataProcessamentoTa', 'descricaoTipoItemDue',\n",
    "            'exportadorEstrangeiro', 'formaExportacao', 'indicadorOEA', 'informacoesComplementares']\n",
    "    pacote = {}\n",
    "    for key in keys:\n",
    "        item = due.get(key)\n",
    "        if item is not None:\n",
    "            pacote[key] = item\n",
    "\n",
    "    declarante = due.get('niDeclarante')\n",
    "    if declarante:\n",
    "        pacote['Declarante'] = declarante.get('numero')\n",
    "        pacote['Nome Declarante'] = declarante.get('nome')\n",
    "\n",
    "    destino = due.get('paisImportador')\n",
    "    if destino:\n",
    "        pacote['PaisImportador'] = destino.get('nome')\n",
    "\n",
    "    lista_items = due.get('listaInfoItemDue')\n",
    "    itensDue = []\n",
    "    for item in lista_items:\n",
    "        itemDue = {}\n",
    "        itemDue['descricaoMercadoria'] = item.get('descricaoMercadoria')\n",
    "        itemDue['exportadorEstrangeiro'] = item.get('exportadorEstrangeiro')\n",
    "        ncm = item.get('ncm')\n",
    "        if ncm:\n",
    "            itemDue['ncm'] = ncm.get('codigo')\n",
    "        exportador = item.get('niExportador')\n",
    "        if exportador:\n",
    "            itemDue['Exportador'] = exportador.get('numero')\n",
    "            itemDue['NomeExportador'] = exportador.get('nome')\n",
    "        itensDue.append(itemDue)\n",
    "    pacote['itens'] = itensDue\n",
    "    \n",
    "    for recinto_tipo in ['recintoAduaneiroDespacho',  'recintoAduaneiroEmbarque']:\n",
    "        pacote[recinto_tipo] = get_dados_recinto(due.get(recinto_tipo))\n",
    "    ruc = due.get('ruc')\n",
    "    if ruc:\n",
    "        pacote['ruc'] = ruc.get('numero')\n",
    "    pacote['listaHistorico'] = due.get('listaHistorico')\n",
    "\n",
    "    return pacote\n",
    "\n",
    "    \n"
   ]
  },
  {
   "cell_type": "code",
   "execution_count": 43,
   "metadata": {
    "ExecuteTime": {
     "end_time": "2019-09-10T14:21:44.156458Z",
     "start_time": "2019-09-10T14:21:44.149209Z"
    },
    "scrolled": true
   },
   "outputs": [
    {
     "data": {
      "text/plain": [
       "{'canal': 'VERDE',\n",
       " 'chaveAcesso': '19SBA025569377',\n",
       " 'dataProcessamentoTa': '2019-11-04T06:44:58.000+0000',\n",
       " 'descricaoTipoItemDue': ' Nota Fiscal Eletrônica (NF-e)',\n",
       " 'exportadorEstrangeiro': False,\n",
       " 'formaExportacao': 'Por conta própria',\n",
       " 'indicadorOEA': False,\n",
       " 'informacoesComplementares': 'JOÃO FLAVIO DE CARVALHO - CPF: 133.732.358-63 - REG: 8D.03.379\\nREGINALDO JOÃO DE CARVALHO - CPF:247.658.238-73\\nFATURA:279/2019',\n",
       " 'Declarante': '01996609000125',\n",
       " 'Nome Declarante': 'SUPRACITRUS COMERCIAL LTDA.                                                                                                                           ',\n",
       " 'PaisImportador': 'PAISES BAIXOS (HOLANDA)',\n",
       " 'itens': [{'descricaoMercadoria': 'LIMAO TAHITI IN-NATURA,ACONDICIONADO EM EMBALAGEM GRAFICA PERSONALIZADA(PESO LIQUIDO 4,5KG DE LIMAO TAHITI IN- NATURA)',\n",
       "   'exportadorEstrangeiro': False,\n",
       "   'ncm': '8055000',\n",
       "   'Exportador': '01996609000125',\n",
       "   'NomeExportador': 'SUPRACITRUS COMERCIAL LTDA.                                                                                                                           '},\n",
       "  {'descricaoMercadoria': 'LIMAO TAHITI IN-NATURA,ACONDICIONADO EM EMBALAGEM GRAFICA PERSONALIZADA(PESO LIQUIDO 4,5KG DE LIMAO TAHITI IN- NATURA)',\n",
       "   'exportadorEstrangeiro': False,\n",
       "   'ncm': '8055000',\n",
       "   'Exportador': '01996609000125',\n",
       "   'NomeExportador': 'SUPRACITRUS COMERCIAL LTDA.                                                                                                                           '}],\n",
       " 'recintoAduaneiroDespacho': {'codigo': '8931356',\n",
       "  'depositario': None,\n",
       "  'nome': 'SANTOS BRASIL PARTICIPACOES S.A.',\n",
       "  'descricao': None},\n",
       " 'recintoAduaneiroEmbarque': {'codigo': '8931356',\n",
       "  'depositario': None,\n",
       "  'nome': 'SANTOS BRASIL PARTICIPACOES S.A.',\n",
       "  'descricao': None},\n",
       " 'ruc': '9BR019966091SUPRACITRUSFAT2792019',\n",
       " 'listaHistorico': [{'dataHoraEvento': '01/11/2019 - 14:26:04',\n",
       "   'evento': 'Registro',\n",
       "   'responsavel': '13373235863',\n",
       "   'tipoEvento': 'REGISTRADA'},\n",
       "  {'dataHoraEvento': '04/11/2019 - 03:46:26',\n",
       "   'evento': 'Apresentação para despacho',\n",
       "   'responsavel': 'Automático',\n",
       "   'tipoEvento': 'CARGA_APRESENTADA_PARA_DESPACHO'},\n",
       "  {'dataHoraEvento': '04/11/2019 - 03:46:30',\n",
       "   'evento': 'Liberação sem conferência aduaneira',\n",
       "   'informacoesAdicionais': 'Canal Verde',\n",
       "   'responsavel': 'Automático',\n",
       "   'tipoEvento': 'LIBERADA_SEM_CONFERENCIA_ADUANEIRA'},\n",
       "  {'dataHoraEvento': '04/11/2019 - 03:46:30',\n",
       "   'evento': 'Desembaraço',\n",
       "   'responsavel': 'Automático',\n",
       "   'tipoEvento': 'DESEMBARACADA'}]}"
      ]
     },
     "execution_count": 43,
     "metadata": {},
     "output_type": "execute_result"
    }
   ],
   "source": [
    "pacote = monta_due_ajna(dues_['19BR0015082724'])\n",
    "pacote"
   ]
  },
  {
   "cell_type": "code",
   "execution_count": 64,
   "metadata": {
    "ExecuteTime": {
     "end_time": "2019-09-10T14:23:58.502057Z",
     "start_time": "2019-09-10T14:23:58.492912Z"
    },
    "scrolled": true
   },
   "outputs": [],
   "source": [
    "pacote_carregamento = {}\n",
    "for conteiner, numeros_dues in conteineres_listadue.items():\n",
    "    _id = conteineres_ids[conteiner]\n",
    "    lista_dues = []\n",
    "    for due in numeros_dues:\n",
    "        if due is not None:\n",
    "            pacote = monta_due_ajna(due_detalhe[due])\n",
    "            lista_dues.append({'numero': due, **pacote})\n",
    "    if numeros_dues and len(numeros_dues) > 0:\n",
    "        pacote_carregamento[_id] = lista_dues\n",
    "    "
   ]
  },
  {
   "cell_type": "code",
   "execution_count": 67,
   "metadata": {
    "scrolled": true
   },
   "outputs": [
    {
     "name": "stderr",
     "output_type": "stream",
     "text": [
      "c:\\users\\25052288840\\pycharmprojects\\ajna_docs\\virasana\\venv\\lib\\site-packages\\urllib3\\connectionpool.py:851: InsecureRequestWarning:\n",
      "\n",
      "Unverified HTTPS request is being made. Adding certificate verification is strongly advised. See: https://urllib3.readthedocs.io/en/latest/advanced-usage.html#ssl-warnings\n",
      "\n"
     ]
    },
    {
     "name": "stdout",
     "output_type": "stream",
     "text": [
      "201\n",
      "{\n",
      "  \"status\": \"DUEs inseridas/atualizadas\"\n",
      "}\n",
      "\n"
     ]
    }
   ],
   "source": [
    "r = requests.post(VIRASANA_URL + \"dues/update\", json=pacote_carregamento, verify=False)\n",
    "print(r.status_code)\n",
    "print(r.text)\n"
   ]
  },
  {
   "cell_type": "code",
   "execution_count": null,
   "metadata": {},
   "outputs": [],
   "source": []
  }
 ],
 "metadata": {
  "kernelspec": {
   "display_name": "Python 3",
   "language": "python",
   "name": "python3"
  },
  "language_info": {
   "codemirror_mode": {
    "name": "ipython",
    "version": 3
   },
   "file_extension": ".py",
   "mimetype": "text/x-python",
   "name": "python",
   "nbconvert_exporter": "python",
   "pygments_lexer": "ipython3",
   "version": "3.8.5"
  }
 },
 "nbformat": 4,
 "nbformat_minor": 2
}
