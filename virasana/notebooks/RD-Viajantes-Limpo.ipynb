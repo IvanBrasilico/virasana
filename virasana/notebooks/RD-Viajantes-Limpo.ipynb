{
 "cells": [
  {
   "cell_type": "markdown",
   "metadata": {},
   "source": [
    "# Notebook para acesso ao Receita Data - dados de viajantes"
   ]
  },
  {
   "cell_type": "code",
   "execution_count": 17,
   "metadata": {},
   "outputs": [],
   "source": [
    "import getpass\n",
    "import pandas as pd\n",
    "from datalake_serpro import handler_dl"
   ]
  },
  {
   "cell_type": "code",
   "execution_count": 18,
   "metadata": {},
   "outputs": [
    {
     "name": "stdout",
     "output_type": "stream",
     "text": [
      "Senha para kinit 25052288840@DATALAKE.SERPRO:········\n"
     ]
    }
   ],
   "source": [
    "user = getpass.getuser() + '@DATALAKE.SERPRO'\n",
    "senha = getpass.getpass(f'Senha para kinit {user}:')"
   ]
  },
  {
   "cell_type": "code",
   "execution_count": 19,
   "metadata": {},
   "outputs": [
    {
     "name": "stdout",
     "output_type": "stream",
     "text": [
      "Password for 25052288840@DATALAKE.SERPRO: \r\n"
     ]
    }
   ],
   "source": [
    "commands = f'echo \"{senha}\" | /opt/anaconda3/bin/kinit {user}'\n",
    "! {commands}"
   ]
  },
  {
   "cell_type": "code",
   "execution_count": 20,
   "metadata": {},
   "outputs": [
    {
     "name": "stdout",
     "output_type": "stream",
     "text": [
      "Ticket cache: FILE:/tmp/krb5cc_1227403730\r\n",
      "Default principal: 25052288840@DATALAKE.SERPRO\r\n",
      "\r\n",
      "Valid starting       Expires              Service principal\r\n",
      "07/02/2021 08:07:36  07/02/2021 18:07:36  krbtgt/DATALAKE.SERPRO@DATALAKE.SERPRO\r\n",
      "\trenew until 07/09/2021 08:07:36\r\n"
     ]
    }
   ],
   "source": [
    "! /opt/anaconda3/bin/klist"
   ]
  },
  {
   "cell_type": "markdown",
   "metadata": {},
   "source": [
    "# Rodar"
   ]
  },
  {
   "cell_type": "code",
   "execution_count": 21,
   "metadata": {},
   "outputs": [],
   "source": [
    "def get_viagens_cpfs(lista_cpfs):\n",
    "    sql_vu = 'SELECT DISTINCT cpf_vu as cpf, codigo_vu FROM coana.edbv_viajante_unico_geral WHERE cpf_vu in (\"%s\")'\n",
    "    sql_viagens = 'SELECT * FROM coana.edbv_dados_voos WHERE codigo_vu in (%s)'\n",
    "    df_vu = pd.read_sql(sql_vu % '\", \"'.join(lista_cpfs), con)\n",
    "    lista_vus = ['%d' % codigo_vu for codigo_vu in df_vu.codigo_vu.values]\n",
    "    df_viagens = pd.read_sql(sql_viagens % ', '.join(lista_vus), con)\n",
    "    df_final = df_vu.merge(df_viagens, right_on='codigo_vu', left_on='codigo_vu')\n",
    "    return df_final"
   ]
  },
  {
   "cell_type": "code",
   "execution_count": 22,
   "metadata": {},
   "outputs": [],
   "source": [
    "def get_nomes_cnpjs(lista_cpfs):\n",
    "    sql_cnpjs ='SELECT DISTINCT b_cd_cnpj_emph as cnpj, nm_cnpj_emph_empresarial as nome ' + \\\n",
    "               'FROM cnpj.wd_cnpj_esth where b_cd_cnpj_emph in (%s)'\n",
    "    lista_cnpjs = []\n",
    "    for row in lista_cpfs:\n",
    "        try:\n",
    "            item = str(int(row[:8]))\n",
    "            lista_cnpjs.append(item)\n",
    "        except:\n",
    "            pass\n",
    "    df_cnpjs = pd.read_sql(sql_cnpjs % ', '.join(lista_cnpjs), con)\n",
    "    return df_cnpjs"
   ]
  },
  {
   "cell_type": "code",
   "execution_count": 23,
   "metadata": {},
   "outputs": [],
   "source": [
    "def get_nomes_cpfs(lista_cpfs):\n",
    "    sql_cpfs = 'SELECT DISTINCT b_cd_cnpf_cpf as cpf, nm_cnpf_cpfa_nome as nome ' + \\\n",
    "               ' FROM cnpf.wd_cnpf_cpfa where b_cd_cnpf_cpf in (%s)'\n",
    "    lista = []\n",
    "    for row in lista_cpfs:\n",
    "        try:\n",
    "            item = str(int(row))\n",
    "            lista.append(item)\n",
    "        except:\n",
    "            pass\n",
    "    df_cpfs = pd.read_sql(sql_cpfs % ', '.join(lista), con)\n",
    "    return df_cpfs"
   ]
  },
  {
   "cell_type": "code",
   "execution_count": 24,
   "metadata": {},
   "outputs": [],
   "source": [
    "def get_dsis_cpfs(lista_cpfs):\n",
    "    sql_dsis = '''\n",
    "    SELECT nm_dsi as numero,\n",
    "    nr_impdr_expdr as consignatario,\n",
    "    dt_dia_regis as data_registro, \n",
    "    nr_rep_legal as despachante,\n",
    "    max(nx_esp_produto_dsi) as descricao\n",
    "    FROM coana.importacao_dsi WHERE nr_impdr_expdr in (\"%s\")\n",
    "    GROUP BY nm_dsi, nr_impdr_expdr, dt_dia_regis, nr_rep_legal\n",
    "    '''\n",
    "    lista = []\n",
    "    for row in lista_cpfs:\n",
    "        try:\n",
    "            item = str(int(row))\n",
    "            lista.append(item)\n",
    "        except:\n",
    "            pass\n",
    "    df_cpfs = pd.read_sql(sql_dsis % '\", \"'.join(lista), con)\n",
    "    return df_cpfs"
   ]
  },
  {
   "cell_type": "code",
   "execution_count": 25,
   "metadata": {},
   "outputs": [],
   "source": [
    "cpfs = pd.read_csv('viagem.csv', header=None, names=['cpf'])\n",
    "cpfs2 = pd.read_csv('pessoa.csv', header=None, names=['cpf'])\n",
    "cpfs3 = pd.read_csv('empresa.csv', header=None, names=['cpf'])\n",
    "cpfs_dsi = pd.read_csv('dsi.csv', header=None, names=['cpf'])"
   ]
  },
  {
   "cell_type": "code",
   "execution_count": 26,
   "metadata": {},
   "outputs": [
    {
     "name": "stdout",
     "output_type": "stream",
     "text": [
      "Conectado ao Servidor impalaharfb.srv.datalake.serpro.\n"
     ]
    }
   ],
   "source": [
    "with handler_dl(DEBUG=True, timeout=300) as con:\n",
    "    df_viagens = get_viagens_cpfs(cpfs.cpf.values)\n"
   ]
  },
  {
   "cell_type": "code",
   "execution_count": 27,
   "metadata": {},
   "outputs": [],
   "source": [
    "df_viagens.to_csv('viagens.csv')"
   ]
  },
  {
   "cell_type": "code",
   "execution_count": 28,
   "metadata": {},
   "outputs": [
    {
     "name": "stdout",
     "output_type": "stream",
     "text": [
      "Conectado ao Servidor impalaharfb.srv.datalake.serpro.\n"
     ]
    }
   ],
   "source": [
    "with handler_dl(DEBUG=True, timeout=300) as con:\n",
    "    df_cnpjs = get_nomes_cnpjs(cpfs3.cpf.values)\n",
    "\n",
    "df_cnpjs.to_csv('cnpjs.csv')\n"
   ]
  },
  {
   "cell_type": "code",
   "execution_count": 29,
   "metadata": {},
   "outputs": [
    {
     "name": "stdout",
     "output_type": "stream",
     "text": [
      "Conectado ao Servidor impalaharfb.srv.datalake.serpro.\n"
     ]
    }
   ],
   "source": [
    "with handler_dl(DEBUG=True, timeout=300) as con:\n",
    "    df_cpfs = get_nomes_cpfs(cpfs2.cpf.values)\n",
    "\n",
    "df_cpfs.to_csv('cpfs.csv')\n"
   ]
  },
  {
   "cell_type": "code",
   "execution_count": 30,
   "metadata": {},
   "outputs": [
    {
     "name": "stdout",
     "output_type": "stream",
     "text": [
      "Conectado ao Servidor impalaharfb.srv.datalake.serpro.\n"
     ]
    }
   ],
   "source": [
    "with handler_dl(DEBUG=True, timeout=300) as con:\n",
    "    df_dsis = get_dsis_cpfs(cpfs_dsi.cpf.values)\n",
    "\n",
    "df_dsis.to_csv('dsis.csv')"
   ]
  },
  {
   "cell_type": "code",
   "execution_count": null,
   "metadata": {},
   "outputs": [],
   "source": []
  }
 ],
 "metadata": {
  "kernelspec": {
   "display_name": "Python 3",
   "language": "python",
   "name": "python3"
  },
  "language_info": {
   "codemirror_mode": {
    "name": "ipython",
    "version": 3
   },
   "file_extension": ".py",
   "mimetype": "text/x-python",
   "name": "python",
   "nbconvert_exporter": "python",
   "pygments_lexer": "ipython3",
   "version": "3.6.8"
  }
 },
 "nbformat": 4,
 "nbformat_minor": 2
}
