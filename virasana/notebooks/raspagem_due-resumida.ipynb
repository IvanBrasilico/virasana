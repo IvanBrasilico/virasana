{
 "cells": [
  {
   "cell_type": "code",
   "execution_count": 1,
   "metadata": {
    "ExecuteTime": {
     "end_time": "2019-09-10T13:24:22.734834Z",
     "start_time": "2019-09-10T13:24:13.849619Z"
    }
   },
   "outputs": [
    {
     "name": "stderr",
     "output_type": "stream",
     "text": [
      "C:\\Users\\25052288840\\Anaconda3\\lib\\site-packages\\requests\\__init__.py:89: RequestsDependencyWarning: urllib3 (1.26.12) or chardet (3.0.4) doesn't match a supported version!\n",
      "  warnings.warn(\"urllib3 ({}) or chardet ({}) doesn't match a supported \"\n",
      "2022-12-08 14:50:30,732 ajna         INFO     Configuração de log efetuada\n"
     ]
    },
    {
     "name": "stdout",
     "output_type": "stream",
     "text": [
      "Fazendo log de erros e alertas no arquivo  ../../../ajna_docs/commons\\ajna_commons\\flask\\error.log\n",
      "Fazendo log de atividade no arquivo  ../../../ajna_docs/commons\\ajna_commons\\flask\\access.log\n"
     ]
    }
   ],
   "source": [
    "import json\n",
    "import requests\n",
    "import sys\n",
    "import warnings\n",
    "from datetime import datetime, time, timedelta\n",
    "from selenium import webdriver\n",
    "#from seleniumwire import webdriver\n",
    "\n",
    "GECKO_PATH = 'C:\\\\Users\\\\25052288840\\\\Downloads\\\\chromedriver.exe'\n",
    "sys.path.insert(0, '../../../ajna_docs/commons/')\n",
    "sys.path.insert(0, '../../../commons/')\n",
    "sys.path.insert(0, '../../../virasana/')\n",
    "from virasana.integracao.due import raspa_due\n",
    "\n",
    "warnings.simplefilter(\"ignore\")\n",
    "\n",
    "VIRASANA_URL = \"https://ajna.labin.rf08.srf/virasana/\""
   ]
  },
  {
   "cell_type": "code",
   "execution_count": 2,
   "metadata": {
    "ExecuteTime": {
     "end_time": "2019-09-05T14:38:57.106590Z",
     "start_time": "2019-09-05T14:38:56.903899Z"
    }
   },
   "outputs": [],
   "source": [
    "def do_update(driver, tipo_manifesto):\n",
    "    if tipo_manifesto == 'VAZIO':\n",
    "            conteineres_ids = raspa_due.raspa_containers_vazios_sem_due(\n",
    "            datainicial, datafinal)\n",
    "    else:\n",
    "        conteineres_ids = raspa_due.raspa_containers_sem_due(\n",
    "            datainicial, datafinal, tipo_manifesto)\n",
    "    print('%s contêineres a consultar em POS ACD' % len(conteineres_ids))\n",
    "    conteineres_listadue = raspa_due.get_dues_pos_acd(driver, list(conteineres_ids.keys()))\n",
    "    setdues = set()\n",
    "    for conteiner, dues in conteineres_listadue.items():\n",
    "        for due in dues:\n",
    "            setdues.add(due)\n",
    "    print('%s contêineres a consultar em DUE DETALHE' % len(setdues))\n",
    "    due_detalhe = raspa_due.detalha_dues(driver, conteineres_listadue)\n",
    "    print(len(due_detalhe))\n",
    "    pacote_carregamento = {}\n",
    "    for conteiner, numeros_dues in conteineres_listadue.items():\n",
    "        _id = conteineres_ids[conteiner]\n",
    "        lista_dues = []\n",
    "        for due in numeros_dues:\n",
    "            if due is not None:\n",
    "                pacote = raspa_due.monta_due_ajna(due_detalhe[due])\n",
    "                lista_dues.append({'numero': due, **pacote})\n",
    "        if numeros_dues and len(numeros_dues) > 0:\n",
    "            pacote_carregamento[_id] = lista_dues\n",
    "    print('Inserindo %d dues...' % len(pacote_carregamento))\n",
    "    r = requests.post(VIRASANA_URL + \"dues/update\", json=pacote_carregamento, verify=False)\n",
    "    print(r.status_code)\n",
    "    print(r.text)"
   ]
  },
  {
   "cell_type": "code",
   "execution_count": 3,
   "metadata": {},
   "outputs": [
    {
     "name": "stdout",
     "output_type": "stream",
     "text": [
      "2022-12-08  00:00:00 2022-12-08 23:59:59\n"
     ]
    }
   ],
   "source": [
    "diaapesquisar = datetime.today() - timedelta(days=0)\n",
    "datainicial = datetime.strftime(datetime.combine(diaapesquisar, time.min), '%Y-%m-%d  %H:%M:%S')\n",
    "datafinal = datetime.strftime(datetime.combine(diaapesquisar, time.max), '%Y-%m-%d %H:%M:%S')\n",
    "print(datainicial, datafinal)"
   ]
  },
  {
   "cell_type": "code",
   "execution_count": 4,
   "metadata": {},
   "outputs": [],
   "source": [
    "#driver.close()\n"
   ]
  },
  {
   "cell_type": "code",
   "execution_count": 5,
   "metadata": {},
   "outputs": [
    {
     "ename": "SessionNotCreatedException",
     "evalue": "Message: session not created: This version of ChromeDriver only supports Chrome version 105\nCurrent browser version is 107.0.5304.88 with binary path C:\\Program Files (x86)\\Google\\Chrome\\Application\\chrome.exe\nStacktrace:\nBacktrace:\n\tOrdinal0 [0x0069DF13+2219795]\n\tOrdinal0 [0x00632841+1779777]\n\tOrdinal0 [0x0054423D+803389]\n\tOrdinal0 [0x005664AC+943276]\n\tOrdinal0 [0x005619F0+924144]\n\tOrdinal0 [0x0055F179+913785]\n\tOrdinal0 [0x005936B9+1128121]\n\tOrdinal0 [0x0059331A+1127194]\n\tOrdinal0 [0x0058E616+1107478]\n\tOrdinal0 [0x00567F89+950153]\n\tOrdinal0 [0x00568F56+954198]\n\tGetHandleVerifier [0x00992CB2+3040210]\n\tGetHandleVerifier [0x00982BB4+2974420]\n\tGetHandleVerifier [0x00736A0A+565546]\n\tGetHandleVerifier [0x00735680+560544]\n\tOrdinal0 [0x00639A5C+1808988]\n\tOrdinal0 [0x0063E3A8+1827752]\n\tOrdinal0 [0x0063E495+1827989]\n\tOrdinal0 [0x006480A4+1867940]\n\tBaseThreadInitThunk [0x75EEFA29+25]\n\tRtlGetAppContainerNamedObjectPath [0x77837B5E+286]\n\tRtlGetAppContainerNamedObjectPath [0x77837B2E+238]\n",
     "output_type": "error",
     "traceback": [
      "\u001b[1;31m---------------------------------------------------------------------------\u001b[0m",
      "\u001b[1;31mSessionNotCreatedException\u001b[0m                Traceback (most recent call last)",
      "\u001b[1;32m<ipython-input-5-10fd196fa075>\u001b[0m in \u001b[0;36m<module>\u001b[1;34m\u001b[0m\n\u001b[0;32m      2\u001b[0m \u001b[1;31m#options.add_argument('--no-sandbox')\u001b[0m\u001b[1;33m\u001b[0m\u001b[1;33m\u001b[0m\u001b[1;33m\u001b[0m\u001b[0m\n\u001b[0;32m      3\u001b[0m \u001b[1;31m#options.add_argument('--disable-dev-shm-usage')\u001b[0m\u001b[1;33m\u001b[0m\u001b[1;33m\u001b[0m\u001b[1;33m\u001b[0m\u001b[0m\n\u001b[1;32m----> 4\u001b[1;33m \u001b[0mdriver\u001b[0m \u001b[1;33m=\u001b[0m \u001b[0mwebdriver\u001b[0m\u001b[1;33m.\u001b[0m\u001b[0mChrome\u001b[0m\u001b[1;33m(\u001b[0m\u001b[0mGECKO_PATH\u001b[0m\u001b[1;33m,\u001b[0m \u001b[0moptions\u001b[0m \u001b[1;33m=\u001b[0m \u001b[0moptions\u001b[0m\u001b[1;33m)\u001b[0m\u001b[1;33m\u001b[0m\u001b[1;33m\u001b[0m\u001b[0m\n\u001b[0m\u001b[0;32m      5\u001b[0m \u001b[1;31m# driver = webdriver.Chrome()\u001b[0m\u001b[1;33m\u001b[0m\u001b[1;33m\u001b[0m\u001b[1;33m\u001b[0m\u001b[0m\n\u001b[0;32m      6\u001b[0m \u001b[1;33m\u001b[0m\u001b[0m\n",
      "\u001b[1;32m~\\Anaconda3\\lib\\site-packages\\selenium\\webdriver\\chrome\\webdriver.py\u001b[0m in \u001b[0;36m__init__\u001b[1;34m(self, executable_path, port, options, service_args, desired_capabilities, service_log_path, chrome_options, service, keep_alive)\u001b[0m\n\u001b[0;32m     67\u001b[0m             \u001b[0mservice\u001b[0m \u001b[1;33m=\u001b[0m \u001b[0mService\u001b[0m\u001b[1;33m(\u001b[0m\u001b[0mexecutable_path\u001b[0m\u001b[1;33m,\u001b[0m \u001b[0mport\u001b[0m\u001b[1;33m,\u001b[0m \u001b[0mservice_args\u001b[0m\u001b[1;33m,\u001b[0m \u001b[0mservice_log_path\u001b[0m\u001b[1;33m)\u001b[0m\u001b[1;33m\u001b[0m\u001b[1;33m\u001b[0m\u001b[0m\n\u001b[0;32m     68\u001b[0m \u001b[1;33m\u001b[0m\u001b[0m\n\u001b[1;32m---> 69\u001b[1;33m         super().__init__(DesiredCapabilities.CHROME['browserName'], \"goog\",\n\u001b[0m\u001b[0;32m     70\u001b[0m                          \u001b[0mport\u001b[0m\u001b[1;33m,\u001b[0m \u001b[0moptions\u001b[0m\u001b[1;33m,\u001b[0m\u001b[1;33m\u001b[0m\u001b[1;33m\u001b[0m\u001b[0m\n\u001b[0;32m     71\u001b[0m                          \u001b[0mservice_args\u001b[0m\u001b[1;33m,\u001b[0m \u001b[0mdesired_capabilities\u001b[0m\u001b[1;33m,\u001b[0m\u001b[1;33m\u001b[0m\u001b[1;33m\u001b[0m\u001b[0m\n",
      "\u001b[1;32m~\\Anaconda3\\lib\\site-packages\\selenium\\webdriver\\chromium\\webdriver.py\u001b[0m in \u001b[0;36m__init__\u001b[1;34m(self, browser_name, vendor_prefix, port, options, service_args, desired_capabilities, service_log_path, service, keep_alive)\u001b[0m\n\u001b[0;32m     90\u001b[0m \u001b[1;33m\u001b[0m\u001b[0m\n\u001b[0;32m     91\u001b[0m         \u001b[1;32mtry\u001b[0m\u001b[1;33m:\u001b[0m\u001b[1;33m\u001b[0m\u001b[1;33m\u001b[0m\u001b[0m\n\u001b[1;32m---> 92\u001b[1;33m             super().__init__(\n\u001b[0m\u001b[0;32m     93\u001b[0m                 command_executor=ChromiumRemoteConnection(\n\u001b[0;32m     94\u001b[0m                     \u001b[0mremote_server_addr\u001b[0m\u001b[1;33m=\u001b[0m\u001b[0mself\u001b[0m\u001b[1;33m.\u001b[0m\u001b[0mservice\u001b[0m\u001b[1;33m.\u001b[0m\u001b[0mservice_url\u001b[0m\u001b[1;33m,\u001b[0m\u001b[1;33m\u001b[0m\u001b[1;33m\u001b[0m\u001b[0m\n",
      "\u001b[1;32m~\\Anaconda3\\lib\\site-packages\\selenium\\webdriver\\remote\\webdriver.py\u001b[0m in \u001b[0;36m__init__\u001b[1;34m(self, command_executor, desired_capabilities, browser_profile, proxy, keep_alive, file_detector, options)\u001b[0m\n\u001b[0;32m    270\u001b[0m         \u001b[0mself\u001b[0m\u001b[1;33m.\u001b[0m\u001b[0m_authenticator_id\u001b[0m \u001b[1;33m=\u001b[0m \u001b[1;32mNone\u001b[0m\u001b[1;33m\u001b[0m\u001b[1;33m\u001b[0m\u001b[0m\n\u001b[0;32m    271\u001b[0m         \u001b[0mself\u001b[0m\u001b[1;33m.\u001b[0m\u001b[0mstart_client\u001b[0m\u001b[1;33m(\u001b[0m\u001b[1;33m)\u001b[0m\u001b[1;33m\u001b[0m\u001b[1;33m\u001b[0m\u001b[0m\n\u001b[1;32m--> 272\u001b[1;33m         \u001b[0mself\u001b[0m\u001b[1;33m.\u001b[0m\u001b[0mstart_session\u001b[0m\u001b[1;33m(\u001b[0m\u001b[0mcapabilities\u001b[0m\u001b[1;33m,\u001b[0m \u001b[0mbrowser_profile\u001b[0m\u001b[1;33m)\u001b[0m\u001b[1;33m\u001b[0m\u001b[1;33m\u001b[0m\u001b[0m\n\u001b[0m\u001b[0;32m    273\u001b[0m \u001b[1;33m\u001b[0m\u001b[0m\n\u001b[0;32m    274\u001b[0m     \u001b[1;32mdef\u001b[0m \u001b[0m__repr__\u001b[0m\u001b[1;33m(\u001b[0m\u001b[0mself\u001b[0m\u001b[1;33m)\u001b[0m\u001b[1;33m:\u001b[0m\u001b[1;33m\u001b[0m\u001b[1;33m\u001b[0m\u001b[0m\n",
      "\u001b[1;32m~\\Anaconda3\\lib\\site-packages\\selenium\\webdriver\\remote\\webdriver.py\u001b[0m in \u001b[0;36mstart_session\u001b[1;34m(self, capabilities, browser_profile)\u001b[0m\n\u001b[0;32m    362\u001b[0m         \u001b[0mw3c_caps\u001b[0m \u001b[1;33m=\u001b[0m \u001b[0m_make_w3c_caps\u001b[0m\u001b[1;33m(\u001b[0m\u001b[0mcapabilities\u001b[0m\u001b[1;33m)\u001b[0m\u001b[1;33m\u001b[0m\u001b[1;33m\u001b[0m\u001b[0m\n\u001b[0;32m    363\u001b[0m         \u001b[0mparameters\u001b[0m \u001b[1;33m=\u001b[0m \u001b[1;33m{\u001b[0m\u001b[1;34m\"capabilities\"\u001b[0m\u001b[1;33m:\u001b[0m \u001b[0mw3c_caps\u001b[0m\u001b[1;33m}\u001b[0m\u001b[1;33m\u001b[0m\u001b[1;33m\u001b[0m\u001b[0m\n\u001b[1;32m--> 364\u001b[1;33m         \u001b[0mresponse\u001b[0m \u001b[1;33m=\u001b[0m \u001b[0mself\u001b[0m\u001b[1;33m.\u001b[0m\u001b[0mexecute\u001b[0m\u001b[1;33m(\u001b[0m\u001b[0mCommand\u001b[0m\u001b[1;33m.\u001b[0m\u001b[0mNEW_SESSION\u001b[0m\u001b[1;33m,\u001b[0m \u001b[0mparameters\u001b[0m\u001b[1;33m)\u001b[0m\u001b[1;33m\u001b[0m\u001b[1;33m\u001b[0m\u001b[0m\n\u001b[0m\u001b[0;32m    365\u001b[0m         \u001b[1;32mif\u001b[0m \u001b[1;34m'sessionId'\u001b[0m \u001b[1;32mnot\u001b[0m \u001b[1;32min\u001b[0m \u001b[0mresponse\u001b[0m\u001b[1;33m:\u001b[0m\u001b[1;33m\u001b[0m\u001b[1;33m\u001b[0m\u001b[0m\n\u001b[0;32m    366\u001b[0m             \u001b[0mresponse\u001b[0m \u001b[1;33m=\u001b[0m \u001b[0mresponse\u001b[0m\u001b[1;33m[\u001b[0m\u001b[1;34m'value'\u001b[0m\u001b[1;33m]\u001b[0m\u001b[1;33m\u001b[0m\u001b[1;33m\u001b[0m\u001b[0m\n",
      "\u001b[1;32m~\\Anaconda3\\lib\\site-packages\\selenium\\webdriver\\remote\\webdriver.py\u001b[0m in \u001b[0;36mexecute\u001b[1;34m(self, driver_command, params)\u001b[0m\n\u001b[0;32m    427\u001b[0m         \u001b[0mresponse\u001b[0m \u001b[1;33m=\u001b[0m \u001b[0mself\u001b[0m\u001b[1;33m.\u001b[0m\u001b[0mcommand_executor\u001b[0m\u001b[1;33m.\u001b[0m\u001b[0mexecute\u001b[0m\u001b[1;33m(\u001b[0m\u001b[0mdriver_command\u001b[0m\u001b[1;33m,\u001b[0m \u001b[0mparams\u001b[0m\u001b[1;33m)\u001b[0m\u001b[1;33m\u001b[0m\u001b[1;33m\u001b[0m\u001b[0m\n\u001b[0;32m    428\u001b[0m         \u001b[1;32mif\u001b[0m \u001b[0mresponse\u001b[0m\u001b[1;33m:\u001b[0m\u001b[1;33m\u001b[0m\u001b[1;33m\u001b[0m\u001b[0m\n\u001b[1;32m--> 429\u001b[1;33m             \u001b[0mself\u001b[0m\u001b[1;33m.\u001b[0m\u001b[0merror_handler\u001b[0m\u001b[1;33m.\u001b[0m\u001b[0mcheck_response\u001b[0m\u001b[1;33m(\u001b[0m\u001b[0mresponse\u001b[0m\u001b[1;33m)\u001b[0m\u001b[1;33m\u001b[0m\u001b[1;33m\u001b[0m\u001b[0m\n\u001b[0m\u001b[0;32m    430\u001b[0m             response['value'] = self._unwrap_value(\n\u001b[0;32m    431\u001b[0m                 response.get('value', None))\n",
      "\u001b[1;32m~\\Anaconda3\\lib\\site-packages\\selenium\\webdriver\\remote\\errorhandler.py\u001b[0m in \u001b[0;36mcheck_response\u001b[1;34m(self, response)\u001b[0m\n\u001b[0;32m    241\u001b[0m                 \u001b[0malert_text\u001b[0m \u001b[1;33m=\u001b[0m \u001b[0mvalue\u001b[0m\u001b[1;33m[\u001b[0m\u001b[1;34m'alert'\u001b[0m\u001b[1;33m]\u001b[0m\u001b[1;33m.\u001b[0m\u001b[0mget\u001b[0m\u001b[1;33m(\u001b[0m\u001b[1;34m'text'\u001b[0m\u001b[1;33m)\u001b[0m\u001b[1;33m\u001b[0m\u001b[1;33m\u001b[0m\u001b[0m\n\u001b[0;32m    242\u001b[0m             \u001b[1;32mraise\u001b[0m \u001b[0mexception_class\u001b[0m\u001b[1;33m(\u001b[0m\u001b[0mmessage\u001b[0m\u001b[1;33m,\u001b[0m \u001b[0mscreen\u001b[0m\u001b[1;33m,\u001b[0m \u001b[0mstacktrace\u001b[0m\u001b[1;33m,\u001b[0m \u001b[0malert_text\u001b[0m\u001b[1;33m)\u001b[0m  \u001b[1;31m# type: ignore[call-arg]  # mypy is not smart enough here\u001b[0m\u001b[1;33m\u001b[0m\u001b[1;33m\u001b[0m\u001b[0m\n\u001b[1;32m--> 243\u001b[1;33m         \u001b[1;32mraise\u001b[0m \u001b[0mexception_class\u001b[0m\u001b[1;33m(\u001b[0m\u001b[0mmessage\u001b[0m\u001b[1;33m,\u001b[0m \u001b[0mscreen\u001b[0m\u001b[1;33m,\u001b[0m \u001b[0mstacktrace\u001b[0m\u001b[1;33m)\u001b[0m\u001b[1;33m\u001b[0m\u001b[1;33m\u001b[0m\u001b[0m\n\u001b[0m",
      "\u001b[1;31mSessionNotCreatedException\u001b[0m: Message: session not created: This version of ChromeDriver only supports Chrome version 105\nCurrent browser version is 107.0.5304.88 with binary path C:\\Program Files (x86)\\Google\\Chrome\\Application\\chrome.exe\nStacktrace:\nBacktrace:\n\tOrdinal0 [0x0069DF13+2219795]\n\tOrdinal0 [0x00632841+1779777]\n\tOrdinal0 [0x0054423D+803389]\n\tOrdinal0 [0x005664AC+943276]\n\tOrdinal0 [0x005619F0+924144]\n\tOrdinal0 [0x0055F179+913785]\n\tOrdinal0 [0x005936B9+1128121]\n\tOrdinal0 [0x0059331A+1127194]\n\tOrdinal0 [0x0058E616+1107478]\n\tOrdinal0 [0x00567F89+950153]\n\tOrdinal0 [0x00568F56+954198]\n\tGetHandleVerifier [0x00992CB2+3040210]\n\tGetHandleVerifier [0x00982BB4+2974420]\n\tGetHandleVerifier [0x00736A0A+565546]\n\tGetHandleVerifier [0x00735680+560544]\n\tOrdinal0 [0x00639A5C+1808988]\n\tOrdinal0 [0x0063E3A8+1827752]\n\tOrdinal0 [0x0063E495+1827989]\n\tOrdinal0 [0x006480A4+1867940]\n\tBaseThreadInitThunk [0x75EEFA29+25]\n\tRtlGetAppContainerNamedObjectPath [0x77837B5E+286]\n\tRtlGetAppContainerNamedObjectPath [0x77837B2E+238]\n"
     ]
    }
   ],
   "source": [
    "options = webdriver.ChromeOptions()\n",
    "#options.add_argument('--no-sandbox')\n",
    "#options.add_argument('--disable-dev-shm-usage')\n",
    "driver = webdriver.Chrome(GECKO_PATH, options = options)\n",
    "# driver = webdriver.Chrome()\n",
    "\n",
    "\n",
    "driver.get(\"https://www.suiterfb.receita.fazenda\")\n",
    "driver.get(\"https://portalunico.siscomex.gov.br\")"
   ]
  },
  {
   "cell_type": "code",
   "execution_count": null,
   "metadata": {},
   "outputs": [],
   "source": [
    "js = '''var xhr = new XMLHttpRequest();\n",
    "xhr.open('POST', 'https://portalunico.siscomex.gov.br/portal/proxy/authenticate', false);\n",
    "xhr.setRequestHeader('Credential-Type', 'USUARIO_PORTAL');\n",
    "xhr.setRequestHeader('Role-Type', 'rfb');\n",
    "xhr.send('');\n",
    "return xhr.response;'''\n",
    "result = driver.execute_script(js);\n",
    "token = json.loads(result)['token']"
   ]
  },
  {
   "cell_type": "code",
   "execution_count": null,
   "metadata": {},
   "outputs": [],
   "source": [
    "from html import escape\n",
    "print(token)\n",
    "print(escape(token))"
   ]
  },
  {
   "cell_type": "code",
   "execution_count": null,
   "metadata": {},
   "outputs": [],
   "source": [
    "driver.get('https://portalunico.siscomex.gov.br/portal/#/')\n",
    "js = '''var xhr = new XMLHttpRequest();\n",
    "xhr.open('GET', 'https://portalunico.siscomex.gov.br/cct/#/consulta-estoque-pos-acd', false);\n",
    "xhr.setRequestHeader('Credential-Type', 'USUARIO_PORTAL');\n",
    "xhr.setRequestHeader('Role-Type', 'rfb');\n",
    "xhr.setRequestHeader('X-CSRF-Token', '%s');\n",
    "xhr.send('');\n",
    "return xhr.response;''' % escape(token)\n",
    "print(js)\n",
    "result = driver.execute_script(js);\n"
   ]
  },
  {
   "cell_type": "code",
   "execution_count": null,
   "metadata": {},
   "outputs": [],
   "source": [
    "import requests\n",
    "requests.get('https://portalunico.siscomex.gov.br/cct/api/deposito-carga/consultar-estoque-pos-acd?numeroConteiner')"
   ]
  },
  {
   "cell_type": "code",
   "execution_count": null,
   "metadata": {},
   "outputs": [],
   "source": []
  },
  {
   "cell_type": "code",
   "execution_count": null,
   "metadata": {},
   "outputs": [],
   "source": []
  },
  {
   "cell_type": "code",
   "execution_count": null,
   "metadata": {},
   "outputs": [],
   "source": [
    "print(result)"
   ]
  },
  {
   "cell_type": "code",
   "execution_count": null,
   "metadata": {},
   "outputs": [],
   "source": [
    "headers = {}\n",
    "for request in driver.requests:\n",
    "    headers = {*headers, *request.headers}\n",
    "print(headers)"
   ]
  },
  {
   "cell_type": "code",
   "execution_count": null,
   "metadata": {},
   "outputs": [],
   "source": [
    "def interceptor(request):\n",
    "    request.headers['Credential-Type'] = 'USUARIO_PORTAL'\n",
    "    request.headers['Role-Type'] = 'rfb'\n",
    "    request.method = 'POST'\n",
    "driver.request_interceptor = interceptor\n",
    "driver.get(\"https://portalunico.siscomex.gov.br/portal/proxy/authenticate\")\n",
    "\n"
   ]
  },
  {
   "cell_type": "code",
   "execution_count": null,
   "metadata": {},
   "outputs": [],
   "source": [
    "break!!!"
   ]
  },
  {
   "cell_type": "code",
   "execution_count": null,
   "metadata": {},
   "outputs": [],
   "source": [
    "driver = webdriver.Chrome(GECKO_PATH)\n",
    "try:\n",
    "    portal_url = 'https://portalunico.siscomex.gov.br/portal/'\n",
    "    driver.get(portal_url)\n",
    "    div_governo = driver.find_element_by_id('grp_governo')\n",
    "    div_governo.click()\n",
    "    li_rfb = driver.find_element_by_id(\"prf_rfb\")\n",
    "    li_rfb.click()\n",
    "    btn_certificado = driver.find_element_by_id(\"btn_certificado\")\n",
    "    btn_certificado.click()\n",
    "finally:\n",
    "    pass\n",
    "\n"
   ]
  },
  {
   "cell_type": "code",
   "execution_count": null,
   "metadata": {},
   "outputs": [],
   "source": [
    "driver.close"
   ]
  },
  {
   "cell_type": "code",
   "execution_count": null,
   "metadata": {},
   "outputs": [],
   "source": [
    "driver.requests[-1].headers\n"
   ]
  },
  {
   "cell_type": "code",
   "execution_count": null,
   "metadata": {},
   "outputs": [],
   "source": []
  },
  {
   "cell_type": "code",
   "execution_count": null,
   "metadata": {},
   "outputs": [],
   "source": []
  },
  {
   "cell_type": "code",
   "execution_count": null,
   "metadata": {},
   "outputs": [],
   "source": []
  },
  {
   "cell_type": "code",
   "execution_count": null,
   "metadata": {},
   "outputs": [],
   "source": [
    "driver.requests[-1].headers"
   ]
  },
  {
   "cell_type": "code",
   "execution_count": null,
   "metadata": {},
   "outputs": [],
   "source": [
    "for request in driver.requests:\n",
    "    if request.response:\n",
    "        print(\n",
    "            request.url,\n",
    "            request.response.status_code,\n",
    "            request.response.headers\n",
    "        )"
   ]
  },
  {
   "cell_type": "code",
   "execution_count": null,
   "metadata": {},
   "outputs": [],
   "source": [
    "headers"
   ]
  },
  {
   "cell_type": "code",
   "execution_count": null,
   "metadata": {},
   "outputs": [],
   "source": [
    "\n",
    "\"https://portalunico.siscomex.gov.br/portal/proxy/authenticate\""
   ]
  },
  {
   "cell_type": "code",
   "execution_count": null,
   "metadata": {},
   "outputs": [],
   "source": [
    "#driver = webdriver.Chrome(GECKO_PATH)\n",
    "try:\n",
    "    #raspa_due.auth_suite_rfb(driver)\n",
    "    do_update(driver, 'lce')\n",
    "    do_update(driver, None)\n",
    "    do_update(driver, 'VAZIO')\n",
    "finally:\n",
    "    pass\n",
    "    # driver.close()\n"
   ]
  },
  {
   "cell_type": "code",
   "execution_count": null,
   "metadata": {},
   "outputs": [],
   "source": [
    "params = {'query':\n",
    "               {'metadata.carga.conhecimento.conhecimento': '152005011610119',\n",
    "                 'metadata.contentType': 'image/jpeg',\n",
    "                'metadata.numeroinformado': 'PONU7791526'\n",
    "                 },\n",
    "          'projection':\n",
    "               {'_id': 1}\n",
    "         }\n",
    "r = requests.post('https://ajna.labin.rf08.srf/virasana/grid_data', json=params, verify=False)\n"
   ]
  },
  {
   "cell_type": "code",
   "execution_count": null,
   "metadata": {},
   "outputs": [],
   "source": [
    "r.content"
   ]
  },
  {
   "cell_type": "code",
   "execution_count": null,
   "metadata": {},
   "outputs": [],
   "source": [
    "lista = r.json()"
   ]
  },
  {
   "cell_type": "code",
   "execution_count": null,
   "metadata": {},
   "outputs": [],
   "source": [
    "_id = lista[0]['_id']"
   ]
  },
  {
   "cell_type": "code",
   "execution_count": null,
   "metadata": {},
   "outputs": [],
   "source": [
    "_id"
   ]
  },
  {
   "cell_type": "code",
   "execution_count": null,
   "metadata": {},
   "outputs": [],
   "source": [
    "params = {'query':\n",
    "               {'metadata.dataescaneamento': {'$gt': '2020-12-09 00:00:00'},\n",
    "                 'metadata.contentType': 'image/jpeg'},\n",
    "          'projection':\n",
    "               {'_id': 1}\n",
    "         }\n",
    "r = requests.post('https://ajna.labin.rf08.srf/virasana/grid_data', json=params, verify=False)\n",
    "r.content"
   ]
  },
  {
   "cell_type": "code",
   "execution_count": null,
   "metadata": {},
   "outputs": [],
   "source": [
    "import json \n",
    "from selenium.webdriver.chrome.options import Options\n",
    "\n",
    "options = Options()\n",
    "options.add_argument('--allow-running-insecure-content')\n",
    "options.add_argument('--ignore-certificate-errors')\n",
    "\n",
    "driver = webdriver.Chrome(GECKO_PATH, chrome_options=options)\n",
    "try:\n",
    "    r = driver.get('https://ajna.labin.rf08.srf/ajnaapi/api/login_certificado')\n",
    "    token = json.loads(raspa_due.limpa_pre(driver.page_source))['access_token']\n",
    "    print(token)\n",
    "finally:\n",
    "    driver.close()"
   ]
  },
  {
   "cell_type": "code",
   "execution_count": null,
   "metadata": {},
   "outputs": [],
   "source": [
    "headers = {'Authorization': f'Bearer {token}'}\n",
    "params = {'query':\n",
    "               {'metadata.numeroinformado': 'MSCU0109528',\n",
    "                 'metadata.contentType': 'image/jpeg'},\n",
    "          'projection':\n",
    "               {'_id': 1}\n",
    "         }\n",
    "r = requests.post('https://ajna.labin.rf08.srf/ajnaapi/api/grid_data', json=params, headers=headers, verify=False)\n",
    "r.content"
   ]
  },
  {
   "cell_type": "code",
   "execution_count": null,
   "metadata": {},
   "outputs": [],
   "source": [
    "_id = r.json()[0]['_id']\n",
    "r = requests.get(f'https://ajna.labin.rf08.srf/ajnaapi/api/image/{_id}', headers=headers, verify=False)\n",
    "r.content"
   ]
  },
  {
   "cell_type": "code",
   "execution_count": null,
   "metadata": {},
   "outputs": [],
   "source": []
  }
 ],
 "metadata": {
  "kernelspec": {
   "display_name": "Python 3",
   "language": "python",
   "name": "python3"
  },
  "language_info": {
   "codemirror_mode": {
    "name": "ipython",
    "version": 3
   },
   "file_extension": ".py",
   "mimetype": "text/x-python",
   "name": "python",
   "nbconvert_exporter": "python",
   "pygments_lexer": "ipython3",
   "version": "3.8.5"
  }
 },
 "nbformat": 4,
 "nbformat_minor": 2
}
