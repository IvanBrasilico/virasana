{
 "cells": [
  {
   "cell_type": "markdown",
   "metadata": {},
   "source": [
    "# Notebook para acesso ao Receita Data - dados de viajantes"
   ]
  },
  {
   "cell_type": "code",
   "execution_count": 1,
   "metadata": {},
   "outputs": [],
   "source": [
    "import getpass\n",
    "import pandas as pd\n",
    "from datalake_serpro import handler_dl"
   ]
  },
  {
   "cell_type": "code",
   "execution_count": 2,
   "metadata": {},
   "outputs": [
    {
     "name": "stdout",
     "output_type": "stream",
     "text": [
      "Senha para kinit 25052288840@DATALAKE.SERPRO:········\n"
     ]
    }
   ],
   "source": [
    "user = getpass.getuser() + '@DATALAKE.SERPRO'\n",
    "senha = getpass.getpass(f'Senha para kinit {user}:')"
   ]
  },
  {
   "cell_type": "code",
   "execution_count": 3,
   "metadata": {},
   "outputs": [
    {
     "name": "stdout",
     "output_type": "stream",
     "text": [
      "Password for 25052288840@DATALAKE.SERPRO: \r\n"
     ]
    }
   ],
   "source": [
    "commands = f'echo \"{senha}\" | /opt/anaconda3/bin/kinit {user}'\n",
    "! {commands}"
   ]
  },
  {
   "cell_type": "code",
   "execution_count": 4,
   "metadata": {},
   "outputs": [
    {
     "name": "stdout",
     "output_type": "stream",
     "text": [
      "Ticket cache: FILE:/tmp/krb5cc_1227403730\r\n",
      "Default principal: 25052288840@DATALAKE.SERPRO\r\n",
      "\r\n",
      "Valid starting       Expires              Service principal\r\n",
      "06/30/2021 14:20:40  07/01/2021 00:20:40  krbtgt/DATALAKE.SERPRO@DATALAKE.SERPRO\r\n",
      "\trenew until 07/07/2021 14:20:40\r\n"
     ]
    }
   ],
   "source": [
    "! /opt/anaconda3/bin/klist"
   ]
  },
  {
   "cell_type": "code",
   "execution_count": 5,
   "metadata": {},
   "outputs": [],
   "source": [
    "sql_dirf_2 = '''\n",
    "SELECT vlrs.dd_cd_bene_cpf, vl_rend_tributavel\n",
    "\n",
    "FROM dirf.wf_dirf_vlrs AS vlrs\n",
    "JOIN dirf.wd_dirf_decl AS decl ON (decl.nr_decl = vlrs.nr_decl)\n",
    "JOIN dirf.wd_dirf_decl_sit AS sit ON (decl.nr_decl_sit = sit.nr_dirf_decl_sit)\n",
    "LEFT JOIN dime.wd_rc_receitas AS dime_receitas ON (vlrs.nr_bene_receita=dime_receitas.nr_receita)\n",
    "\n",
    "WHERE vlrs.dd_cd_bene_cpf in (SELECT DISTINCT nr_impdr_expdr FROM coana.importacao_dsi WHERE dt_dia_regis > \"2020-06-01\")\n",
    "AND vlrs.nr_fpag_dt_ano_calendario = 2020\n",
    "AND vlrs.dd_cd_fpag_cnpj_est = '05526783000327'\n",
    "\n",
    "'''"
   ]
  },
  {
   "cell_type": "code",
   "execution_count": 6,
   "metadata": {},
   "outputs": [
    {
     "name": "stdout",
     "output_type": "stream",
     "text": [
      "Conectado ao Servidor impalaharfb.srv.datalake.serpro.\n"
     ]
    }
   ],
   "source": [
    "with handler_dl(DEBUG=True, timeout=300) as con:\n",
    "    df_dirfs_auxilio_geral = pd.read_sql(sql_dirf_2, con)"
   ]
  },
  {
   "cell_type": "code",
   "execution_count": 7,
   "metadata": {},
   "outputs": [],
   "source": [
    "df_dirfs_auxilio_geral_sum = df_dirfs_auxilio_geral.groupby(['dd_cd_bene_cpf'])['vl_rend_tributavel'].sum().reset_index()"
   ]
  },
  {
   "cell_type": "code",
   "execution_count": 8,
   "metadata": {},
   "outputs": [
    {
     "data": {
      "text/html": [
       "<div>\n",
       "<style scoped>\n",
       "    .dataframe tbody tr th:only-of-type {\n",
       "        vertical-align: middle;\n",
       "    }\n",
       "\n",
       "    .dataframe tbody tr th {\n",
       "        vertical-align: top;\n",
       "    }\n",
       "\n",
       "    .dataframe thead th {\n",
       "        text-align: right;\n",
       "    }\n",
       "</style>\n",
       "<table border=\"1\" class=\"dataframe\">\n",
       "  <thead>\n",
       "    <tr style=\"text-align: right;\">\n",
       "      <th></th>\n",
       "      <th>dd_cd_bene_cpf</th>\n",
       "      <th>vl_rend_tributavel</th>\n",
       "    </tr>\n",
       "  </thead>\n",
       "  <tbody>\n",
       "    <tr>\n",
       "      <th>0</th>\n",
       "      <td>00043226736</td>\n",
       "      <td>4200.0</td>\n",
       "    </tr>\n",
       "    <tr>\n",
       "      <th>1</th>\n",
       "      <td>00055245048</td>\n",
       "      <td>2400.0</td>\n",
       "    </tr>\n",
       "    <tr>\n",
       "      <th>2</th>\n",
       "      <td>00127758607</td>\n",
       "      <td>3900.0</td>\n",
       "    </tr>\n",
       "    <tr>\n",
       "      <th>3</th>\n",
       "      <td>00130934100</td>\n",
       "      <td>4200.0</td>\n",
       "    </tr>\n",
       "    <tr>\n",
       "      <th>4</th>\n",
       "      <td>00252028635</td>\n",
       "      <td>4200.0</td>\n",
       "    </tr>\n",
       "    <tr>\n",
       "      <th>...</th>\n",
       "      <td>...</td>\n",
       "      <td>...</td>\n",
       "    </tr>\n",
       "    <tr>\n",
       "      <th>692</th>\n",
       "      <td>98917021115</td>\n",
       "      <td>3900.0</td>\n",
       "    </tr>\n",
       "    <tr>\n",
       "      <th>693</th>\n",
       "      <td>99133890625</td>\n",
       "      <td>3844.0</td>\n",
       "    </tr>\n",
       "    <tr>\n",
       "      <th>694</th>\n",
       "      <td>99231425820</td>\n",
       "      <td>600.0</td>\n",
       "    </tr>\n",
       "    <tr>\n",
       "      <th>695</th>\n",
       "      <td>99448033591</td>\n",
       "      <td>4200.0</td>\n",
       "    </tr>\n",
       "    <tr>\n",
       "      <th>696</th>\n",
       "      <td>99821974368</td>\n",
       "      <td>4200.0</td>\n",
       "    </tr>\n",
       "  </tbody>\n",
       "</table>\n",
       "<p>697 rows × 2 columns</p>\n",
       "</div>"
      ],
      "text/plain": [
       "    dd_cd_bene_cpf  vl_rend_tributavel\n",
       "0      00043226736              4200.0\n",
       "1      00055245048              2400.0\n",
       "2      00127758607              3900.0\n",
       "3      00130934100              4200.0\n",
       "4      00252028635              4200.0\n",
       "..             ...                 ...\n",
       "692    98917021115              3900.0\n",
       "693    99133890625              3844.0\n",
       "694    99231425820               600.0\n",
       "695    99448033591              4200.0\n",
       "696    99821974368              4200.0\n",
       "\n",
       "[697 rows x 2 columns]"
      ]
     },
     "execution_count": 8,
     "metadata": {},
     "output_type": "execute_result"
    }
   ],
   "source": [
    "df_dirfs_auxilio_geral_sum"
   ]
  },
  {
   "cell_type": "code",
   "execution_count": 9,
   "metadata": {},
   "outputs": [
    {
     "data": {
      "text/plain": [
       "count     697.000000\n",
       "mean     3702.309900\n",
       "std      1246.898334\n",
       "min       600.000000\n",
       "25%      3300.000000\n",
       "50%      3900.000000\n",
       "75%      4200.000000\n",
       "max      8400.000000\n",
       "Name: vl_rend_tributavel, dtype: float64"
      ]
     },
     "execution_count": 9,
     "metadata": {},
     "output_type": "execute_result"
    }
   ],
   "source": [
    "df_dirfs_auxilio_geral_sum.vl_rend_tributavel.describe()"
   ]
  },
  {
   "cell_type": "code",
   "execution_count": 10,
   "metadata": {},
   "outputs": [
    {
     "data": {
      "text/plain": [
       "2580510.0"
      ]
     },
     "execution_count": 10,
     "metadata": {},
     "output_type": "execute_result"
    }
   ],
   "source": [
    "df_dirfs_auxilio_geral_sum.vl_rend_tributavel.sum()"
   ]
  },
  {
   "cell_type": "code",
   "execution_count": 11,
   "metadata": {},
   "outputs": [
    {
     "data": {
      "text/html": [
       "<div>\n",
       "<style scoped>\n",
       "    .dataframe tbody tr th:only-of-type {\n",
       "        vertical-align: middle;\n",
       "    }\n",
       "\n",
       "    .dataframe tbody tr th {\n",
       "        vertical-align: top;\n",
       "    }\n",
       "\n",
       "    .dataframe thead th {\n",
       "        text-align: right;\n",
       "    }\n",
       "</style>\n",
       "<table border=\"1\" class=\"dataframe\">\n",
       "  <thead>\n",
       "    <tr style=\"text-align: right;\">\n",
       "      <th></th>\n",
       "      <th>dd_cd_bene_cpf</th>\n",
       "      <th>vl_rend_tributavel</th>\n",
       "    </tr>\n",
       "  </thead>\n",
       "  <tbody>\n",
       "    <tr>\n",
       "      <th>0</th>\n",
       "      <td>23695918896</td>\n",
       "      <td>0.0</td>\n",
       "    </tr>\n",
       "    <tr>\n",
       "      <th>1</th>\n",
       "      <td>66967350625</td>\n",
       "      <td>0.0</td>\n",
       "    </tr>\n",
       "    <tr>\n",
       "      <th>2</th>\n",
       "      <td>91252768591</td>\n",
       "      <td>600.0</td>\n",
       "    </tr>\n",
       "    <tr>\n",
       "      <th>3</th>\n",
       "      <td>39139462846</td>\n",
       "      <td>0.0</td>\n",
       "    </tr>\n",
       "    <tr>\n",
       "      <th>4</th>\n",
       "      <td>04486097700</td>\n",
       "      <td>0.0</td>\n",
       "    </tr>\n",
       "  </tbody>\n",
       "</table>\n",
       "</div>"
      ],
      "text/plain": [
       "  dd_cd_bene_cpf  vl_rend_tributavel\n",
       "0    23695918896                 0.0\n",
       "1    66967350625                 0.0\n",
       "2    91252768591               600.0\n",
       "3    39139462846                 0.0\n",
       "4    04486097700                 0.0"
      ]
     },
     "execution_count": 11,
     "metadata": {},
     "output_type": "execute_result"
    }
   ],
   "source": [
    "df_dirfs_auxilio_geral.head()"
   ]
  },
  {
   "cell_type": "code",
   "execution_count": 12,
   "metadata": {},
   "outputs": [
    {
     "data": {
      "text/plain": [
       "697"
      ]
     },
     "execution_count": 12,
     "metadata": {},
     "output_type": "execute_result"
    }
   ],
   "source": [
    "len(set(df_dirfs_auxilio_geral.dd_cd_bene_cpf.values))"
   ]
  },
  {
   "cell_type": "code",
   "execution_count": 17,
   "metadata": {},
   "outputs": [],
   "source": [
    "sql_dirf_3 = '''\n",
    "SELECT vlrs.dd_cd_bene_cpf, vl_rend_tributavel\n",
    "\n",
    "FROM dirf.wf_dirf_vlrs AS vlrs\n",
    "JOIN dirf.wd_dirf_decl AS decl ON (decl.nr_decl = vlrs.nr_decl)\n",
    "JOIN dirf.wd_dirf_decl_sit AS sit ON (decl.nr_decl_sit = sit.nr_dirf_decl_sit)\n",
    "LEFT JOIN dime.wd_rc_receitas AS dime_receitas ON (vlrs.nr_bene_receita=dime_receitas.nr_receita)\n",
    "\n",
    "WHERE vlrs.dd_cd_bene_cpf in (SELECT DISTINCT nr_impdr_expdr FROM coana.importacao_dsi WHERE dt_dia_regis > \"2020-01-01\")\n",
    "AND vlrs.nr_fpag_dt_ano_calendario = 2020\n",
    "AND vlrs.dd_cd_fpag_cnpj_est = '05526783000327'\n",
    "\n",
    "'''"
   ]
  },
  {
   "cell_type": "code",
   "execution_count": 18,
   "metadata": {},
   "outputs": [
    {
     "name": "stdout",
     "output_type": "stream",
     "text": [
      "Conectado ao Servidor impalaharfb.srv.datalake.serpro.\n"
     ]
    }
   ],
   "source": [
    "with handler_dl(DEBUG=True, timeout=300) as con:\n",
    "    df_dirfs_auxilio_geral_ano_inteiro = pd.read_sql(sql_dirf_3, con)\n",
    "    \n",
    "df_dirfs_auxilio_geral_ano_sum = df_dirfs_auxilio_geral_ano_inteiro.groupby(['dd_cd_bene_cpf'])['vl_rend_tributavel'].sum().reset_index()\n"
   ]
  },
  {
   "cell_type": "code",
   "execution_count": 19,
   "metadata": {},
   "outputs": [
    {
     "data": {
      "text/plain": [
       "4462501.0"
      ]
     },
     "execution_count": 19,
     "metadata": {},
     "output_type": "execute_result"
    }
   ],
   "source": [
    "df_dirfs_auxilio_geral_ano_sum.vl_rend_tributavel.sum()"
   ]
  },
  {
   "cell_type": "code",
   "execution_count": 20,
   "metadata": {},
   "outputs": [
    {
     "data": {
      "text/plain": [
       "count    1200.000000\n",
       "mean     3718.750833\n",
       "std      1299.755780\n",
       "min       600.000000\n",
       "25%      3300.000000\n",
       "50%      3900.000000\n",
       "75%      4200.000000\n",
       "max      8400.000000\n",
       "Name: vl_rend_tributavel, dtype: float64"
      ]
     },
     "execution_count": 20,
     "metadata": {},
     "output_type": "execute_result"
    }
   ],
   "source": [
    "df_dirfs_auxilio_geral_ano_sum.vl_rend_tributavel.describe()"
   ]
  },
  {
   "cell_type": "code",
   "execution_count": 23,
   "metadata": {},
   "outputs": [
    {
     "name": "stdout",
     "output_type": "stream",
     "text": [
      "697 pessoas que registraram DSI a partir de 01/06/2020 receberam DIRF do  Ministério da Cidadania – CNPJ: 05.526.783/0003-27.\n",
      "Foram pagos a estas pessoas R$ 2,580,510.00 \n"
     ]
    }
   ],
   "source": [
    "print(f'{len(set(df_dirfs_auxilio_geral.dd_cd_bene_cpf.values))} pessoas que registraram DSI a partir de 01/06/2020 receberam DIRF do  Ministério da Cidadania – CNPJ: 05.526.783/0003-27.')\n",
    "print(f'Foram pagos a estas pessoas R$ {df_dirfs_auxilio_geral_sum.vl_rend_tributavel.sum():,.2f} ')"
   ]
  },
  {
   "cell_type": "code",
   "execution_count": 24,
   "metadata": {},
   "outputs": [
    {
     "name": "stdout",
     "output_type": "stream",
     "text": [
      "1200 pessoas registraram DSI a partir de 01/01/2020  receberam DIRF do  Ministério da Cidadania – CNPJ: 05.526.783/0003-27.\n",
      "Foram pagos a estas pessoas R$ 4,462,501.00 \n"
     ]
    }
   ],
   "source": [
    "print(f'{len(set(df_dirfs_auxilio_geral_ano_inteiro.dd_cd_bene_cpf.values))} pessoas registraram DSI a partir de 01/01/2020  receberam DIRF do  Ministério da Cidadania – CNPJ: 05.526.783/0003-27.')\n",
    "print(f'Foram pagos a estas pessoas R$ {df_dirfs_auxilio_geral_ano_sum.vl_rend_tributavel.sum():,.2f} ')"
   ]
  },
  {
   "cell_type": "code",
   "execution_count": null,
   "metadata": {},
   "outputs": [],
   "source": []
  }
 ],
 "metadata": {
  "kernelspec": {
   "display_name": "Python 3",
   "language": "python",
   "name": "python3"
  },
  "language_info": {
   "codemirror_mode": {
    "name": "ipython",
    "version": 3
   },
   "file_extension": ".py",
   "mimetype": "text/x-python",
   "name": "python",
   "nbconvert_exporter": "python",
   "pygments_lexer": "ipython3",
   "version": "3.6.8"
  }
 },
 "nbformat": 4,
 "nbformat_minor": 2
}
