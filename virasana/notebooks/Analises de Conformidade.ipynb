{
 "cells": [
  {
   "cell_type": "code",
   "execution_count": 1,
   "metadata": {},
   "outputs": [],
   "source": [
    "import os\n",
    "import pandas as pd\n",
    "import sys\n",
    "import time\n",
    "\n",
    "from PIL import Image\n",
    "from sqlalchemy import create_engine, func\n",
    "from sqlalchemy.orm import sessionmaker\n",
    "\n",
    "sys.path.append('../..')\n",
    "sys.path.append('../../../ajna_docs/commons')\n"
   ]
  },
  {
   "cell_type": "code",
   "execution_count": 2,
   "metadata": {},
   "outputs": [
    {
     "name": "stderr",
     "output_type": "stream",
     "text": [
      "2021-03-04 17:14:18,979 ajna         INFO     Configuração de log efetuada\n"
     ]
    },
    {
     "name": "stdout",
     "output_type": "stream",
     "text": [
      "Fazendo log de erros e alertas no arquivo  ../../../ajna_docs/commons\\ajna_commons\\flask\\error.log\n",
      "Fazendo log de atividade no arquivo  ../../../ajna_docs/commons\\ajna_commons\\flask\\access.log\n"
     ]
    }
   ],
   "source": [
    "from ajna_commons.flask.conf import SQL_URI\n",
    "from ajna_commons.utils.images import mongo_image\n",
    "from virasana.db import mongodb as db\n"
   ]
  },
  {
   "cell_type": "code",
   "execution_count": 3,
   "metadata": {},
   "outputs": [
    {
     "name": "stderr",
     "output_type": "stream",
     "text": [
      "2021-03-04 17:14:32,554 ajna         INFO     10 análises de conformidade complementadas em 0.7764837741851807 segundos.0.07764837741851807 por registro\n",
      "2021-03-04 17:14:32,963 ajna         INFO     0 isocode preenchidos em 0.3878445625305176 segundos.0 por registro\n"
     ]
    }
   ],
   "source": [
    "%load_ext autoreload \n",
    "%autoreload 2\n",
    "from virasana.integracao.conformidade_alchemy import Conformidade\n",
    "from virasana.scripts.conformidadeupdate import completa_conformidade, preenche_isocode\n",
    "engine = create_engine(SQL_URI)\n",
    "completa_conformidade(db, engine, 10)\n",
    "preenche_isocode(db, engine, 10)"
   ]
  },
  {
   "cell_type": "markdown",
   "metadata": {},
   "source": [
    "# Checagens de conformidade"
   ]
  },
  {
   "cell_type": "code",
   "execution_count": 4,
   "metadata": {},
   "outputs": [],
   "source": [
    "Session = sessionmaker(bind=engine)\n",
    "session = Session()"
   ]
  },
  {
   "cell_type": "code",
   "execution_count": 5,
   "metadata": {},
   "outputs": [],
   "source": [
    "rs = session.execute('SELECT count(*) FROM dbmercante.ajna_conformidade;')"
   ]
  },
  {
   "cell_type": "code",
   "execution_count": 6,
   "metadata": {},
   "outputs": [
    {
     "data": {
      "text/plain": [
       "118949"
      ]
     },
     "execution_count": 6,
     "metadata": {},
     "output_type": "execute_result"
    }
   ],
   "source": [
    "rs.scalar()"
   ]
  },
  {
   "cell_type": "code",
   "execution_count": 7,
   "metadata": {},
   "outputs": [],
   "source": [
    "SQL_CONFORMIDADE = '''\n",
    "select cod_recinto, count(*), avg(height), std(height),\n",
    "SUM(if(height < 700, 1, 0)) / count(*) * 100 as height_baixo,\n",
    "avg(ratio), stddev(ratio),  min(ratio), max(ratio),\n",
    " SUM(if(ratio < 1.9, 1, 0)) / count(ratio) * 100 as ratio_baixo\n",
    " avg()\n",
    " from ajna_conformidade group by cod_recinto\n",
    " '''\n",
    "df = pd.read_sql(SQL_CONFORMIDADE, engine)"
   ]
  },
  {
   "cell_type": "code",
   "execution_count": 8,
   "metadata": {},
   "outputs": [
    {
     "data": {
      "text/html": [
       "<div>\n",
       "<style scoped>\n",
       "    .dataframe tbody tr th:only-of-type {\n",
       "        vertical-align: middle;\n",
       "    }\n",
       "\n",
       "    .dataframe tbody tr th {\n",
       "        vertical-align: top;\n",
       "    }\n",
       "\n",
       "    .dataframe thead th {\n",
       "        text-align: right;\n",
       "    }\n",
       "</style>\n",
       "<table border=\"1\" class=\"dataframe\">\n",
       "  <thead>\n",
       "    <tr style=\"text-align: right;\">\n",
       "      <th></th>\n",
       "      <th>cod_recinto</th>\n",
       "      <th>count(*)</th>\n",
       "      <th>avg(height)</th>\n",
       "      <th>std(height)</th>\n",
       "      <th>height_baixo</th>\n",
       "      <th>avg(ratio)</th>\n",
       "      <th>stddev(ratio)</th>\n",
       "      <th>min(ratio)</th>\n",
       "      <th>max(ratio)</th>\n",
       "      <th>ratio_baixo</th>\n",
       "    </tr>\n",
       "  </thead>\n",
       "  <tbody>\n",
       "    <tr>\n",
       "      <th>0</th>\n",
       "      <td>BANDEIRANTES</td>\n",
       "      <td>1473</td>\n",
       "      <td>799.3530</td>\n",
       "      <td>0.4779</td>\n",
       "      <td>0.0000</td>\n",
       "      <td>2.424963</td>\n",
       "      <td>0.699565</td>\n",
       "      <td>1.00</td>\n",
       "      <td>5.73</td>\n",
       "      <td>22.1996</td>\n",
       "    </tr>\n",
       "    <tr>\n",
       "      <th>1</th>\n",
       "      <td>BTP1</td>\n",
       "      <td>26472</td>\n",
       "      <td>799.0281</td>\n",
       "      <td>0.1652</td>\n",
       "      <td>0.0000</td>\n",
       "      <td>2.660038</td>\n",
       "      <td>0.506592</td>\n",
       "      <td>0.92</td>\n",
       "      <td>6.02</td>\n",
       "      <td>4.7220</td>\n",
       "    </tr>\n",
       "    <tr>\n",
       "      <th>2</th>\n",
       "      <td>BTP2</td>\n",
       "      <td>12030</td>\n",
       "      <td>799.0273</td>\n",
       "      <td>0.1631</td>\n",
       "      <td>0.0000</td>\n",
       "      <td>2.330207</td>\n",
       "      <td>0.442615</td>\n",
       "      <td>0.93</td>\n",
       "      <td>5.53</td>\n",
       "      <td>14.7631</td>\n",
       "    </tr>\n",
       "    <tr>\n",
       "      <th>3</th>\n",
       "      <td>CRAGEA</td>\n",
       "      <td>640</td>\n",
       "      <td>879.9313</td>\n",
       "      <td>0.2530</td>\n",
       "      <td>0.0000</td>\n",
       "      <td>2.173406</td>\n",
       "      <td>0.497891</td>\n",
       "      <td>0.45</td>\n",
       "      <td>3.69</td>\n",
       "      <td>10.4688</td>\n",
       "    </tr>\n",
       "    <tr>\n",
       "      <th>4</th>\n",
       "      <td>DEICMAR</td>\n",
       "      <td>3712</td>\n",
       "      <td>799.0709</td>\n",
       "      <td>0.2576</td>\n",
       "      <td>0.0000</td>\n",
       "      <td>1.674068</td>\n",
       "      <td>0.443253</td>\n",
       "      <td>0.56</td>\n",
       "      <td>4.24</td>\n",
       "      <td>77.1282</td>\n",
       "    </tr>\n",
       "    <tr>\n",
       "      <th>5</th>\n",
       "      <td>ECOPORTO</td>\n",
       "      <td>4567</td>\n",
       "      <td>798.6173</td>\n",
       "      <td>15.3648</td>\n",
       "      <td>0.0657</td>\n",
       "      <td>2.675640</td>\n",
       "      <td>0.558109</td>\n",
       "      <td>0.04</td>\n",
       "      <td>12.28</td>\n",
       "      <td>3.5472</td>\n",
       "    </tr>\n",
       "    <tr>\n",
       "      <th>6</th>\n",
       "      <td>EMBRAPORT</td>\n",
       "      <td>15147</td>\n",
       "      <td>799.3143</td>\n",
       "      <td>0.4642</td>\n",
       "      <td>0.0000</td>\n",
       "      <td>4.614376</td>\n",
       "      <td>0.969757</td>\n",
       "      <td>1.30</td>\n",
       "      <td>10.77</td>\n",
       "      <td>0.1915</td>\n",
       "    </tr>\n",
       "    <tr>\n",
       "      <th>7</th>\n",
       "      <td>EUDMARCO</td>\n",
       "      <td>1969</td>\n",
       "      <td>213.2743</td>\n",
       "      <td>110.0341</td>\n",
       "      <td>96.3941</td>\n",
       "      <td>3.963174</td>\n",
       "      <td>0.216554</td>\n",
       "      <td>2.49</td>\n",
       "      <td>4.00</td>\n",
       "      <td>0.0000</td>\n",
       "    </tr>\n",
       "    <tr>\n",
       "      <th>8</th>\n",
       "      <td>LOCALFRIO</td>\n",
       "      <td>4994</td>\n",
       "      <td>799.0012</td>\n",
       "      <td>0.0400</td>\n",
       "      <td>0.0000</td>\n",
       "      <td>2.202171</td>\n",
       "      <td>0.221436</td>\n",
       "      <td>0.60</td>\n",
       "      <td>3.52</td>\n",
       "      <td>3.1237</td>\n",
       "    </tr>\n",
       "    <tr>\n",
       "      <th>9</th>\n",
       "      <td>MARIMEX</td>\n",
       "      <td>5068</td>\n",
       "      <td>799.0294</td>\n",
       "      <td>0.1689</td>\n",
       "      <td>0.0000</td>\n",
       "      <td>2.562121</td>\n",
       "      <td>0.614017</td>\n",
       "      <td>1.05</td>\n",
       "      <td>5.87</td>\n",
       "      <td>10.7143</td>\n",
       "    </tr>\n",
       "    <tr>\n",
       "      <th>10</th>\n",
       "      <td>NOVALOG</td>\n",
       "      <td>2974</td>\n",
       "      <td>798.9684</td>\n",
       "      <td>1.0500</td>\n",
       "      <td>0.0000</td>\n",
       "      <td>2.216063</td>\n",
       "      <td>0.264646</td>\n",
       "      <td>0.02</td>\n",
       "      <td>2.97</td>\n",
       "      <td>6.6577</td>\n",
       "    </tr>\n",
       "    <tr>\n",
       "      <th>11</th>\n",
       "      <td>SBT</td>\n",
       "      <td>38299</td>\n",
       "      <td>799.0260</td>\n",
       "      <td>0.1592</td>\n",
       "      <td>0.0000</td>\n",
       "      <td>2.547022</td>\n",
       "      <td>0.526261</td>\n",
       "      <td>0.77</td>\n",
       "      <td>6.44</td>\n",
       "      <td>8.3893</td>\n",
       "    </tr>\n",
       "    <tr>\n",
       "      <th>12</th>\n",
       "      <td>TRANSBRASA</td>\n",
       "      <td>1604</td>\n",
       "      <td>799.0343</td>\n",
       "      <td>0.1820</td>\n",
       "      <td>0.0000</td>\n",
       "      <td>2.317095</td>\n",
       "      <td>0.551945</td>\n",
       "      <td>1.08</td>\n",
       "      <td>4.77</td>\n",
       "      <td>18.6409</td>\n",
       "    </tr>\n",
       "  </tbody>\n",
       "</table>\n",
       "</div>"
      ],
      "text/plain": [
       "     cod_recinto  count(*)  avg(height)  std(height)  height_baixo  \\\n",
       "0   BANDEIRANTES      1473     799.3530       0.4779        0.0000   \n",
       "1           BTP1     26472     799.0281       0.1652        0.0000   \n",
       "2           BTP2     12030     799.0273       0.1631        0.0000   \n",
       "3         CRAGEA       640     879.9313       0.2530        0.0000   \n",
       "4        DEICMAR      3712     799.0709       0.2576        0.0000   \n",
       "5       ECOPORTO      4567     798.6173      15.3648        0.0657   \n",
       "6      EMBRAPORT     15147     799.3143       0.4642        0.0000   \n",
       "7       EUDMARCO      1969     213.2743     110.0341       96.3941   \n",
       "8      LOCALFRIO      4994     799.0012       0.0400        0.0000   \n",
       "9        MARIMEX      5068     799.0294       0.1689        0.0000   \n",
       "10       NOVALOG      2974     798.9684       1.0500        0.0000   \n",
       "11           SBT     38299     799.0260       0.1592        0.0000   \n",
       "12    TRANSBRASA      1604     799.0343       0.1820        0.0000   \n",
       "\n",
       "    avg(ratio)  stddev(ratio)  min(ratio)  max(ratio)  ratio_baixo  \n",
       "0     2.424963       0.699565        1.00        5.73      22.1996  \n",
       "1     2.660038       0.506592        0.92        6.02       4.7220  \n",
       "2     2.330207       0.442615        0.93        5.53      14.7631  \n",
       "3     2.173406       0.497891        0.45        3.69      10.4688  \n",
       "4     1.674068       0.443253        0.56        4.24      77.1282  \n",
       "5     2.675640       0.558109        0.04       12.28       3.5472  \n",
       "6     4.614376       0.969757        1.30       10.77       0.1915  \n",
       "7     3.963174       0.216554        2.49        4.00       0.0000  \n",
       "8     2.202171       0.221436        0.60        3.52       3.1237  \n",
       "9     2.562121       0.614017        1.05        5.87      10.7143  \n",
       "10    2.216063       0.264646        0.02        2.97       6.6577  \n",
       "11    2.547022       0.526261        0.77        6.44       8.3893  \n",
       "12    2.317095       0.551945        1.08        4.77      18.6409  "
      ]
     },
     "execution_count": 8,
     "metadata": {},
     "output_type": "execute_result"
    }
   ],
   "source": [
    "df"
   ]
  },
  {
   "cell_type": "code",
   "execution_count": null,
   "metadata": {},
   "outputs": [],
   "source": []
  },
  {
   "cell_type": "code",
   "execution_count": null,
   "metadata": {},
   "outputs": [],
   "source": []
  }
 ],
 "metadata": {
  "kernelspec": {
   "display_name": "Python 3",
   "language": "python",
   "name": "python3"
  },
  "language_info": {
   "codemirror_mode": {
    "name": "ipython",
    "version": 3
   },
   "file_extension": ".py",
   "mimetype": "text/x-python",
   "name": "python",
   "nbconvert_exporter": "python",
   "pygments_lexer": "ipython3",
   "version": "3.8.5"
  }
 },
 "nbformat": 4,
 "nbformat_minor": 4
}
