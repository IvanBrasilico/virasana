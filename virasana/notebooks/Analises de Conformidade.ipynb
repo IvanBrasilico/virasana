{
 "cells": [
  {
   "cell_type": "code",
   "execution_count": 1,
   "metadata": {},
   "outputs": [],
   "source": [
    "import os\n",
    "import pandas as pd\n",
    "import sys\n",
    "import time\n",
    "\n",
    "from PIL import Image\n",
    "from sqlalchemy import create_engine, func\n",
    "from sqlalchemy.orm import sessionmaker\n",
    "\n",
    "sys.path.append('../..')\n",
    "sys.path.append('../../../ajna_docs/commons')\n"
   ]
  },
  {
   "cell_type": "code",
   "execution_count": 2,
   "metadata": {},
   "outputs": [
    {
     "name": "stderr",
     "output_type": "stream",
     "text": [
      "2021-03-05 16:23:33,894 ajna         INFO     Configuração de log efetuada\n"
     ]
    },
    {
     "name": "stdout",
     "output_type": "stream",
     "text": [
      "Fazendo log de erros e alertas no arquivo  ../../../ajna_docs/commons\\ajna_commons\\flask\\error.log\n",
      "Fazendo log de atividade no arquivo  ../../../ajna_docs/commons\\ajna_commons\\flask\\access.log\n"
     ]
    }
   ],
   "source": [
    "from ajna_commons.flask.conf import SQL_URI\n",
    "from ajna_commons.utils.images import mongo_image\n",
    "from virasana.db import mongodb as db\n"
   ]
  },
  {
   "cell_type": "code",
   "execution_count": 3,
   "metadata": {},
   "outputs": [],
   "source": [
    "%load_ext autoreload \n",
    "%autoreload 2\n",
    "from virasana.integracao.conformidade_alchemy import Conformidade\n",
    "from virasana.scripts.conformidadeupdate import completa_conformidade, preenche_isocode, preenche_bbox\n",
    "engine = create_engine(SQL_URI)\n",
    "# completa_conformidade(db, engine, 200)\n",
    "# preenche_isocode(db, engine, 200)\n",
    "# preenche_bbox(db, engine, 20)"
   ]
  },
  {
   "cell_type": "markdown",
   "metadata": {},
   "source": [
    "# Checagens de conformidade"
   ]
  },
  {
   "cell_type": "code",
   "execution_count": 4,
   "metadata": {},
   "outputs": [],
   "source": [
    "Session = sessionmaker(bind=engine)\n",
    "session = Session()"
   ]
  },
  {
   "cell_type": "code",
   "execution_count": 5,
   "metadata": {},
   "outputs": [],
   "source": [
    "rs = session.execute('SELECT count(*) FROM dbmercante.ajna_conformidade;')"
   ]
  },
  {
   "cell_type": "code",
   "execution_count": 6,
   "metadata": {},
   "outputs": [
    {
     "data": {
      "text/plain": [
       "132543"
      ]
     },
     "execution_count": 6,
     "metadata": {},
     "output_type": "execute_result"
    }
   ],
   "source": [
    "rs.scalar()"
   ]
  },
  {
   "cell_type": "code",
   "execution_count": 7,
   "metadata": {},
   "outputs": [],
   "source": [
    "SQL_CONFORMIDADE = '''\n",
    "SELECT cod_recinto as Recinto, count(*) as \"Qtde de imagens\",\n",
    " CAST(avg(height) AS INT) as \"Linhas (média)\",\n",
    " CAST(avg(width) AS INT) as \"Colunas (média)\",\n",
    " avg(ratio) as \"Relação largura/altura (média)\",\n",
    " SUM(height < 700) / count(*) * 100 as \"% Tamanho pequeno\",\n",
    " SUM(ratio < 1.5) / count(ratio) * 100 as \"% relação abaixo 1.5\",\n",
    " avg(laplacian) as \"Índice de nitidez ou ruído\",\n",
    " avg(bbox_score) *100 as \"% Confiança da VC\",\n",
    " (sum(bbox_classe>=3) / count(*)) * 100 as \"% VC não encontra CC\"\n",
    " from ajna_conformidade \n",
    " group by cod_recinto\n",
    " '''"
   ]
  },
  {
   "cell_type": "code",
   "execution_count": 74,
   "metadata": {},
   "outputs": [],
   "source": [
    "df = pd.read_sql(SQL_CONFORMIDADE, engine)"
   ]
  },
  {
   "cell_type": "code",
   "execution_count": 76,
   "metadata": {},
   "outputs": [
    {
     "data": {
      "text/html": [
       "<div>\n",
       "<style scoped>\n",
       "    .dataframe tbody tr th:only-of-type {\n",
       "        vertical-align: middle;\n",
       "    }\n",
       "\n",
       "    .dataframe tbody tr th {\n",
       "        vertical-align: top;\n",
       "    }\n",
       "\n",
       "    .dataframe thead th {\n",
       "        text-align: right;\n",
       "    }\n",
       "</style>\n",
       "<table border=\"1\" class=\"dataframe\">\n",
       "  <thead>\n",
       "    <tr style=\"text-align: right;\">\n",
       "      <th></th>\n",
       "      <th>Recinto</th>\n",
       "      <th>Qtde de imagens</th>\n",
       "      <th>Linhas (média)</th>\n",
       "      <th>Colunas (média)</th>\n",
       "      <th>Relação largura/altura (média)</th>\n",
       "      <th>% Tamanho pequeno</th>\n",
       "      <th>% relação abaixo 1.5</th>\n",
       "      <th>Índice de nitidez ou ruído</th>\n",
       "      <th>% Confiança da VC</th>\n",
       "      <th>% VC não encontra CC</th>\n",
       "    </tr>\n",
       "  </thead>\n",
       "  <tbody>\n",
       "    <tr>\n",
       "      <th>0</th>\n",
       "      <td>BANDEIRANTES</td>\n",
       "      <td>1780</td>\n",
       "      <td>799</td>\n",
       "      <td>1920</td>\n",
       "      <td>2.4</td>\n",
       "      <td>0.0</td>\n",
       "      <td>4.0</td>\n",
       "      <td>78.9</td>\n",
       "      <td>95.3</td>\n",
       "      <td>2.3</td>\n",
       "    </tr>\n",
       "    <tr>\n",
       "      <th>1</th>\n",
       "      <td>BTP1</td>\n",
       "      <td>28219</td>\n",
       "      <td>799</td>\n",
       "      <td>2126</td>\n",
       "      <td>2.7</td>\n",
       "      <td>0.0</td>\n",
       "      <td>0.4</td>\n",
       "      <td>69.4</td>\n",
       "      <td>99.3</td>\n",
       "      <td>0.2</td>\n",
       "    </tr>\n",
       "    <tr>\n",
       "      <th>2</th>\n",
       "      <td>BTP2</td>\n",
       "      <td>13400</td>\n",
       "      <td>799</td>\n",
       "      <td>1861</td>\n",
       "      <td>2.3</td>\n",
       "      <td>0.0</td>\n",
       "      <td>1.2</td>\n",
       "      <td>88.8</td>\n",
       "      <td>97.9</td>\n",
       "      <td>0.8</td>\n",
       "    </tr>\n",
       "    <tr>\n",
       "      <th>3</th>\n",
       "      <td>CRAGEA</td>\n",
       "      <td>720</td>\n",
       "      <td>880</td>\n",
       "      <td>1921</td>\n",
       "      <td>2.2</td>\n",
       "      <td>0.0</td>\n",
       "      <td>7.8</td>\n",
       "      <td>171.2</td>\n",
       "      <td>98.4</td>\n",
       "      <td>0.1</td>\n",
       "    </tr>\n",
       "    <tr>\n",
       "      <th>4</th>\n",
       "      <td>DEICMAR</td>\n",
       "      <td>4238</td>\n",
       "      <td>799</td>\n",
       "      <td>1344</td>\n",
       "      <td>1.7</td>\n",
       "      <td>0.0</td>\n",
       "      <td>32.0</td>\n",
       "      <td>144.2</td>\n",
       "      <td>67.8</td>\n",
       "      <td>11.8</td>\n",
       "    </tr>\n",
       "    <tr>\n",
       "      <th>5</th>\n",
       "      <td>ECOPORTO</td>\n",
       "      <td>5238</td>\n",
       "      <td>799</td>\n",
       "      <td>2134</td>\n",
       "      <td>2.7</td>\n",
       "      <td>0.1</td>\n",
       "      <td>1.1</td>\n",
       "      <td>76.9</td>\n",
       "      <td>99.0</td>\n",
       "      <td>0.4</td>\n",
       "    </tr>\n",
       "    <tr>\n",
       "      <th>6</th>\n",
       "      <td>EMBRAPORT</td>\n",
       "      <td>17206</td>\n",
       "      <td>799</td>\n",
       "      <td>3687</td>\n",
       "      <td>4.6</td>\n",
       "      <td>0.0</td>\n",
       "      <td>0.0</td>\n",
       "      <td>396.3</td>\n",
       "      <td>97.9</td>\n",
       "      <td>1.2</td>\n",
       "    </tr>\n",
       "    <tr>\n",
       "      <th>7</th>\n",
       "      <td>EUDMARCO</td>\n",
       "      <td>2234</td>\n",
       "      <td>234</td>\n",
       "      <td>883</td>\n",
       "      <td>3.9</td>\n",
       "      <td>92.8</td>\n",
       "      <td>0.0</td>\n",
       "      <td>885.6</td>\n",
       "      <td>99.9</td>\n",
       "      <td>0.0</td>\n",
       "    </tr>\n",
       "    <tr>\n",
       "      <th>8</th>\n",
       "      <td>LOCALFRIO</td>\n",
       "      <td>5554</td>\n",
       "      <td>799</td>\n",
       "      <td>1761</td>\n",
       "      <td>2.2</td>\n",
       "      <td>0.0</td>\n",
       "      <td>1.5</td>\n",
       "      <td>86.7</td>\n",
       "      <td>97.8</td>\n",
       "      <td>0.8</td>\n",
       "    </tr>\n",
       "    <tr>\n",
       "      <th>9</th>\n",
       "      <td>MARIMEX</td>\n",
       "      <td>5836</td>\n",
       "      <td>799</td>\n",
       "      <td>2038</td>\n",
       "      <td>2.6</td>\n",
       "      <td>0.0</td>\n",
       "      <td>1.0</td>\n",
       "      <td>79.1</td>\n",
       "      <td>99.3</td>\n",
       "      <td>0.3</td>\n",
       "    </tr>\n",
       "    <tr>\n",
       "      <th>10</th>\n",
       "      <td>NOVALOG</td>\n",
       "      <td>3429</td>\n",
       "      <td>799</td>\n",
       "      <td>1769</td>\n",
       "      <td>2.2</td>\n",
       "      <td>0.0</td>\n",
       "      <td>3.2</td>\n",
       "      <td>233.9</td>\n",
       "      <td>95.0</td>\n",
       "      <td>1.7</td>\n",
       "    </tr>\n",
       "    <tr>\n",
       "      <th>11</th>\n",
       "      <td>SBT</td>\n",
       "      <td>42755</td>\n",
       "      <td>799</td>\n",
       "      <td>2037</td>\n",
       "      <td>2.5</td>\n",
       "      <td>0.0</td>\n",
       "      <td>0.9</td>\n",
       "      <td>67.7</td>\n",
       "      <td>98.9</td>\n",
       "      <td>0.4</td>\n",
       "    </tr>\n",
       "    <tr>\n",
       "      <th>12</th>\n",
       "      <td>TRANSBRASA</td>\n",
       "      <td>1934</td>\n",
       "      <td>799</td>\n",
       "      <td>1858</td>\n",
       "      <td>2.3</td>\n",
       "      <td>0.0</td>\n",
       "      <td>7.9</td>\n",
       "      <td>80.3</td>\n",
       "      <td>92.4</td>\n",
       "      <td>3.3</td>\n",
       "    </tr>\n",
       "  </tbody>\n",
       "</table>\n",
       "</div>"
      ],
      "text/plain": [
       "         Recinto  Qtde de imagens  Linhas (média)  Colunas (média)  \\\n",
       "0   BANDEIRANTES             1780             799             1920   \n",
       "1           BTP1            28219             799             2126   \n",
       "2           BTP2            13400             799             1861   \n",
       "3         CRAGEA              720             880             1921   \n",
       "4        DEICMAR             4238             799             1344   \n",
       "5       ECOPORTO             5238             799             2134   \n",
       "6      EMBRAPORT            17206             799             3687   \n",
       "7       EUDMARCO             2234             234              883   \n",
       "8      LOCALFRIO             5554             799             1761   \n",
       "9        MARIMEX             5836             799             2038   \n",
       "10       NOVALOG             3429             799             1769   \n",
       "11           SBT            42755             799             2037   \n",
       "12    TRANSBRASA             1934             799             1858   \n",
       "\n",
       "    Relação largura/altura (média)  % Tamanho pequeno  % relação abaixo 1.5  \\\n",
       "0                              2.4                0.0                   4.0   \n",
       "1                              2.7                0.0                   0.4   \n",
       "2                              2.3                0.0                   1.2   \n",
       "3                              2.2                0.0                   7.8   \n",
       "4                              1.7                0.0                  32.0   \n",
       "5                              2.7                0.1                   1.1   \n",
       "6                              4.6                0.0                   0.0   \n",
       "7                              3.9               92.8                   0.0   \n",
       "8                              2.2                0.0                   1.5   \n",
       "9                              2.6                0.0                   1.0   \n",
       "10                             2.2                0.0                   3.2   \n",
       "11                             2.5                0.0                   0.9   \n",
       "12                             2.3                0.0                   7.9   \n",
       "\n",
       "    Índice de nitidez ou ruído  % Confiança da VC  % VC não encontra CC  \n",
       "0                         78.9               95.3                   2.3  \n",
       "1                         69.4               99.3                   0.2  \n",
       "2                         88.8               97.9                   0.8  \n",
       "3                        171.2               98.4                   0.1  \n",
       "4                        144.2               67.8                  11.8  \n",
       "5                         76.9               99.0                   0.4  \n",
       "6                        396.3               97.9                   1.2  \n",
       "7                        885.6               99.9                   0.0  \n",
       "8                         86.7               97.8                   0.8  \n",
       "9                         79.1               99.3                   0.3  \n",
       "10                       233.9               95.0                   1.7  \n",
       "11                        67.7               98.9                   0.4  \n",
       "12                        80.3               92.4                   3.3  "
      ]
     },
     "execution_count": 76,
     "metadata": {},
     "output_type": "execute_result"
    }
   ],
   "source": [
    "pd.options.display.float_format = '{:,.1f}'.format\n",
    "df"
   ]
  },
  {
   "cell_type": "code",
   "execution_count": 77,
   "metadata": {},
   "outputs": [
    {
     "data": {
      "text/plain": [
       "array([['BANDEIRANTES', 1780, 799, 1920, 2.401938, 0.0, 3.9888, 78.87,\n",
       "        95.269058, 2.3034],\n",
       "       ['BTP1', 28219, 799, 2126, 2.66036, 0.0, 0.3756, 69.3545,\n",
       "        99.279239, 0.2091],\n",
       "       ['BTP2', 13400, 799, 1861, 2.32879, 0.0, 1.1791, 88.8297,\n",
       "        97.880769, 0.7985],\n",
       "       ['CRAGEA', 720, 880, 1921, 2.183694, 0.0, 7.7778, 171.1905,\n",
       "        98.412698, 0.1389],\n",
       "       ['DEICMAR', 4238, 799, 1344, 1.681654, 0.0, 31.9962, 144.2227,\n",
       "        67.774131, 11.8216],\n",
       "       ['ECOPORTO', 5238, 799, 2134, 2.672073, 0.0573, 1.05, 76.8807,\n",
       "        99.00232, 0.3627],\n",
       "       ['EMBRAPORT', 17206, 799, 3687, 4.613713, 0.0, 0.0058, 396.251,\n",
       "        97.920768, 1.2031],\n",
       "       ['EUDMARCO', 2234, 234, 883, 3.929624, 92.838, 0.0, 885.5676,\n",
       "        99.936224, 0.0],\n",
       "       ['LOCALFRIO', 5554, 799, 1761, 2.204316, 0.0, 1.4584, 86.6697,\n",
       "        97.846778, 0.8462],\n",
       "       ['MARIMEX', 5836, 799, 2038, 2.55019, 0.0, 0.9596, 79.1146,\n",
       "        99.316541, 0.2742],\n",
       "       ['NOVALOG', 3429, 799, 1769, 2.213975, 0.0, 3.2079, 233.9109,\n",
       "        95.029126, 1.7498],\n",
       "       ['SBT', 42755, 799, 2037, 2.549408, 0.0, 0.8607, 67.7374,\n",
       "        98.888255, 0.4421],\n",
       "       ['TRANSBRASA', 1934, 799, 1858, 2.325957, 0.0, 7.8594, 80.2953,\n",
       "        92.417767, 3.2575]], dtype=object)"
      ]
     },
     "execution_count": 77,
     "metadata": {},
     "output_type": "execute_result"
    }
   ],
   "source": [
    "df.values"
   ]
  },
  {
   "cell_type": "code",
   "execution_count": 78,
   "metadata": {},
   "outputs": [
    {
     "data": {
      "text/plain": [
       "Index(['Recinto', 'Qtde de imagens', 'Linhas (média)', 'Colunas (média)',\n",
       "       'Relação largura/altura (média)', '% Tamanho pequeno',\n",
       "       '% relação abaixo 1.5', 'Índice de nitidez ou ruído',\n",
       "       '% Confiança da VC', '% VC não encontra CC'],\n",
       "      dtype='object')"
      ]
     },
     "execution_count": 78,
     "metadata": {},
     "output_type": "execute_result"
    }
   ],
   "source": [
    "df.keys()"
   ]
  },
  {
   "cell_type": "code",
   "execution_count": 15,
   "metadata": {},
   "outputs": [],
   "source": [
    "rs = session.execute(SQL_CONFORMIDADE)"
   ]
  },
  {
   "cell_type": "code",
   "execution_count": 16,
   "metadata": {},
   "outputs": [
    {
     "data": {
      "text/plain": [
       "['Recinto',\n",
       " 'Qtde de imagens',\n",
       " 'Linhas (média)',\n",
       " 'Colunas (média)',\n",
       " 'Relação largura/altura (média)',\n",
       " '% Tamanho pequeno',\n",
       " '% relação abaixo 1.5',\n",
       " 'Índice de nitidez ou ruído',\n",
       " '% Confiança da VC',\n",
       " '% VC não encontra CC']"
      ]
     },
     "execution_count": 16,
     "metadata": {},
     "output_type": "execute_result"
    }
   ],
   "source": [
    "rs.keys()"
   ]
  },
  {
   "cell_type": "code",
   "execution_count": 17,
   "metadata": {},
   "outputs": [
    {
     "name": "stdout",
     "output_type": "stream",
     "text": [
      "['BANDEIRANTES', '1780', '799', '1920', '2.401938', '0.0000', '3.9888', '78.8700', '95.269058', '2.3034']\n",
      "['BTP1', '28219', '799', '2126', '2.660360', '0.0000', '0.3756', '69.3545', '99.279239', '0.2091']\n",
      "['BTP2', '13400', '799', '1861', '2.328790', '0.0000', '1.1791', '88.8297', '97.880769', '0.7985']\n",
      "['CRAGEA', '720', '880', '1921', '2.183694', '0.0000', '7.7778', '171.1905', '98.412698', '0.1389']\n",
      "['DEICMAR', '4238', '799', '1344', '1.681654', '0.0000', '31.9962', '144.2227', '67.774131', '11.8216']\n",
      "['ECOPORTO', '5238', '799', '2134', '2.672073', '0.0573', '1.0500', '76.8807', '99.002320', '0.3627']\n",
      "['EMBRAPORT', '17206', '799', '3687', '4.613713', '0.0000', '0.0058', '396.2510', '97.920768', '1.2031']\n",
      "['EUDMARCO', '2234', '234', '883', '3.929624', '92.8380', '0.0000', '885.5676', '99.936224', '0.0000']\n",
      "['LOCALFRIO', '5554', '799', '1761', '2.204316', '0.0000', '1.4584', '86.6697', '97.846778', '0.8462']\n",
      "['MARIMEX', '5836', '799', '2038', '2.550190', '0.0000', '0.9596', '79.1146', '99.316541', '0.2742']\n",
      "['NOVALOG', '3429', '799', '1769', '2.213975', '0.0000', '3.2079', '233.9109', '95.029126', '1.7498']\n",
      "['SBT', '42755', '799', '2037', '2.549408', '0.0000', '0.8607', '67.7374', '98.888255', '0.4421']\n",
      "['TRANSBRASA', '1934', '799', '1858', '2.325957', '0.0000', '7.8594', '80.2953', '92.417767', '3.2575']\n"
     ]
    }
   ],
   "source": [
    "for row in rs:\n",
    "    print([str(col) for col in row])\n"
   ]
  },
  {
   "cell_type": "code",
   "execution_count": null,
   "metadata": {},
   "outputs": [],
   "source": []
  }
 ],
 "metadata": {
  "kernelspec": {
   "display_name": "Python 3",
   "language": "python",
   "name": "python3"
  },
  "language_info": {
   "codemirror_mode": {
    "name": "ipython",
    "version": 3
   },
   "file_extension": ".py",
   "mimetype": "text/x-python",
   "name": "python",
   "nbconvert_exporter": "python",
   "pygments_lexer": "ipython3",
   "version": "3.8.5"
  }
 },
 "nbformat": 4,
 "nbformat_minor": 4
}
