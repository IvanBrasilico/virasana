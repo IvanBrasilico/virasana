{
 "cells": [
  {
   "cell_type": "code",
   "execution_count": 1,
   "metadata": {},
   "outputs": [],
   "source": [
    "import os\n",
    "import pandas as pd\n",
    "import sys\n",
    "import time\n",
    "\n",
    "from PIL import Image\n",
    "from sqlalchemy import create_engine, func\n",
    "from sqlalchemy.orm import sessionmaker\n",
    "\n",
    "sys.path.append('../..')\n",
    "sys.path.append('../../../ajna_docs/commons')\n"
   ]
  },
  {
   "cell_type": "code",
   "execution_count": 2,
   "metadata": {},
   "outputs": [
    {
     "name": "stderr",
     "output_type": "stream",
     "text": [
      "2021-03-05 11:02:01,515 ajna         INFO     Configuração de log efetuada\n"
     ]
    },
    {
     "name": "stdout",
     "output_type": "stream",
     "text": [
      "Fazendo log de erros e alertas no arquivo  ../../../ajna_docs/commons\\ajna_commons\\flask\\error.log\n",
      "Fazendo log de atividade no arquivo  ../../../ajna_docs/commons\\ajna_commons\\flask\\access.log\n"
     ]
    }
   ],
   "source": [
    "from ajna_commons.flask.conf import SQL_URI\n",
    "from ajna_commons.utils.images import mongo_image\n",
    "from virasana.db import mongodb as db\n"
   ]
  },
  {
   "cell_type": "code",
   "execution_count": 23,
   "metadata": {},
   "outputs": [
    {
     "name": "stdout",
     "output_type": "stream",
     "text": [
      "The autoreload extension is already loaded. To reload it, use:\n",
      "  %reload_ext autoreload\n",
      "2\n",
      "2\n",
      "1\n",
      "2\n",
      "1\n",
      "2\n",
      "2\n",
      "1\n",
      "1\n",
      "1\n",
      "2\n",
      "1\n",
      "1\n",
      "1\n",
      "2\n",
      "1\n",
      "1\n",
      "1\n",
      "1\n",
      "2\n"
     ]
    },
    {
     "name": "stderr",
     "output_type": "stream",
     "text": [
      "2021-03-05 11:22:27,353 ajna         INFO     20 bbox preenchidos em 5.685836315155029 segundos.0.2842918157577515 por registro\n"
     ]
    }
   ],
   "source": [
    "%load_ext autoreload \n",
    "%autoreload 2\n",
    "from virasana.integracao.conformidade_alchemy import Conformidade\n",
    "from virasana.scripts.conformidadeupdate import completa_conformidade, preenche_isocode, preenche_bbox\n",
    "engine = create_engine(SQL_URI)\n",
    "# completa_conformidade(db, engine, 200)\n",
    "# preenche_isocode(db, engine, 200)\n",
    "preenche_bbox(db, engine, 20)"
   ]
  },
  {
   "cell_type": "markdown",
   "metadata": {},
   "source": [
    "# Checagens de conformidade"
   ]
  },
  {
   "cell_type": "code",
   "execution_count": 6,
   "metadata": {},
   "outputs": [],
   "source": [
    "Session = sessionmaker(bind=engine)\n",
    "session = Session()"
   ]
  },
  {
   "cell_type": "code",
   "execution_count": 7,
   "metadata": {},
   "outputs": [],
   "source": [
    "rs = session.execute('SELECT count(*) FROM dbmercante.ajna_conformidade;')"
   ]
  },
  {
   "cell_type": "code",
   "execution_count": 8,
   "metadata": {},
   "outputs": [
    {
     "data": {
      "text/plain": [
       "124896"
      ]
     },
     "execution_count": 8,
     "metadata": {},
     "output_type": "execute_result"
    }
   ],
   "source": [
    "rs.scalar()"
   ]
  },
  {
   "cell_type": "code",
   "execution_count": 19,
   "metadata": {},
   "outputs": [],
   "source": [
    "SQL_CONFORMIDADE = '''\n",
    "SELECT cod_recinto as Recinto, count(*) as \"Qtde de imagens\",\n",
    " avg(height) as \"Linhas\",\n",
    " avg(width) as \"Colunas\",\n",
    " avg(ratio) as \"Relação largura/altura\",\n",
    " SUM(if(height < 700, 1, 0)) / count(*) * 100 as \"% Tamanho pequeno\",\n",
    " SUM(if(ratio < 1.9, 1, 0)) / count(ratio) * 100 as \"% relação abaixo 1.9\",\n",
    " avg(laplacian) as \"Índice de nitidez ou ruído\"\n",
    " from ajna_conformidade \n",
    " WHERE dataescaneamento BETWEEN \"2021-02-22\" AND \"2021-03-01\"\n",
    " group by cod_recinto\n",
    " '''\n",
    "df = pd.read_sql(SQL_CONFORMIDADE, engine)"
   ]
  },
  {
   "cell_type": "code",
   "execution_count": 20,
   "metadata": {},
   "outputs": [
    {
     "data": {
      "text/html": [
       "<div>\n",
       "<style scoped>\n",
       "    .dataframe tbody tr th:only-of-type {\n",
       "        vertical-align: middle;\n",
       "    }\n",
       "\n",
       "    .dataframe tbody tr th {\n",
       "        vertical-align: top;\n",
       "    }\n",
       "\n",
       "    .dataframe thead th {\n",
       "        text-align: right;\n",
       "    }\n",
       "</style>\n",
       "<table border=\"1\" class=\"dataframe\">\n",
       "  <thead>\n",
       "    <tr style=\"text-align: right;\">\n",
       "      <th></th>\n",
       "      <th>Recinto</th>\n",
       "      <th>Qtde de imagens</th>\n",
       "      <th>Linhas</th>\n",
       "      <th>Colunas</th>\n",
       "      <th>Relação largura/altura</th>\n",
       "      <th>% Tamanho pequeno</th>\n",
       "      <th>% relação abaixo 1.9</th>\n",
       "      <th>Índice de nitidez ou ruído</th>\n",
       "    </tr>\n",
       "  </thead>\n",
       "  <tbody>\n",
       "    <tr>\n",
       "      <th>0</th>\n",
       "      <td>BANDEIRANTES</td>\n",
       "      <td>388</td>\n",
       "      <td>799.3557</td>\n",
       "      <td>1956.3531</td>\n",
       "      <td>2.447706</td>\n",
       "      <td>0.0000</td>\n",
       "      <td>20.3608</td>\n",
       "      <td>113.5556</td>\n",
       "    </tr>\n",
       "    <tr>\n",
       "      <th>1</th>\n",
       "      <td>BTP1</td>\n",
       "      <td>5748</td>\n",
       "      <td>799.0303</td>\n",
       "      <td>2102.6667</td>\n",
       "      <td>2.631571</td>\n",
       "      <td>0.0000</td>\n",
       "      <td>5.5150</td>\n",
       "      <td>91.0452</td>\n",
       "    </tr>\n",
       "    <tr>\n",
       "      <th>2</th>\n",
       "      <td>BTP2</td>\n",
       "      <td>2450</td>\n",
       "      <td>799.0265</td>\n",
       "      <td>1858.0176</td>\n",
       "      <td>2.325355</td>\n",
       "      <td>0.0000</td>\n",
       "      <td>16.9796</td>\n",
       "      <td>112.6529</td>\n",
       "    </tr>\n",
       "    <tr>\n",
       "      <th>3</th>\n",
       "      <td>DEICMAR</td>\n",
       "      <td>727</td>\n",
       "      <td>799.0344</td>\n",
       "      <td>1351.1568</td>\n",
       "      <td>1.690922</td>\n",
       "      <td>0.0000</td>\n",
       "      <td>80.7428</td>\n",
       "      <td>131.3846</td>\n",
       "    </tr>\n",
       "    <tr>\n",
       "      <th>4</th>\n",
       "      <td>ECOPORTO</td>\n",
       "      <td>1188</td>\n",
       "      <td>798.9848</td>\n",
       "      <td>2125.6490</td>\n",
       "      <td>2.660362</td>\n",
       "      <td>0.0000</td>\n",
       "      <td>3.6195</td>\n",
       "      <td>85.4909</td>\n",
       "    </tr>\n",
       "    <tr>\n",
       "      <th>5</th>\n",
       "      <td>EMBRAPORT</td>\n",
       "      <td>3350</td>\n",
       "      <td>799.3319</td>\n",
       "      <td>3809.2457</td>\n",
       "      <td>4.766209</td>\n",
       "      <td>0.0000</td>\n",
       "      <td>0.1493</td>\n",
       "      <td>864.7500</td>\n",
       "    </tr>\n",
       "    <tr>\n",
       "      <th>6</th>\n",
       "      <td>EUDMARCO</td>\n",
       "      <td>445</td>\n",
       "      <td>287.4966</td>\n",
       "      <td>1022.6629</td>\n",
       "      <td>3.835888</td>\n",
       "      <td>83.8202</td>\n",
       "      <td>0.0000</td>\n",
       "      <td>1359.0000</td>\n",
       "    </tr>\n",
       "    <tr>\n",
       "      <th>7</th>\n",
       "      <td>LOCALFRIO</td>\n",
       "      <td>1286</td>\n",
       "      <td>799.0008</td>\n",
       "      <td>1753.0101</td>\n",
       "      <td>2.194456</td>\n",
       "      <td>0.0000</td>\n",
       "      <td>4.6656</td>\n",
       "      <td>112.8261</td>\n",
       "    </tr>\n",
       "    <tr>\n",
       "      <th>8</th>\n",
       "      <td>MARIMEX</td>\n",
       "      <td>1158</td>\n",
       "      <td>799.0294</td>\n",
       "      <td>1945.5181</td>\n",
       "      <td>2.434940</td>\n",
       "      <td>0.0000</td>\n",
       "      <td>12.5216</td>\n",
       "      <td>80.4545</td>\n",
       "    </tr>\n",
       "    <tr>\n",
       "      <th>9</th>\n",
       "      <td>NOVALOG</td>\n",
       "      <td>543</td>\n",
       "      <td>798.9448</td>\n",
       "      <td>1728.9337</td>\n",
       "      <td>2.164236</td>\n",
       "      <td>0.0000</td>\n",
       "      <td>12.7072</td>\n",
       "      <td>492.6667</td>\n",
       "    </tr>\n",
       "    <tr>\n",
       "      <th>10</th>\n",
       "      <td>SBT</td>\n",
       "      <td>9421</td>\n",
       "      <td>799.0271</td>\n",
       "      <td>2029.9623</td>\n",
       "      <td>2.540581</td>\n",
       "      <td>0.0000</td>\n",
       "      <td>7.4514</td>\n",
       "      <td>80.1128</td>\n",
       "    </tr>\n",
       "    <tr>\n",
       "      <th>11</th>\n",
       "      <td>TRANSBRASA</td>\n",
       "      <td>359</td>\n",
       "      <td>799.0418</td>\n",
       "      <td>1893.0446</td>\n",
       "      <td>2.369164</td>\n",
       "      <td>0.0000</td>\n",
       "      <td>14.7632</td>\n",
       "      <td>103.3333</td>\n",
       "    </tr>\n",
       "  </tbody>\n",
       "</table>\n",
       "</div>"
      ],
      "text/plain": [
       "         Recinto  Qtde de imagens    Linhas    Colunas  \\\n",
       "0   BANDEIRANTES              388  799.3557  1956.3531   \n",
       "1           BTP1             5748  799.0303  2102.6667   \n",
       "2           BTP2             2450  799.0265  1858.0176   \n",
       "3        DEICMAR              727  799.0344  1351.1568   \n",
       "4       ECOPORTO             1188  798.9848  2125.6490   \n",
       "5      EMBRAPORT             3350  799.3319  3809.2457   \n",
       "6       EUDMARCO              445  287.4966  1022.6629   \n",
       "7      LOCALFRIO             1286  799.0008  1753.0101   \n",
       "8        MARIMEX             1158  799.0294  1945.5181   \n",
       "9        NOVALOG              543  798.9448  1728.9337   \n",
       "10           SBT             9421  799.0271  2029.9623   \n",
       "11    TRANSBRASA              359  799.0418  1893.0446   \n",
       "\n",
       "    Relação largura/altura  % Tamanho pequeno  % relação abaixo 1.9  \\\n",
       "0                 2.447706             0.0000               20.3608   \n",
       "1                 2.631571             0.0000                5.5150   \n",
       "2                 2.325355             0.0000               16.9796   \n",
       "3                 1.690922             0.0000               80.7428   \n",
       "4                 2.660362             0.0000                3.6195   \n",
       "5                 4.766209             0.0000                0.1493   \n",
       "6                 3.835888            83.8202                0.0000   \n",
       "7                 2.194456             0.0000                4.6656   \n",
       "8                 2.434940             0.0000               12.5216   \n",
       "9                 2.164236             0.0000               12.7072   \n",
       "10                2.540581             0.0000                7.4514   \n",
       "11                2.369164             0.0000               14.7632   \n",
       "\n",
       "    Índice de nitidez ou ruído  \n",
       "0                     113.5556  \n",
       "1                      91.0452  \n",
       "2                     112.6529  \n",
       "3                     131.3846  \n",
       "4                      85.4909  \n",
       "5                     864.7500  \n",
       "6                    1359.0000  \n",
       "7                     112.8261  \n",
       "8                      80.4545  \n",
       "9                     492.6667  \n",
       "10                     80.1128  \n",
       "11                    103.3333  "
      ]
     },
     "execution_count": 20,
     "metadata": {},
     "output_type": "execute_result"
    }
   ],
   "source": [
    "df"
   ]
  },
  {
   "cell_type": "code",
   "execution_count": null,
   "metadata": {},
   "outputs": [],
   "source": []
  },
  {
   "cell_type": "code",
   "execution_count": null,
   "metadata": {},
   "outputs": [],
   "source": []
  }
 ],
 "metadata": {
  "kernelspec": {
   "display_name": "Python 3",
   "language": "python",
   "name": "python3"
  },
  "language_info": {
   "codemirror_mode": {
    "name": "ipython",
    "version": 3
   },
   "file_extension": ".py",
   "mimetype": "text/x-python",
   "name": "python",
   "nbconvert_exporter": "python",
   "pygments_lexer": "ipython3",
   "version": "3.8.5"
  }
 },
 "nbformat": 4,
 "nbformat_minor": 4
}
